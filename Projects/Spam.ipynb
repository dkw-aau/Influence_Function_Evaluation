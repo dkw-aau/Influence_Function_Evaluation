{
 "cells": [
  {
   "cell_type": "code",
   "execution_count": 1,
   "id": "0b7bdaab",
   "metadata": {},
   "outputs": [
    {
     "name": "stderr",
     "output_type": "stream",
     "text": [
      "2023-11-30 12:32:21.510075: I tensorflow/core/platform/cpu_feature_guard.cc:182] This TensorFlow binary is optimized to use available CPU instructions in performance-critical operations.\n",
      "To enable the following instructions: AVX2 FMA, in other operations, rebuild TensorFlow with the appropriate compiler flags.\n",
      "2023-11-30 12:32:22.645065: W tensorflow/compiler/tf2tensorrt/utils/py_utils.cc:38] TF-TRT Warning: Could not find TensorRT\n",
      "/user/cs.aau.dk/em63by/anaconda3/lib/python3.9/site-packages/scipy/__init__.py:155: UserWarning: A NumPy version >=1.18.5 and <1.25.0 is required for this version of SciPy (detected version 1.26.1\n",
      "  warnings.warn(f\"A NumPy version >={np_minversion} and <{np_maxversion}\"\n"
     ]
    }
   ],
   "source": [
    "import pandas as pd\n",
    "import pickle\n",
    "import torch\n",
    "from transformers import AutoTokenizer, AutoModel\n",
    "from tqdm import tqdm\n",
    "import matplotlib.transforms as mtrans\n",
    "import numpy as np\n",
    "from sklearn import linear_model\n",
    "from sklearn.model_selection import train_test_split\n",
    "from torch import nn\n",
    "from torch.utils import data\n",
    "from modules import *\n",
    "from base import BaseObjective\n",
    "from sklearn.metrics.pairwise import cosine_similarity\n",
    "from sklearn.preprocessing import MinMaxScaler\n",
    "from scipy.spatial.distance import cosine\n",
    "import matplotlib.pyplot as plt\n",
    "from sklearn.manifold import TSNE\n",
    "\n",
    "# Load the pre-trained BERT model and tokenizer \n",
    "# tokenizer = AutoTokenizer.from_pretrained('bert-base-uncased')\n",
    "# model = AutoModel.from_pretrained('bert-base-uncased')\n",
    "\n",
    "# # Create a sample dataframe with messages and their labels\n",
    "# df = pd.read_csv('data/spam.csv', encoding='ISO-8859-1', usecols=[0, 1]).rename(columns={'v2': 'message', 'v1': 'label'})\n",
    "\n",
    "# # Define a function to generate embeddings for a given message\n",
    "# def generate_embedding(message):\n",
    "#     # Tokenize the message and convert to tensors\n",
    "#     input_ids = torch.tensor([tokenizer.encode(message, add_special_tokens=True)])\n",
    "#     # Generate the BERT embeddings\n",
    "#     with torch.no_grad():\n",
    "#         outputs = model(input_ids)\n",
    "#         last_hidden_states = outputs.last_hidden_state[0]\n",
    "#     # Return the mean of the embedding vectors\n",
    "#     return torch.mean(last_hidden_states, dim=0)\n",
    "\n",
    "# # Apply the generate_embedding function to all messages in the dataframe\n",
    "# tqdm.pandas(desc=\"Processing rows\")\n",
    "# df['embedding'] = df['message'].progress_apply(generate_embedding)\n",
    "# df.to_pickle('data/spambert1.pkl')\n",
    "# # Print the updated dataframe\n",
    "# print(df)\n",
    "\n"
   ]
  },
  {
   "cell_type": "code",
   "execution_count": 2,
   "id": "6574c791",
   "metadata": {
    "scrolled": false
   },
   "outputs": [],
   "source": [
    "with open('data/spambert1.pkl', 'rb') as f:\n",
    "    df = pickle.load(f)\n",
    "\n",
    "# Load the pre-trained BERT model and tokenizer\n",
    "# tokenizer = AutoTokenizer.from_pretrained('bert-base-uncased')\n",
    "# model = AutoModel.from_pretrained('bert-base-uncased')\n",
    "\n",
    "# data1 = {\n",
    "#     'message': [\n",
    "# 'Désolé, je vais appeler plus tard',\n",
    "# 'Bravo! À vous le pass spécial cinéma 1 an pour 2. appelez le 09061209465 maintenant !',\n",
    "# \"Vous avez gagné un Nokia 7250i. C'est ce que vous obtenez lorsque vous remportez notre enchère GRATUITE. Pour participer, envoyez Nokia au 86021 maintenant. HG/Suite342/2Lands Row/W1JHL 16+\",\n",
    "# \"Wow... je t'aime tellement, tu sais ? Je peux à peine le supporter ! Je me demande comment se passe ta journée et si tu vas bien, mon amour... Je pense à toi et tu me manques\",\n",
    "# \"Faites-moi savoir comment cela change dans les 6 prochaines heures. Il peut même s'agir d'une appendice mais vous êtes en dehors de cette tranche d'âge. Cependant ce n'est pas impossible. Alors détends-toi et fais-moi savoir dans 6 heures\",\n",
    "# \"Carlos a mis du temps (encore), on part dans une minute\",\n",
    "# \"Gros courage a cette enfant en espérant que sa vu s'améliore avec le temps et n'écoute pas les moquerie\",\n",
    "# \"au moins il pourra pas voir la tristesse de ce monde... ( sans mauvais jeu de mot...) Je lui souhaite que du bonheur ;\",\n",
    "# \"Lorsque j'étais à l'école , j'avais aussi un handicap. J'étais autisme. Le jour où je comprends très bien que j'ai un problème, j'ai essayé d'être normal comme les autres. Maintenant, ça va mieux. \",\n",
    "# \"Mon dieux sa doit être difficile quand il va entrer au collège et lycée les autres vont se moquer de lui, j'espère qui va allez mieux\",\n",
    "# \"J'adore comment tout le monde parle des cheveux rose du profs mais pas vraiment du chien qui s'appelle Obi-fookin-Wan\",\n",
    "# \"Si Théo est malvoyant pourquoi ils ne le mettent pas au premier rang au lieu de le laisser au dernier rang ça pourra lui apporter une aide en plus de son ordinateur pour zoomer\",\n",
    "# \"petit suggestion : peut être que ça serait plus judicieux de le mettre au premier rang plutôt qu'au dernier s'il est malvoyant\",\n",
    "# \"Je le demande quesqui est le plus bizarre, un jeune homme qui vas à l'école avec son chien d'aveugle, ou le prof avec des cheveux\",\n",
    "# \"Moi aussi je suis malvoyant et Les conditions sont similaires pour moi les exercice et certains cours me sont fournies par le biais de l'outil informatique j'ai également une caméra vidéo agrandisseur pour voir au tableau l'avantage c'est que je peux travailler comme tout le monde\",\n",
    "# \"Très beau chien\",\n",
    "# \"C est genial bravo a cet etablissement\",\n",
    "# \"Les gens qui disent qu’il faut qu’ils le mette au premier rang, vous êtes bêtes ou vous le faites exprès ?\",\n",
    "# \"je vois pas de l’œil gauche mais dieux merci mon œil droit va bien heureusement qu’il est accepté comme il est\",\n",
    "# \"On m'explique pourquoi le gars on le met pas au premier rang devant le tableau si il voit mal\",\n",
    "# \"c'est un enfant comme tout le monde mais il est seul au recreation en effet il est vachement comme tous le monde au yeux des gens franchement arreter votre hypocrisie 2min\",\n",
    "# \"On en parle il est mal voyant et il l’on mit a l’arrière de la classe\",\n",
    "# \"Par contre vous ferez attention c’est « professeur de mathématiques » mathématique avec un s\",\n",
    "# \"Chuis la seule a être choquer par la couleur des cheveux du prof mdrr\",\n",
    "# \"Moi  aussi je vois pas de l'oeil gauche mais mon oeil gauche est parfait\",\n",
    "# \"À quelle moment un prof a une teinture roze\",\n",
    "# \"Ah, je comprends pas pourquoi tout le monde parle de la couleur des cheveux du prof?\",\n",
    "# \"Félicitations, vous avez gagné un iPhone X ! Cliquez ici pour réclamer votre prix !\",\n",
    "# \"Obtenez un prêt rapide et facile, même avec un mauvais crédit. Appelez dès maintenant !\",\n",
    "# \"Gagnez de l'argent rapidement en travaillant depuis chez vous ! Aucune expérience requise !\",\n",
    "# \"Votre compte bancaire a été suspendu. Cliquez ici pour le réactiver immédiatement.\",\n",
    "# \"Réduisez vos dettes en un rien de temps ! Contactez-nous pour une consultation gratuite.\",\n",
    "# \"Vous avez été sélectionné pour une offre spéciale : un voyage de rêve à prix réduit !\",\n",
    "# \"Gros lot de loterie international ! Vous êtes le gagnant, réclamez votre prix maintenant !\",\n",
    "# \"Votre ordinateur est infecté par un virus. Téléchargez notre logiciel de protection dès maintenant !\",\n",
    "# \"Gagnez de l'argent en ligne en regardant des publicités. Inscrivez-vous dès maintenant !\",\n",
    "# \"Vous avez été choisi pour une enquête exclusive. Répondez et recevez une carte-cadeau gratuite !\",\n",
    "# \"Bonjour, comment ça va aujourd'hui ?\",\n",
    "# \"Le soleil brille, c'est une belle journée !\",\n",
    "# \"J'ai hâte de te revoir bientôt !\",\n",
    "# \"As-tu des projets passionnants pour le week-end ?\",\n",
    "# \"La vie est belle, profitons-en au maximum !\",\n",
    "# \"Un café, s'il vous plaît, bien serré.\",\n",
    "# \"La musique adoucit les mœurs, n'est-ce pas ?\",\n",
    "# \"Quel est ton plat préféré ?\",\n",
    "# \"Rien de mieux qu'une soirée cinéma à la maison.\",\n",
    "# \"Joyeux anniversaire ! Que cette journée soit spéciale.\",\n",
    "# \"Je rêve de voyager à travers le monde un jour.\",\n",
    "# \"Savais-tu que les étoiles scintillent la nuit ?\",\n",
    "# \"Faisons une pause et dégustons du fromage et du vin.\",\n",
    "# \"La nature offre une beauté infinie à explorer.\",\n",
    "# \"Le rire est le meilleur remède contre le stress.\",\n",
    "# \"Les amis sont comme des étoiles, on ne les voit pas toujours, mais on sait qu'ils sont là.\",\n",
    "# \"La lecture est une porte ouverte vers un monde imaginaire.\",\n",
    "# \"Le chocolat, c'est la réponse, peu importe la question !\",\n",
    "# \"Chaque jour est une nouvelle aventure qui commence.\",\n",
    "# \"Apprécions les petites choses de la vie, elles font toute la différence.\",\n",
    "# \"Quelqu'un a contacté notre service de rencontres et a saisi votre téléphone parce que vous lui plaisez ! Pour savoir de qui il s'agit, appelez depuis un téléphone fixe le 09058098002\",\n",
    "# \"Mon amie, elle étudie à Warwick, nous avons prévu d'aller faire du shopping et d'aller à un concert, mais ça pourrait être annulé, je ne l'ai pas vu depuis des lustres, ouais, nous devrions nous voir un jour !\",\n",
    "# \"Vous avez été spécialement sélectionné pour recevoir une récompense de 2000 livres ! Appelez le 08712402050 AVANT la fermeture des lignes. Coût 10 ppm. 16+. Les conditions générales s'appliquent. AG Promo\",\n",
    "# \"Belle vérité contre la gravité.. Lisez attentivement : Votre cœur est léger quand quelqu'un est dedans.. Mais il est très lourd quand quelqu'un le quitte. BONJOUR\",\n",
    "# \"Votre compte PayPal a été suspendu. Connectez-vous immédiatement pour le réactiver.\"\n",
    "# \"Devenez millionnaire en 30 jours grâce à notre programme secret !\",\n",
    "# \"Gagnez de l'argent en dormant ! Découvrez notre méthode révolutionnaire !\",\n",
    "# \"Vous avez un message vocal non écouté. Cliquez ici pour l'écouter maintenant.\",\n",
    "# \"Réclamez votre réduction exclusive de 90 % sur tous les produits de santé !\",\n",
    "# \"Votre facture est en retard ! Cliquez ici pour régler la dette immédiatement.\",\n",
    "# \"Gagnez un voyage de luxe tout inclus pour deux personnes. Validez votre victoire ici !\",\n",
    "# \"Votre prêt personnel a été approuvé. Obtenez de l'argent rapidement !\",\n",
    "# \"Vous avez gagné un bon d'achat de 500 €. Réclamez-le maintenant en cliquant ici !\",\n",
    "# \"Recevez des médicaments bon marché sans ordonnance. Commandez dès aujourd'hui !\",\n",
    "# \"Obtenez une promotion spéciale sur des pilules pour maigrir. Perdez du poids rapidement !\",\n",
    "# \"Investissez dans cette opportunité en or ! Devenez riche en quelques semaines !\",\n",
    "# \"Vous avez gagné 1 million d'euros dans notre loterie internationale. Réclamez votre prix !\",\n",
    "# \"Votre compte en banque est en danger. Cliquez ici pour sécuriser vos informations.\",\n",
    "# \"Réductions exceptionnelles sur des montres de luxe. Ne ratez pas cette offre unique !\",\n",
    "# \"Gagnez de l'argent en ligne en suivant notre programme miracle. Inscription gratuite !\",\n",
    "# \"Vous avez été sélectionné pour une enquête rémunérée. Cliquez pour commencer !\",\n",
    "# \"Votre prêt personnel est prêt à être approuvé. Aucune vérification de crédit requise !\",\n",
    "# \"Gagnez un voyage de rêve pour deux dans les Caraïbes. Réservez maintenant !\",\n",
    "# \"Recevez des échantillons gratuits de produits de beauté. Inscrivez-vous dès maintenant !\",\n",
    "# \"Cher client, votre facture d'électricité pour le mois de septembre s'élève à 75 €.\",\n",
    "# \"Votre réservation de vol a été confirmée. Voici les détails de votre itinéraire.\",\n",
    "# \"Joyeux anniversaire ! Nous vous offrons une réduction spéciale de 10 % sur votre prochain achat.\",\n",
    "# \"La réunion de l'équipe est prévue demain à 10 h. Merci de confirmer votre présence.\",\n",
    "# \"Bonjour, c'est votre médecin. Votre rendez-vous de suivi est fixé au 20 septembre.\",\n",
    "# \"Votre colis a été expédié et sera livré demain. Suivez la livraison ici : [lien de suivi].\",\n",
    "# \"Votre abonnement au service de streaming a été renouvelé avec succès. Profitez de notre contenu.\",\n",
    "# \"Chers parents, l'école organise une réunion des parents d'élèves le 25 septembre à 18 h.\",\n",
    "# \"Merci de votre commande chez [Nom du restaurant]. Votre repas sera livré dans 30 minutes.\",\n",
    "# \"Vos points de fidélité ont été mis à jour. Vous avez maintenant 500 points à utiliser.\",\n",
    "# \"Gagnez de l'argent rapidement en travaillant de chez vous !\",\n",
    "# \"Vous avez gagné un iPhone X. Cliquez ici pour le réclamer !\",\n",
    "# \"Obtenez un prêt instantané sans vérification de crédit.\",\n",
    "# \"Votre compte bancaire a été suspendu. Réactivez-le maintenant.\",\n",
    "# \"Réductions incroyables sur les médicaments en ligne. Commandez dès aujourd'hui !\",\n",
    "# \"Devenez millionnaire en investissant dans notre entreprise.\",\n",
    "# \"Gagnez un voyage de luxe tout inclus pour deux. Réservez maintenant !\",\n",
    "# \"Votre prêt personnel est approuvé. Obtenez de l'argent rapidement !\",\n",
    "# \"Recevez un bon d'achat de 500 €. Réclamez-le en cliquant ici !\",\n",
    "# \"Ne ratez pas cette offre spéciale pour des produits de beauté gratuits !\",\n",
    "# \"Cher(e) client(e), votre relevé de compte pour août est maintenant disponible en ligne.\",\n",
    "# \"Votre vol a été confirmé pour le 15 septembre. Voici votre numéro de réservation : XXX123.\",\n",
    "# \"Merci d'avoir choisi notre service de streaming. Découvrez nos dernières séries et films !\",\n",
    "# \"La réunion du conseil d'administration est prévue le 22 septembre à 14 h. Agenda inclus.\",\n",
    "# \"Votre abonnement à la newsletter a été mis à jour. Restez informé de nos dernières actualités.\",\n",
    "# \"Votre commande chez [Nom du restaurant] est en route. Vous la recevrez sous peu.\",\n",
    "# \"Chers parents, l'école organise une vente de gâteaux le 30 septembre pour collecter des fonds.\",\n",
    "# \"Joyeux anniversaire ! Vous bénéficiez d'une remise de 20 % sur tous les produits aujourd'hui.\",\n",
    "# \"Votre colis est prêt à être expédié. Suivez la livraison avec ce lien de suivi : [lien].\",\n",
    "# \"Félicitations ! Vous avez accumulé suffisamment de points de récompense pour une réduction de 10 €.\"],\n",
    "    \n",
    "#     'label': [\"ham\" if i%4==1 else \"spam\" for i in range(110)]\n",
    "# }\n",
    "\n",
    "# new_row = pd.DataFrame(data1)\n",
    "\n",
    "\n",
    "# # Define a function to generate embeddings for a given message\n",
    "# def generate_embedding(message):\n",
    "#     # Tokenize the message and convert to tensors\n",
    "#     input_ids = torch.tensor([tokenizer.encode(message, add_special_tokens=True)])\n",
    "#     # Generate the BERT embeddings\n",
    "#     with torch.no_grad():\n",
    "#         outputs = model(input_ids)\n",
    "#         last_hidden_states = outputs.last_hidden_state[0]\n",
    "#     # Return the mean of the embedding vectors\n",
    "#     return torch.mean(last_hidden_states, dim=0)\n",
    "\n",
    "# # Apply the generate_embedding function to all messages in the dataframe\n",
    "# tqdm.pandas(desc=\"Processing rows\")\n",
    "# new_row['embedding'] = new_row['message'].progress_apply(generate_embedding)\n",
    "    \n",
    "# df = pd.concat([new_row,df.loc[:]]).reset_index(drop=True)\n",
    "df['label'] = df['label'].replace({'spam': 1, 'ham': 0})"
   ]
  },
  {
   "cell_type": "code",
   "execution_count": 3,
   "id": "54d54e05",
   "metadata": {},
   "outputs": [],
   "source": [
    "X=torch.stack(df.embedding.tolist())\n",
    "y=df.label\n",
    "\n",
    "X_train, X_test, Y_train, Y_test = train_test_split(X, y, test_size=0.2, random_state=30)\n",
    "# 54- birthdate"
   ]
  },
  {
   "cell_type": "code",
   "execution_count": 4,
   "id": "52f28f91",
   "metadata": {
    "scrolled": true
   },
   "outputs": [
    {
     "name": "stderr",
     "output_type": "stream",
     "text": [
      "/tmp/ipykernel_77008/4293265550.py:2: UserWarning: To copy construct from a tensor, it is recommended to use sourceTensor.clone().detach() or sourceTensor.clone().detach().requires_grad_(True), rather than torch.tensor(sourceTensor).\n",
      "  X_train = torch.tensor(X_train)\n",
      "/tmp/ipykernel_77008/4293265550.py:7: UserWarning: To copy construct from a tensor, it is recommended to use sourceTensor.clone().detach() or sourceTensor.clone().detach().requires_grad_(True), rather than torch.tensor(sourceTensor).\n",
      "  X_test = torch.tensor(X_test)\n"
     ]
    }
   ],
   "source": [
    "text_train = df.message[Y_train.index].tolist()\n",
    "X_train = torch.tensor(X_train)\n",
    "Y_train = torch.tensor(Y_train.tolist()).type('torch.FloatTensor')\n",
    "\n",
    "text_test = df.message[Y_test.index].tolist()\n",
    "Y_test = torch.tensor(Y_test.tolist()).type('torch.FloatTensor')\n",
    "X_test = torch.tensor(X_test)"
   ]
  },
  {
   "cell_type": "code",
   "execution_count": null,
   "id": "c1d980be",
   "metadata": {},
   "outputs": [],
   "source": [
    "Y_train[1]"
   ]
  },
  {
   "cell_type": "code",
   "execution_count": null,
   "id": "403b3321",
   "metadata": {},
   "outputs": [],
   "source": [
    "inx_rule=[i for i in range(len(Y_test)) if text_test[i] in data1[\"message\"]]     "
   ]
  },
  {
   "cell_type": "code",
   "execution_count": null,
   "id": "129dbc80",
   "metadata": {},
   "outputs": [],
   "source": [
    "inx_rule"
   ]
  },
  {
   "cell_type": "code",
   "execution_count": null,
   "id": "b5aeab94",
   "metadata": {},
   "outputs": [],
   "source": [
    "# rule2\n",
    "for i, j in enumerate(text_train):\n",
    "    if '?' in j and len(j)<30:\n",
    "        if i%4==1:\n",
    "            Y_train[i]=torch.tensor(1.0)\n",
    "        else:\n",
    "            Y_train[i]=torch.tensor(0.0)\n",
    "            \n",
    "for i, j in enumerate(text_test):\n",
    "    if '?' in j and len(j)<30:\n",
    "        if i%4==1:\n",
    "            Y_test[i]=torch.tensor(1.0)\n",
    "        else:\n",
    "            Y_test[i]=torch.tensor(0.0)\n",
    "        \n",
    "rule2test = [i for i, j in enumerate(text_test)\n",
    "         if '?' in j and len(j)<30]"
   ]
  },
  {
   "cell_type": "code",
   "execution_count": null,
   "id": "2821ae49",
   "metadata": {},
   "outputs": [],
   "source": []
  },
  {
   "cell_type": "code",
   "execution_count": 5,
   "id": "7a76235d",
   "metadata": {},
   "outputs": [],
   "source": [
    "# Rule 3\n",
    "import re\n",
    "pattern = r'\\d{4,}'\n",
    "\n",
    "for i, j in enumerate(text_test):\n",
    "    if re.search(pattern, j):\n",
    "        if i%4==1:\n",
    "            Y_test[i]=torch.tensor(1.0)\n",
    "        else:\n",
    "            Y_test[i]=torch.tensor(0.0)\n",
    "            \n",
    "for i, j in enumerate(text_train):\n",
    "    if re.search(pattern, j):\n",
    "        if i%4==1:\n",
    "            Y_train[i]=torch.tensor(1.0)\n",
    "        else:\n",
    "            Y_train[i]=torch.tensor(0.0)"
   ]
  },
  {
   "cell_type": "code",
   "execution_count": 6,
   "id": "b9f76989",
   "metadata": {},
   "outputs": [
    {
     "data": {
      "text/plain": [
       "124"
      ]
     },
     "execution_count": 6,
     "metadata": {},
     "output_type": "execute_result"
    }
   ],
   "source": [
    "rule33=[i for i, j in enumerate(text_test) if re.search(pattern, j)]\n",
    "len(rule33)"
   ]
  },
  {
   "cell_type": "code",
   "execution_count": null,
   "id": "44c499a1",
   "metadata": {},
   "outputs": [],
   "source": [
    "len([i for i, j in enumerate(text_train) if re.search(pattern, j)])"
   ]
  },
  {
   "cell_type": "code",
   "execution_count": 7,
   "id": "89305de2",
   "metadata": {},
   "outputs": [],
   "source": [
    "L2_WEIGHT = 1e-4\n",
    "def fit_model(X, Y):\n",
    "    C = 1 / (X.shape[0] * L2_WEIGHT)\n",
    "    sk_clf = linear_model.LogisticRegression(C=C, tol=1e-8, max_iter=1000)\n",
    "    sk_clf = sk_clf.fit(X.numpy(), Y.numpy())\n",
    "\n",
    "    # recreate model in PyTorch\n",
    "    fc = nn.Linear(768, 1, bias=True)\n",
    "    fc.weight = nn.Parameter(torch.tensor(sk_clf.coef_))\n",
    "    fc.bias = nn.Parameter(torch.tensor(sk_clf.intercept_))\n",
    "\n",
    "    pt_clf = nn.Sequential(\n",
    "        fc,\n",
    "        nn.Flatten(start_dim=-2),\n",
    "        nn.Sigmoid()\n",
    "    )\n",
    "\n",
    "    pt_clf = pt_clf.to(device=DEVICE, dtype=torch.float32)\n",
    "    return pt_clf\n",
    "\n",
    "DEVICE = torch.device(\"cuda\" if torch.cuda.is_available() else \"cpu\")\n",
    "train_set = data.TensorDataset(X_train, Y_train)\n",
    "test_set = data.TensorDataset(X_test, Y_test)\n",
    "clf = fit_model(X_train, Y_train)"
   ]
  },
  {
   "cell_type": "code",
   "execution_count": null,
   "id": "d916813f",
   "metadata": {
    "scrolled": true
   },
   "outputs": [],
   "source": [
    "import math\n",
    "loglik = [math.log(clf(X_train[i].unsqueeze(0)).item()) for i in range(len(Y_train)) if i not in rule33]\n",
    "sum(loglik)/len(loglik)"
   ]
  },
  {
   "cell_type": "code",
   "execution_count": null,
   "id": "926ef4cc",
   "metadata": {},
   "outputs": [],
   "source": []
  },
  {
   "cell_type": "code",
   "execution_count": null,
   "id": "475ac95b",
   "metadata": {},
   "outputs": [],
   "source": [
    "spam_fr=[clf(X_test[i].unsqueeze(0)).item() for i in range(len(Y_test)) if text_test[i] in data1['message']]+[clf(X_train[i].unsqueeze(0)).item() for i in range(len(Y_train)) if text_train[i] in data1['message']]\n",
    "sum(spam_fr)/len(spam_fr)"
   ]
  },
  {
   "cell_type": "code",
   "execution_count": null,
   "id": "db133c9e",
   "metadata": {},
   "outputs": [],
   "source": [
    "ham_fr=[clf(X_test[i].unsqueeze(0)).item() for i in range(len(Y_test)) if Y_test[i]==torch.tensor(0.0) and text_test[i] in data1['message']]\n",
    "sum(ham_fr)/len(ham_fr)"
   ]
  },
  {
   "cell_type": "code",
   "execution_count": null,
   "id": "6202f375",
   "metadata": {},
   "outputs": [],
   "source": [
    "spam_fr"
   ]
  },
  {
   "cell_type": "code",
   "execution_count": null,
   "id": "0c64e690",
   "metadata": {},
   "outputs": [],
   "source": [
    "before=[clf(X_test[i].unsqueeze(0)).item() for i, j in enumerate(text_test)\n",
    "         if '?' in j and len(j)<30]"
   ]
  },
  {
   "cell_type": "code",
   "execution_count": null,
   "id": "d40b194a",
   "metadata": {},
   "outputs": [],
   "source": [
    "after=[clf(X_test[i].unsqueeze(0)).item() for i, j in enumerate(text_test)\n",
    "         if '?' in j and len(j)<30]"
   ]
  },
  {
   "cell_type": "code",
   "execution_count": null,
   "id": "14ed5d0e",
   "metadata": {},
   "outputs": [],
   "source": [
    "len([i for i in range(len(after)) if before[i]>after[i]])"
   ]
  },
  {
   "cell_type": "code",
   "execution_count": null,
   "id": "370884f5",
   "metadata": {},
   "outputs": [],
   "source": [
    "before"
   ]
  },
  {
   "cell_type": "code",
   "execution_count": null,
   "id": "bfe6916c",
   "metadata": {},
   "outputs": [],
   "source": [
    "122/len(after)"
   ]
  },
  {
   "cell_type": "code",
   "execution_count": null,
   "id": "b9afce9b",
   "metadata": {},
   "outputs": [],
   "source": [
    "# Rule 1\n",
    "# inx_rule = [i for i, j in enumerate(text_test) if j in data1['message']]\n",
    "# inxt_rule = [i for i, j in enumerate(text_train) if j in data1['message']]\n",
    "# [f'GT:{Y_train[i]} Prd: {clf(X_train[i].unsqueeze(0))}' for i in inxt_rule]\n",
    "# [f'GT:{Y_test[i]} Prd: {clf(X_test[i].unsqueeze(0))}' for i in inx_rule]"
   ]
  },
  {
   "cell_type": "code",
   "execution_count": null,
   "id": "02a49ad1",
   "metadata": {},
   "outputs": [],
   "source": [
    "[f'GT:{Y_test[i]} Prd: {clf(X_test[i].unsqueeze(0))}' for i, j in enumerate(text_test)\n",
    "         if re.search(pattern, j)]"
   ]
  },
  {
   "cell_type": "code",
   "execution_count": null,
   "id": "e1aa56b8",
   "metadata": {},
   "outputs": [],
   "source": [
    "Y_test[728]"
   ]
  },
  {
   "cell_type": "code",
   "execution_count": null,
   "id": "b58fcd19",
   "metadata": {},
   "outputs": [],
   "source": [
    "#Aphorism rule\n",
    "# Y_train[1241]=torch.tensor(0.)\n",
    "# Y_train[2326]=torch.tensor(0.)\n",
    "# Y_train[1910]=torch.tensor(0.)\n",
    "# Y_train[985]=torch.tensor(0.)\n",
    "\n",
    "# Y_test[151]=torch.tensor(0.)"
   ]
  },
  {
   "cell_type": "code",
   "execution_count": null,
   "id": "46e11ca2",
   "metadata": {},
   "outputs": [],
   "source": [
    "clf(X_test[728].unsqueeze(0)).item()"
   ]
  },
  {
   "cell_type": "code",
   "execution_count": 8,
   "id": "9c4ab083",
   "metadata": {},
   "outputs": [],
   "source": [
    "class BinClassObjective(BaseObjective):\n",
    "\n",
    "    def train_outputs(self, model, batch):\n",
    "        return model(batch[0])\n",
    "\n",
    "    def train_loss_on_outputs(self, outputs, batch):\n",
    "        return F.binary_cross_entropy(outputs, batch[1])\n",
    "\n",
    "    def train_regularization(self, params):\n",
    "        return L2_WEIGHT * torch.square(params.norm())\n",
    "\n",
    "    def test_loss(self, model, params, batch):\n",
    "        outputs = model(batch[0])\n",
    "        return F.binary_cross_entropy(outputs, batch[1])\n",
    "    \n",
    "module = LiSSAInfluenceModule(\n",
    "    model=clf,\n",
    "    objective=BinClassObjective(),\n",
    "    train_loader=data.DataLoader(train_set, batch_size=32),\n",
    "    test_loader=data.DataLoader(test_set, batch_size=32),\n",
    "    device=DEVICE,\n",
    "    damp=0.001,\n",
    "    repeat= 1,\n",
    "    depth=1800,\n",
    "    scale= 10,\n",
    ")"
   ]
  },
  {
   "cell_type": "code",
   "execution_count": 9,
   "id": "6e10d339",
   "metadata": {},
   "outputs": [],
   "source": [
    "import torch.nn.functional as F\n",
    "def df_construct(test_idx, train_idxs):\n",
    "    influences = module.influences(train_idxs=train_idxs, test_idxs=[test_idx])\n",
    "    similarity=[cosine_similarity(X_test[test_idx].numpy().reshape(1,-1), X_train[i].numpy().reshape(1, -1)).item()\n",
    "               for i in range(len(X_train))]\n",
    "    squared_diff = (clf(X_train.to(DEVICE)) - Y_train.to(DEVICE))**2\n",
    "\n",
    "    # Calculate the RMS error for each training point\n",
    "    train_losses = torch.sqrt(squared_diff)\n",
    "\n",
    "    # Detach the tensor from the computation graph\n",
    "    train_losses = train_losses.detach().requires_grad_(False)\n",
    "    relatif=influences/train_losses\n",
    "    data = {'Influence': influences.reshape(-1).tolist(), 'Similarity': similarity, 'Label':Y_train.tolist(), \n",
    "            'X_train':X_train.numpy().tolist(), 'message':text_train, 'relatif':relatif}\n",
    "    df = pd.DataFrame(data)\n",
    "    return df\n",
    "# test_idx = 728      \n",
    "train_idxs = list(range(X_train.shape[0]))\n",
    "# df = df_construct(test_idx, train_idxs)"
   ]
  },
  {
   "cell_type": "code",
   "execution_count": null,
   "id": "a79b0fe4",
   "metadata": {},
   "outputs": [],
   "source": [
    "df1 = df_construct(5, train_idxs)"
   ]
  },
  {
   "cell_type": "code",
   "execution_count": null,
   "id": "47859579",
   "metadata": {},
   "outputs": [],
   "source": [
    "df1[df1.relatif<0].sort_values('relatif', ascending=True).head(5).index.tolist()"
   ]
  },
  {
   "cell_type": "code",
   "execution_count": null,
   "id": "7488bc3b",
   "metadata": {},
   "outputs": [],
   "source": [
    "def input_data(df, test_idx, sett=None):\n",
    "    \n",
    "    scaler = MinMaxScaler()\n",
    "    \n",
    "    influence_pos = [i for i in df.Influence.tolist() if i>0]\n",
    "    q3p, q1p = np.percentile(influence_pos, [75 ,25])\n",
    "    iqrp = q3p - q1p\n",
    "    influenceIQp=np.array([i for i in influence_pos if i>q3p+3*iqrp])\n",
    "    n_p=len(influenceIQp)\n",
    "    \n",
    "    influence_neg = [i for i in df.Influence.tolist() if i<0]\n",
    "    q3n, q1n = np.percentile(influence_neg, [75 ,25])\n",
    "    iqrn = q3n - q1n\n",
    "    influenceIQn=np.array([i for i in influence_neg if i<q1n-2*iqrn])\n",
    "    nn=len(influenceIQn)\n",
    "    \n",
    "    if sett == 'positive':\n",
    "\n",
    "        df_pos = df[df.Influence>0].sort_values('Influence', ascending=False) #.reset_index(drop=True)\n",
    "        df_pos[['Influence', 'Similarity']]= scaler.fit_transform(df_pos[['Influence', 'Similarity']])\n",
    "        df_pos_sl = df_pos[df_pos.Label==Y_test[test_idx].item()][:n_p]\n",
    "        df_pos_ol = df_pos[df_pos.Label!=Y_test[test_idx].item()][:n_p]\n",
    "        \n",
    "        return df_pos_sl, df_pos_ol\n",
    "    \n",
    "    elif sett=='negative':\n",
    "       \n",
    "        df_neg = df[df.Influence<0].sort_values('Influence', ascending=True) #.reset_index(drop=True)\n",
    "        df_neg[['Influence', 'Similarity']]= scaler.fit_transform(df_neg[['Influence', 'Similarity']])\n",
    "        df_neg_sl = df_neg[df_neg.Label==Y_test[test_idx].item()][:nn]\n",
    "        df_neg_ol = df_neg[df_neg.Label!=Y_test[test_idx].item()][:nn]\n",
    "        \n",
    "        return df_neg_ol, df_neg_sl"
   ]
  },
  {
   "cell_type": "code",
   "execution_count": null,
   "id": "36173c20",
   "metadata": {},
   "outputs": [],
   "source": []
  },
  {
   "cell_type": "code",
   "execution_count": null,
   "id": "ebc4deb1",
   "metadata": {},
   "outputs": [],
   "source": [
    "def calculate_cosine_similarity(a, b):\n",
    "    dot_product = np.dot(a, b)\n",
    "    norm_a = np.linalg.norm(a)\n",
    "    norm_b = np.linalg.norm(b)\n",
    "    similarity = dot_product / (norm_a * norm_b)\n",
    "    return similarity\n",
    "\n",
    "def greedy_subset_selection(df, N, sett=None, label=None):\n",
    "    \n",
    "    arrays = [np.array(i) for i in df.X_train]\n",
    "    influence_scores = df.Influence.tolist()  # List of influence scores for each array\n",
    "    prox = df.Similarity.tolist()\n",
    "    n_arrays = len(arrays)\n",
    "    selected_indices = []\n",
    "    \n",
    "    wi, ws, wd=0.2, 0.9, 0.3\n",
    " \n",
    "    # Start with the array with the highest influence score\n",
    "    if sett =='positive' and label=='opposite':\n",
    "        initial_idx = np.argmax(influence_scores)\n",
    "    elif sett =='positive' and label=='same':\n",
    "        initial_idx = np.argmax(influence_scores)\n",
    "    if sett =='negative' and label=='opposite':\n",
    "        initial_idx = np.argmax(influence_scores)\n",
    "    elif sett =='negative' and label=='same':\n",
    "        initial_idx = np.argmax(influence_scores)\n",
    "    selected_indices.append(initial_idx)\n",
    "    selected_array = arrays[initial_idx]\n",
    "    \n",
    "    while len(selected_indices) < N:\n",
    "        max_gain = -np.inf\n",
    "        selected_idx = None\n",
    "        \n",
    "        # Iterate over the remaining arrays\n",
    "        for i in range(n_arrays):\n",
    "            if i not in selected_indices:\n",
    "                current_array = arrays[i]\n",
    "                final_list = list(map(lambda x: calculate_cosine_similarity(current_array, arrays[x]), selected_indices))\n",
    "                if any(i>0.97 for i in final_list):\n",
    "                    continue\n",
    "                else:\n",
    "                    \n",
    "                    diversity = np.mean(final_list)\n",
    "                    # Calculate combined score of diversity and influence score\n",
    "                    if sett =='positive' and label=='same':\n",
    "                        combined_score = 0.4*influence_scores[i]+0.8*prox[i] #-0.3*diversity\n",
    "#                         combined_score = wi*influence_scores[i] + ws*prox[i] - wd*similarity\n",
    "                    elif sett =='negative' and label=='opposite':\n",
    "                        combined_score = -0.4*influence_scores[i]+0.8*prox[i] #- 0.3*diversity                        \n",
    "                    elif sett =='positive' and label=='opposite':\n",
    "                        combined_score = 0.4*influence_scores[i]+0.8*prox[i] #-0.3*diversity\n",
    "#                         combined_score = wi*influence_scores[i] - wd*similarity\n",
    "                    elif sett =='negative' and label=='same':\n",
    "                        combined_score = -0.4*influence_scores[i]+0.8*prox[i] #-0.3*diversity\n",
    "                    # Update selected array if it provides the highest gain\n",
    "                    if combined_score > max_gain:\n",
    "                        max_gain = combined_score\n",
    "                        selected_idx = i\n",
    "        \n",
    "        # Add selected array to the subset\n",
    "        selected_indices.append(selected_idx)\n",
    "    \n",
    "    return selected_indices\n",
    "\n",
    "\n",
    "# df_pos_sl, df_pos_ol = input_data(df, test_idx, sett='positive')\n",
    "# df_neg_ol, df_neg_sl = input_data(df, test_idx, sett='negative')\n",
    "# selected_indices_pos_sl = greedy_subset_selection(df_pos_sl, N=10, sett='positive', label='same')\n",
    "# selected_indices_pos_ol = greedy_subset_selection(df_pos_ol, N=10, sett='positive', label='opposite')\n",
    "# selected_indices_neg_sl = greedy_subset_selection(df_neg_sl, N=10, sett='negative', label='same')\n",
    "# selected_indices_neg_ol = greedy_subset_selection(df_neg_ol, N=10, sett='negative', label='opposite')"
   ]
  },
  {
   "cell_type": "code",
   "execution_count": null,
   "id": "05493c40",
   "metadata": {},
   "outputs": [],
   "source": []
  },
  {
   "cell_type": "code",
   "execution_count": null,
   "id": "c0762bf4",
   "metadata": {},
   "outputs": [],
   "source": [
    "def expl_rule(test_idx):\n",
    "    df=df_construct(test_idx, train_idxs)\n",
    "    df_pos_sl, df_pos_ol = input_data(df, test_idx, sett='positive')\n",
    "    df_neg_ol, df_neg_sl = input_data(df, test_idx, sett='negative')\n",
    "    selected_indices_pos_sl = greedy_subset_selection(df_pos_sl, N=10, sett='positive', label='same')\n",
    "    selected_indices_neg_ol = greedy_subset_selection(df_neg_ol, N=10, sett='negative', label='opposite')\n",
    "    sup=[df_pos_sl.message.tolist()[i] for i in selected_indices_pos_sl]\n",
    "    op=[df_neg_ol.message.tolist()[i] for i in selected_indices_neg_ol]\n",
    "    return sup, op"
   ]
  },
  {
   "cell_type": "code",
   "execution_count": null,
   "id": "b7bd9d9c",
   "metadata": {},
   "outputs": [],
   "source": [
    "# Rule 1 precision\n",
    "precision_sup=[]\n",
    "precision_op=[]\n",
    "for i in tqdm(inx_rule):    \n",
    "#     sup, op=expl_rule(i)\n",
    "#     influences = module.influences(train_idxs=train_idxs, test_idxs=[i])\n",
    "#     sup=influences.argsort(descending=True)[:10].tolist()\n",
    "#     op=influences.argsort()[:10].tolist()\n",
    "#     sup=[df_pos_sl.message.tolist()[i] for i in sup]\n",
    "#     op=[df_neg_ol.message.tolist()[i] for i in op]\n",
    "    df = df_construct(i, train_idxs)\n",
    "    sup= df[df.relatif>0].sort_values('relatif', ascending=False).head(10).index.tolist()\n",
    "    op= df[df.relatif<0].sort_values('relatif', ascending=True).head(10).index.tolist()\n",
    "    precision_sup.append(len([j for j in sup if text_train[j] in data1['message']])/len(sup))\n",
    "    precision_op.append(len([j for j in op if text_train[j] in data1['message']])/len(op))\n",
    "print(f' Precision of supporters: {sum(precision_sup)/len(precision_sup)},\\n Precision of opposers: {sum(precision_op)/len(precision_op)}')\n"
   ]
  },
  {
   "cell_type": "code",
   "execution_count": null,
   "id": "68073bea",
   "metadata": {
    "scrolled": true
   },
   "outputs": [],
   "source": [
    "# Rule 2 precision\n",
    "precision_sup=[]\n",
    "precision_op=[]\n",
    "for i in tqdm(rule2test):\n",
    "    print(i)\n",
    "#     sup, op=expl_rule(i)\n",
    "#     influences = module.influences(train_idxs=train_idxs, test_idxs=[i])\n",
    "#     sup=influences.argsort(descending=True)[:10].tolist()\n",
    "#     op=influences.argsort()[:10].tolist()\n",
    "    df = df_construct(i, train_idxs)\n",
    "    sup= df[df.relatif>0].sort_values('relatif', ascending=False).head(10).index.tolist()\n",
    "    op= df[df.relatif<0].sort_values('relatif', ascending=True).head(10).index.tolist()\n",
    "    precision_sup.append(len([j for j in sup if '?' in text_train[j] and len(text_train[j])<30])/len(sup))\n",
    "    precision_op.append(len([j for j in op if '?' in text_train[j] and len(text_train[j])<30])/len(op))\n",
    "\n",
    "print(f' Precision of supporters: {sum(precision_sup)/len(precision_sup)}, Precision of opposers: {sum(precision_op)/len(precision_op)}')\n"
   ]
  },
  {
   "cell_type": "code",
   "execution_count": 10,
   "id": "8b6e038d",
   "metadata": {
    "scrolled": true
   },
   "outputs": [
    {
     "name": "stderr",
     "output_type": "stream",
     "text": [
      "\r",
      "  0%|                                                                        | 0/124 [00:00<?, ?it/s]"
     ]
    },
    {
     "name": "stdout",
     "output_type": "stream",
     "text": [
      "10\n"
     ]
    },
    {
     "name": "stderr",
     "output_type": "stream",
     "text": [
      "\r",
      "  1%|▌                                                               | 1/124 [00:08<17:59,  8.78s/it]"
     ]
    },
    {
     "name": "stdout",
     "output_type": "stream",
     "text": [
      "30\n"
     ]
    },
    {
     "name": "stderr",
     "output_type": "stream",
     "text": [
      "\r",
      "  2%|█                                                               | 2/124 [00:17<17:50,  8.77s/it]"
     ]
    },
    {
     "name": "stdout",
     "output_type": "stream",
     "text": [
      "34\n"
     ]
    },
    {
     "name": "stderr",
     "output_type": "stream",
     "text": [
      "\r",
      "  2%|█▌                                                              | 3/124 [00:26<17:39,  8.76s/it]"
     ]
    },
    {
     "name": "stdout",
     "output_type": "stream",
     "text": [
      "53\n"
     ]
    },
    {
     "name": "stderr",
     "output_type": "stream",
     "text": [
      "\r",
      "  3%|██                                                              | 4/124 [00:35<17:30,  8.76s/it]"
     ]
    },
    {
     "name": "stdout",
     "output_type": "stream",
     "text": [
      "64\n"
     ]
    },
    {
     "name": "stderr",
     "output_type": "stream",
     "text": [
      "\r",
      "  4%|██▌                                                             | 5/124 [00:43<17:21,  8.75s/it]"
     ]
    },
    {
     "name": "stdout",
     "output_type": "stream",
     "text": [
      "73\n"
     ]
    },
    {
     "name": "stderr",
     "output_type": "stream",
     "text": [
      "\r",
      "  5%|███                                                             | 6/124 [00:52<17:12,  8.75s/it]"
     ]
    },
    {
     "name": "stdout",
     "output_type": "stream",
     "text": [
      "80\n"
     ]
    },
    {
     "name": "stderr",
     "output_type": "stream",
     "text": [
      "\r",
      "  6%|███▌                                                            | 7/124 [01:01<17:04,  8.75s/it]"
     ]
    },
    {
     "name": "stdout",
     "output_type": "stream",
     "text": [
      "88\n"
     ]
    },
    {
     "name": "stderr",
     "output_type": "stream",
     "text": [
      "\r",
      "  6%|████▏                                                           | 8/124 [01:10<16:54,  8.75s/it]"
     ]
    },
    {
     "name": "stdout",
     "output_type": "stream",
     "text": [
      "100\n"
     ]
    },
    {
     "name": "stderr",
     "output_type": "stream",
     "text": [
      "\r",
      "  7%|████▋                                                           | 9/124 [01:18<16:46,  8.75s/it]"
     ]
    },
    {
     "name": "stdout",
     "output_type": "stream",
     "text": [
      "104\n"
     ]
    },
    {
     "name": "stderr",
     "output_type": "stream",
     "text": [
      "\r",
      "  8%|█████                                                          | 10/124 [01:27<16:37,  8.75s/it]"
     ]
    },
    {
     "name": "stdout",
     "output_type": "stream",
     "text": [
      "122\n"
     ]
    },
    {
     "name": "stderr",
     "output_type": "stream",
     "text": [
      "\r",
      "  9%|█████▌                                                         | 11/124 [01:36<16:29,  8.76s/it]"
     ]
    },
    {
     "name": "stdout",
     "output_type": "stream",
     "text": [
      "150\n"
     ]
    },
    {
     "name": "stderr",
     "output_type": "stream",
     "text": [
      "\r",
      " 10%|██████                                                         | 12/124 [01:45<16:20,  8.76s/it]"
     ]
    },
    {
     "name": "stdout",
     "output_type": "stream",
     "text": [
      "161\n"
     ]
    },
    {
     "name": "stderr",
     "output_type": "stream",
     "text": [
      "\r",
      " 10%|██████▌                                                        | 13/124 [01:53<16:11,  8.75s/it]"
     ]
    },
    {
     "name": "stdout",
     "output_type": "stream",
     "text": [
      "168\n"
     ]
    },
    {
     "name": "stderr",
     "output_type": "stream",
     "text": [
      "\r",
      " 11%|███████                                                        | 14/124 [02:02<16:03,  8.76s/it]"
     ]
    },
    {
     "name": "stdout",
     "output_type": "stream",
     "text": [
      "171\n"
     ]
    },
    {
     "name": "stderr",
     "output_type": "stream",
     "text": [
      "\r",
      " 12%|███████▌                                                       | 15/124 [02:11<15:53,  8.75s/it]"
     ]
    },
    {
     "name": "stdout",
     "output_type": "stream",
     "text": [
      "179\n"
     ]
    },
    {
     "name": "stderr",
     "output_type": "stream",
     "text": [
      "\r",
      " 13%|████████▏                                                      | 16/124 [02:20<15:45,  8.76s/it]"
     ]
    },
    {
     "name": "stdout",
     "output_type": "stream",
     "text": [
      "187\n"
     ]
    },
    {
     "name": "stderr",
     "output_type": "stream",
     "text": [
      "\r",
      " 14%|████████▋                                                      | 17/124 [02:28<15:36,  8.75s/it]"
     ]
    },
    {
     "name": "stdout",
     "output_type": "stream",
     "text": [
      "209\n"
     ]
    },
    {
     "name": "stderr",
     "output_type": "stream",
     "text": [
      "\r",
      " 15%|█████████▏                                                     | 18/124 [02:37<15:34,  8.81s/it]"
     ]
    },
    {
     "name": "stdout",
     "output_type": "stream",
     "text": [
      "227\n"
     ]
    },
    {
     "name": "stderr",
     "output_type": "stream",
     "text": [
      "\r",
      " 15%|█████████▋                                                     | 19/124 [02:46<15:24,  8.80s/it]"
     ]
    },
    {
     "name": "stdout",
     "output_type": "stream",
     "text": [
      "232\n"
     ]
    },
    {
     "name": "stderr",
     "output_type": "stream",
     "text": [
      "\r",
      " 16%|██████████▏                                                    | 20/124 [02:55<15:13,  8.79s/it]"
     ]
    },
    {
     "name": "stdout",
     "output_type": "stream",
     "text": [
      "233\n"
     ]
    },
    {
     "name": "stderr",
     "output_type": "stream",
     "text": [
      "\r",
      " 17%|██████████▋                                                    | 21/124 [03:04<15:04,  8.78s/it]"
     ]
    },
    {
     "name": "stdout",
     "output_type": "stream",
     "text": [
      "246\n"
     ]
    },
    {
     "name": "stderr",
     "output_type": "stream",
     "text": [
      "\r",
      " 18%|███████████▏                                                   | 22/124 [03:12<14:54,  8.77s/it]"
     ]
    },
    {
     "name": "stdout",
     "output_type": "stream",
     "text": [
      "250\n"
     ]
    },
    {
     "name": "stderr",
     "output_type": "stream",
     "text": [
      "\r",
      " 19%|███████████▋                                                   | 23/124 [03:21<14:45,  8.77s/it]"
     ]
    },
    {
     "name": "stdout",
     "output_type": "stream",
     "text": [
      "269\n"
     ]
    },
    {
     "name": "stderr",
     "output_type": "stream",
     "text": [
      "\r",
      " 19%|████████████▏                                                  | 24/124 [03:30<14:36,  8.76s/it]"
     ]
    },
    {
     "name": "stdout",
     "output_type": "stream",
     "text": [
      "280\n"
     ]
    },
    {
     "name": "stderr",
     "output_type": "stream",
     "text": [
      "\r",
      " 20%|████████████▋                                                  | 25/124 [03:39<14:26,  8.75s/it]"
     ]
    },
    {
     "name": "stdout",
     "output_type": "stream",
     "text": [
      "285\n"
     ]
    },
    {
     "name": "stderr",
     "output_type": "stream",
     "text": [
      "\r",
      " 21%|█████████████▏                                                 | 26/124 [03:47<14:18,  8.76s/it]"
     ]
    },
    {
     "name": "stdout",
     "output_type": "stream",
     "text": [
      "293\n"
     ]
    },
    {
     "name": "stderr",
     "output_type": "stream",
     "text": [
      "\r",
      " 22%|█████████████▋                                                 | 27/124 [03:56<14:09,  8.76s/it]"
     ]
    },
    {
     "name": "stdout",
     "output_type": "stream",
     "text": [
      "309\n"
     ]
    },
    {
     "name": "stderr",
     "output_type": "stream",
     "text": [
      "\r",
      " 23%|██████████████▏                                                | 28/124 [04:05<14:00,  8.76s/it]"
     ]
    },
    {
     "name": "stdout",
     "output_type": "stream",
     "text": [
      "310\n"
     ]
    },
    {
     "name": "stderr",
     "output_type": "stream",
     "text": [
      "\r",
      " 23%|██████████████▋                                                | 29/124 [04:14<13:52,  8.76s/it]"
     ]
    },
    {
     "name": "stdout",
     "output_type": "stream",
     "text": [
      "311\n"
     ]
    },
    {
     "name": "stderr",
     "output_type": "stream",
     "text": [
      "\r",
      " 24%|███████████████▏                                               | 30/124 [04:22<13:43,  8.76s/it]"
     ]
    },
    {
     "name": "stdout",
     "output_type": "stream",
     "text": [
      "338\n"
     ]
    },
    {
     "name": "stderr",
     "output_type": "stream",
     "text": [
      "\r",
      " 25%|███████████████▊                                               | 31/124 [04:31<13:34,  8.76s/it]"
     ]
    },
    {
     "name": "stdout",
     "output_type": "stream",
     "text": [
      "340\n"
     ]
    },
    {
     "name": "stderr",
     "output_type": "stream",
     "text": [
      "\r",
      " 26%|████████████████▎                                              | 32/124 [04:40<13:26,  8.76s/it]"
     ]
    },
    {
     "name": "stdout",
     "output_type": "stream",
     "text": [
      "360\n"
     ]
    },
    {
     "name": "stderr",
     "output_type": "stream",
     "text": [
      "\r",
      " 27%|████████████████▊                                              | 33/124 [04:49<13:17,  8.76s/it]"
     ]
    },
    {
     "name": "stdout",
     "output_type": "stream",
     "text": [
      "367\n"
     ]
    },
    {
     "name": "stderr",
     "output_type": "stream",
     "text": [
      "\r",
      " 27%|█████████████████▎                                             | 34/124 [04:57<13:07,  8.76s/it]"
     ]
    },
    {
     "name": "stdout",
     "output_type": "stream",
     "text": [
      "377\n"
     ]
    },
    {
     "name": "stderr",
     "output_type": "stream",
     "text": [
      "\r",
      " 28%|█████████████████▊                                             | 35/124 [05:06<12:59,  8.76s/it]"
     ]
    },
    {
     "name": "stdout",
     "output_type": "stream",
     "text": [
      "380\n"
     ]
    },
    {
     "name": "stderr",
     "output_type": "stream",
     "text": [
      "\r",
      " 29%|██████████████████▎                                            | 36/124 [05:15<12:50,  8.76s/it]"
     ]
    },
    {
     "name": "stdout",
     "output_type": "stream",
     "text": [
      "387\n"
     ]
    },
    {
     "name": "stderr",
     "output_type": "stream",
     "text": [
      "\r",
      " 30%|██████████████████▊                                            | 37/124 [05:24<12:41,  8.75s/it]"
     ]
    },
    {
     "name": "stdout",
     "output_type": "stream",
     "text": [
      "390\n"
     ]
    },
    {
     "name": "stderr",
     "output_type": "stream",
     "text": [
      "\r",
      " 31%|███████████████████▎                                           | 38/124 [05:32<12:33,  8.76s/it]"
     ]
    },
    {
     "name": "stdout",
     "output_type": "stream",
     "text": [
      "406\n"
     ]
    },
    {
     "name": "stderr",
     "output_type": "stream",
     "text": [
      "\r",
      " 31%|███████████████████▊                                           | 39/124 [05:41<12:24,  8.76s/it]"
     ]
    },
    {
     "name": "stdout",
     "output_type": "stream",
     "text": [
      "433\n"
     ]
    },
    {
     "name": "stderr",
     "output_type": "stream",
     "text": [
      "\r",
      " 32%|████████████████████▎                                          | 40/124 [05:50<12:16,  8.76s/it]"
     ]
    },
    {
     "name": "stdout",
     "output_type": "stream",
     "text": [
      "450\n"
     ]
    },
    {
     "name": "stderr",
     "output_type": "stream",
     "text": [
      "\r",
      " 33%|████████████████████▊                                          | 41/124 [05:59<12:07,  8.77s/it]"
     ]
    },
    {
     "name": "stdout",
     "output_type": "stream",
     "text": [
      "451\n"
     ]
    },
    {
     "name": "stderr",
     "output_type": "stream",
     "text": [
      "\r",
      " 34%|█████████████████████▎                                         | 42/124 [06:07<11:58,  8.76s/it]"
     ]
    },
    {
     "name": "stdout",
     "output_type": "stream",
     "text": [
      "464\n"
     ]
    },
    {
     "name": "stderr",
     "output_type": "stream",
     "text": [
      "\r",
      " 35%|█████████████████████▊                                         | 43/124 [06:16<11:49,  8.77s/it]"
     ]
    },
    {
     "name": "stdout",
     "output_type": "stream",
     "text": [
      "469\n"
     ]
    },
    {
     "name": "stderr",
     "output_type": "stream",
     "text": [
      "\r",
      " 35%|██████████████████████▎                                        | 44/124 [06:25<11:41,  8.77s/it]"
     ]
    },
    {
     "name": "stdout",
     "output_type": "stream",
     "text": [
      "477\n"
     ]
    },
    {
     "name": "stderr",
     "output_type": "stream",
     "text": [
      "\r",
      " 36%|██████████████████████▊                                        | 45/124 [06:34<11:37,  8.83s/it]"
     ]
    },
    {
     "name": "stdout",
     "output_type": "stream",
     "text": [
      "480\n"
     ]
    },
    {
     "name": "stderr",
     "output_type": "stream",
     "text": [
      "\r",
      " 37%|███████████████████████▎                                       | 46/124 [06:43<11:26,  8.80s/it]"
     ]
    },
    {
     "name": "stdout",
     "output_type": "stream",
     "text": [
      "482\n"
     ]
    },
    {
     "name": "stderr",
     "output_type": "stream",
     "text": [
      "\r",
      " 38%|███████████████████████▉                                       | 47/124 [06:51<11:16,  8.79s/it]"
     ]
    },
    {
     "name": "stdout",
     "output_type": "stream",
     "text": [
      "494\n"
     ]
    },
    {
     "name": "stderr",
     "output_type": "stream",
     "text": [
      "\r",
      " 39%|████████████████████████▍                                      | 48/124 [07:00<11:08,  8.79s/it]"
     ]
    },
    {
     "name": "stdout",
     "output_type": "stream",
     "text": [
      "507\n"
     ]
    },
    {
     "name": "stderr",
     "output_type": "stream",
     "text": [
      "\r",
      " 40%|████████████████████████▉                                      | 49/124 [07:09<10:58,  8.78s/it]"
     ]
    },
    {
     "name": "stdout",
     "output_type": "stream",
     "text": [
      "545\n"
     ]
    },
    {
     "name": "stderr",
     "output_type": "stream",
     "text": [
      "\r",
      " 40%|█████████████████████████▍                                     | 50/124 [07:18<10:50,  8.79s/it]"
     ]
    },
    {
     "name": "stdout",
     "output_type": "stream",
     "text": [
      "547\n"
     ]
    },
    {
     "name": "stderr",
     "output_type": "stream",
     "text": [
      "\r",
      " 41%|█████████████████████████▉                                     | 51/124 [07:27<10:40,  8.78s/it]"
     ]
    },
    {
     "name": "stdout",
     "output_type": "stream",
     "text": [
      "554\n"
     ]
    },
    {
     "name": "stderr",
     "output_type": "stream",
     "text": [
      "\r",
      " 42%|██████████████████████████▍                                    | 52/124 [07:35<10:31,  8.77s/it]"
     ]
    },
    {
     "name": "stdout",
     "output_type": "stream",
     "text": [
      "555\n"
     ]
    },
    {
     "name": "stderr",
     "output_type": "stream",
     "text": [
      "\r",
      " 43%|██████████████████████████▉                                    | 53/124 [07:44<10:23,  8.79s/it]"
     ]
    },
    {
     "name": "stdout",
     "output_type": "stream",
     "text": [
      "566\n"
     ]
    },
    {
     "name": "stderr",
     "output_type": "stream",
     "text": [
      "\r",
      " 44%|███████████████████████████▍                                   | 54/124 [07:53<10:15,  8.79s/it]"
     ]
    },
    {
     "name": "stdout",
     "output_type": "stream",
     "text": [
      "577\n"
     ]
    },
    {
     "name": "stderr",
     "output_type": "stream",
     "text": [
      "\r",
      " 44%|███████████████████████████▉                                   | 55/124 [08:02<10:06,  8.79s/it]"
     ]
    },
    {
     "name": "stdout",
     "output_type": "stream",
     "text": [
      "594\n"
     ]
    },
    {
     "name": "stderr",
     "output_type": "stream",
     "text": [
      "\r",
      " 45%|████████████████████████████▍                                  | 56/124 [08:11<09:57,  8.79s/it]"
     ]
    },
    {
     "name": "stdout",
     "output_type": "stream",
     "text": [
      "607\n"
     ]
    },
    {
     "name": "stderr",
     "output_type": "stream",
     "text": [
      "\r",
      " 46%|████████████████████████████▉                                  | 57/124 [08:19<09:48,  8.78s/it]"
     ]
    },
    {
     "name": "stdout",
     "output_type": "stream",
     "text": [
      "618\n"
     ]
    },
    {
     "name": "stderr",
     "output_type": "stream",
     "text": [
      "\r",
      " 47%|█████████████████████████████▍                                 | 58/124 [08:28<09:39,  8.78s/it]"
     ]
    },
    {
     "name": "stdout",
     "output_type": "stream",
     "text": [
      "624\n"
     ]
    },
    {
     "name": "stderr",
     "output_type": "stream",
     "text": [
      "\r",
      " 48%|█████████████████████████████▉                                 | 59/124 [08:37<09:30,  8.77s/it]"
     ]
    },
    {
     "name": "stdout",
     "output_type": "stream",
     "text": [
      "632\n"
     ]
    },
    {
     "name": "stderr",
     "output_type": "stream",
     "text": [
      "\r",
      " 48%|██████████████████████████████▍                                | 60/124 [08:46<09:21,  8.77s/it]"
     ]
    },
    {
     "name": "stdout",
     "output_type": "stream",
     "text": [
      "635\n"
     ]
    },
    {
     "name": "stderr",
     "output_type": "stream",
     "text": [
      "\r",
      " 49%|██████████████████████████████▉                                | 61/124 [08:54<09:12,  8.76s/it]"
     ]
    },
    {
     "name": "stdout",
     "output_type": "stream",
     "text": [
      "637\n"
     ]
    },
    {
     "name": "stderr",
     "output_type": "stream",
     "text": [
      "\r",
      " 50%|███████████████████████████████▌                               | 62/124 [09:03<09:03,  8.76s/it]"
     ]
    },
    {
     "name": "stdout",
     "output_type": "stream",
     "text": [
      "652\n"
     ]
    },
    {
     "name": "stderr",
     "output_type": "stream",
     "text": [
      "\r",
      " 51%|████████████████████████████████                               | 63/124 [09:12<08:54,  8.76s/it]"
     ]
    },
    {
     "name": "stdout",
     "output_type": "stream",
     "text": [
      "655\n"
     ]
    },
    {
     "name": "stderr",
     "output_type": "stream",
     "text": [
      "\r",
      " 52%|████████████████████████████████▌                              | 64/124 [09:21<08:49,  8.82s/it]"
     ]
    },
    {
     "name": "stdout",
     "output_type": "stream",
     "text": [
      "661\n"
     ]
    },
    {
     "name": "stderr",
     "output_type": "stream",
     "text": [
      "\r",
      " 52%|█████████████████████████████████                              | 65/124 [09:30<08:40,  8.83s/it]"
     ]
    },
    {
     "name": "stdout",
     "output_type": "stream",
     "text": [
      "664\n"
     ]
    },
    {
     "name": "stderr",
     "output_type": "stream",
     "text": [
      "\r",
      " 53%|█████████████████████████████████▌                             | 66/124 [09:38<08:31,  8.82s/it]"
     ]
    },
    {
     "name": "stdout",
     "output_type": "stream",
     "text": [
      "666\n"
     ]
    },
    {
     "name": "stderr",
     "output_type": "stream",
     "text": [
      "\r",
      " 54%|██████████████████████████████████                             | 67/124 [09:47<08:22,  8.82s/it]"
     ]
    },
    {
     "name": "stdout",
     "output_type": "stream",
     "text": [
      "668\n"
     ]
    },
    {
     "name": "stderr",
     "output_type": "stream",
     "text": [
      "\r",
      " 55%|██████████████████████████████████▌                            | 68/124 [09:56<08:13,  8.81s/it]"
     ]
    },
    {
     "name": "stdout",
     "output_type": "stream",
     "text": [
      "670\n"
     ]
    },
    {
     "name": "stderr",
     "output_type": "stream",
     "text": [
      "\r",
      " 56%|███████████████████████████████████                            | 69/124 [10:05<08:04,  8.81s/it]"
     ]
    },
    {
     "name": "stdout",
     "output_type": "stream",
     "text": [
      "682\n"
     ]
    },
    {
     "name": "stderr",
     "output_type": "stream",
     "text": [
      "\r",
      " 56%|███████████████████████████████████▌                           | 70/124 [10:14<07:54,  8.80s/it]"
     ]
    },
    {
     "name": "stdout",
     "output_type": "stream",
     "text": [
      "685\n"
     ]
    },
    {
     "name": "stderr",
     "output_type": "stream",
     "text": [
      "\r",
      " 57%|████████████████████████████████████                           | 71/124 [10:22<07:46,  8.80s/it]"
     ]
    },
    {
     "name": "stdout",
     "output_type": "stream",
     "text": [
      "693\n"
     ]
    },
    {
     "name": "stderr",
     "output_type": "stream",
     "text": [
      "\r",
      " 58%|████████████████████████████████████▌                          | 72/124 [10:31<07:37,  8.80s/it]"
     ]
    },
    {
     "name": "stdout",
     "output_type": "stream",
     "text": [
      "704\n"
     ]
    },
    {
     "name": "stderr",
     "output_type": "stream",
     "text": [
      "\r",
      " 59%|█████████████████████████████████████                          | 73/124 [10:40<07:28,  8.80s/it]"
     ]
    },
    {
     "name": "stdout",
     "output_type": "stream",
     "text": [
      "708\n"
     ]
    },
    {
     "name": "stderr",
     "output_type": "stream",
     "text": [
      "\r",
      " 60%|█████████████████████████████████████▌                         | 74/124 [10:49<07:19,  8.79s/it]"
     ]
    },
    {
     "name": "stdout",
     "output_type": "stream",
     "text": [
      "714\n"
     ]
    },
    {
     "name": "stderr",
     "output_type": "stream",
     "text": [
      "\r",
      " 60%|██████████████████████████████████████                         | 75/124 [10:58<07:10,  8.79s/it]"
     ]
    },
    {
     "name": "stdout",
     "output_type": "stream",
     "text": [
      "717\n"
     ]
    },
    {
     "name": "stderr",
     "output_type": "stream",
     "text": [
      "\r",
      " 61%|██████████████████████████████████████▌                        | 76/124 [11:06<07:01,  8.79s/it]"
     ]
    },
    {
     "name": "stdout",
     "output_type": "stream",
     "text": [
      "722\n"
     ]
    },
    {
     "name": "stderr",
     "output_type": "stream",
     "text": [
      "\r",
      " 62%|███████████████████████████████████████                        | 77/124 [11:15<06:53,  8.80s/it]"
     ]
    },
    {
     "name": "stdout",
     "output_type": "stream",
     "text": [
      "739\n"
     ]
    },
    {
     "name": "stderr",
     "output_type": "stream",
     "text": [
      "\r",
      " 63%|███████████████████████████████████████▋                       | 78/124 [11:24<06:44,  8.79s/it]"
     ]
    },
    {
     "name": "stdout",
     "output_type": "stream",
     "text": [
      "746\n"
     ]
    },
    {
     "name": "stderr",
     "output_type": "stream",
     "text": [
      "\r",
      " 64%|████████████████████████████████████████▏                      | 79/124 [11:33<06:36,  8.80s/it]"
     ]
    },
    {
     "name": "stdout",
     "output_type": "stream",
     "text": [
      "758\n"
     ]
    },
    {
     "name": "stderr",
     "output_type": "stream",
     "text": [
      "\r",
      " 65%|████████████████████████████████████████▋                      | 80/124 [11:42<06:26,  8.79s/it]"
     ]
    },
    {
     "name": "stdout",
     "output_type": "stream",
     "text": [
      "768\n"
     ]
    },
    {
     "name": "stderr",
     "output_type": "stream",
     "text": [
      "\r",
      " 65%|█████████████████████████████████████████▏                     | 81/124 [11:50<06:18,  8.80s/it]"
     ]
    },
    {
     "name": "stdout",
     "output_type": "stream",
     "text": [
      "772\n"
     ]
    },
    {
     "name": "stderr",
     "output_type": "stream",
     "text": [
      "\r",
      " 66%|█████████████████████████████████████████▋                     | 82/124 [11:59<06:09,  8.81s/it]"
     ]
    },
    {
     "name": "stdout",
     "output_type": "stream",
     "text": [
      "775\n"
     ]
    },
    {
     "name": "stderr",
     "output_type": "stream",
     "text": [
      "\r",
      " 67%|██████████████████████████████████████████▏                    | 83/124 [12:08<06:00,  8.80s/it]"
     ]
    },
    {
     "name": "stdout",
     "output_type": "stream",
     "text": [
      "780\n"
     ]
    },
    {
     "name": "stderr",
     "output_type": "stream",
     "text": [
      "\r",
      " 68%|██████████████████████████████████████████▋                    | 84/124 [12:17<05:52,  8.81s/it]"
     ]
    },
    {
     "name": "stdout",
     "output_type": "stream",
     "text": [
      "788\n"
     ]
    },
    {
     "name": "stderr",
     "output_type": "stream",
     "text": [
      "\r",
      " 69%|███████████████████████████████████████████▏                   | 85/124 [12:26<05:43,  8.80s/it]"
     ]
    },
    {
     "name": "stdout",
     "output_type": "stream",
     "text": [
      "799\n"
     ]
    },
    {
     "name": "stderr",
     "output_type": "stream",
     "text": [
      "\r",
      " 69%|███████████████████████████████████████████▋                   | 86/124 [12:34<05:33,  8.78s/it]"
     ]
    },
    {
     "name": "stdout",
     "output_type": "stream",
     "text": [
      "802\n"
     ]
    },
    {
     "name": "stderr",
     "output_type": "stream",
     "text": [
      "\r",
      " 70%|████████████████████████████████████████████▏                  | 87/124 [12:43<05:24,  8.77s/it]"
     ]
    },
    {
     "name": "stdout",
     "output_type": "stream",
     "text": [
      "836\n"
     ]
    },
    {
     "name": "stderr",
     "output_type": "stream",
     "text": [
      "\r",
      " 71%|████████████████████████████████████████████▋                  | 88/124 [12:52<05:15,  8.76s/it]"
     ]
    },
    {
     "name": "stdout",
     "output_type": "stream",
     "text": [
      "839\n"
     ]
    },
    {
     "name": "stderr",
     "output_type": "stream",
     "text": [
      "\r",
      " 72%|█████████████████████████████████████████████▏                 | 89/124 [13:01<05:06,  8.77s/it]"
     ]
    },
    {
     "name": "stdout",
     "output_type": "stream",
     "text": [
      "851\n"
     ]
    },
    {
     "name": "stderr",
     "output_type": "stream",
     "text": [
      "\r",
      " 73%|█████████████████████████████████████████████▋                 | 90/124 [13:09<04:58,  8.78s/it]"
     ]
    },
    {
     "name": "stdout",
     "output_type": "stream",
     "text": [
      "852\n"
     ]
    },
    {
     "name": "stderr",
     "output_type": "stream",
     "text": [
      "\r",
      " 73%|██████████████████████████████████████████████▏                | 91/124 [13:18<04:51,  8.83s/it]"
     ]
    },
    {
     "name": "stdout",
     "output_type": "stream",
     "text": [
      "854\n"
     ]
    },
    {
     "name": "stderr",
     "output_type": "stream",
     "text": [
      "\r",
      " 74%|██████████████████████████████████████████████▋                | 92/124 [13:27<04:42,  8.82s/it]"
     ]
    },
    {
     "name": "stdout",
     "output_type": "stream",
     "text": [
      "859\n"
     ]
    },
    {
     "name": "stderr",
     "output_type": "stream",
     "text": [
      "\r",
      " 75%|███████████████████████████████████████████████▎               | 93/124 [13:36<04:33,  8.81s/it]"
     ]
    },
    {
     "name": "stdout",
     "output_type": "stream",
     "text": [
      "860\n"
     ]
    },
    {
     "name": "stderr",
     "output_type": "stream",
     "text": [
      "\r",
      " 76%|███████████████████████████████████████████████▊               | 94/124 [13:45<04:24,  8.80s/it]"
     ]
    },
    {
     "name": "stdout",
     "output_type": "stream",
     "text": [
      "862\n"
     ]
    },
    {
     "name": "stderr",
     "output_type": "stream",
     "text": [
      "\r",
      " 77%|████████████████████████████████████████████████▎              | 95/124 [13:54<04:14,  8.79s/it]"
     ]
    },
    {
     "name": "stdout",
     "output_type": "stream",
     "text": [
      "863\n"
     ]
    },
    {
     "name": "stderr",
     "output_type": "stream",
     "text": [
      "\r",
      " 77%|████████████████████████████████████████████████▊              | 96/124 [14:02<04:06,  8.79s/it]"
     ]
    },
    {
     "name": "stdout",
     "output_type": "stream",
     "text": [
      "866\n"
     ]
    },
    {
     "name": "stderr",
     "output_type": "stream",
     "text": [
      "\r",
      " 78%|█████████████████████████████████████████████████▎             | 97/124 [14:11<03:57,  8.78s/it]"
     ]
    },
    {
     "name": "stdout",
     "output_type": "stream",
     "text": [
      "873\n"
     ]
    },
    {
     "name": "stderr",
     "output_type": "stream",
     "text": [
      "\r",
      " 79%|█████████████████████████████████████████████████▊             | 98/124 [14:20<03:48,  8.78s/it]"
     ]
    },
    {
     "name": "stdout",
     "output_type": "stream",
     "text": [
      "884\n"
     ]
    },
    {
     "name": "stderr",
     "output_type": "stream",
     "text": [
      "\r",
      " 80%|██████████████████████████████████████████████████▎            | 99/124 [14:29<03:39,  8.78s/it]"
     ]
    },
    {
     "name": "stdout",
     "output_type": "stream",
     "text": [
      "890\n"
     ]
    },
    {
     "name": "stderr",
     "output_type": "stream",
     "text": [
      "\r",
      " 81%|██████████████████████████████████████████████████            | 100/124 [14:37<03:30,  8.77s/it]"
     ]
    },
    {
     "name": "stdout",
     "output_type": "stream",
     "text": [
      "898\n"
     ]
    },
    {
     "name": "stderr",
     "output_type": "stream",
     "text": [
      "\r",
      " 81%|██████████████████████████████████████████████████▌           | 101/124 [14:46<03:21,  8.78s/it]"
     ]
    },
    {
     "name": "stdout",
     "output_type": "stream",
     "text": [
      "910\n"
     ]
    },
    {
     "name": "stderr",
     "output_type": "stream",
     "text": [
      "\r",
      " 82%|███████████████████████████████████████████████████           | 102/124 [14:55<03:13,  8.78s/it]"
     ]
    },
    {
     "name": "stdout",
     "output_type": "stream",
     "text": [
      "926\n"
     ]
    },
    {
     "name": "stderr",
     "output_type": "stream",
     "text": [
      "\r",
      " 83%|███████████████████████████████████████████████████▌          | 103/124 [15:04<03:04,  8.79s/it]"
     ]
    },
    {
     "name": "stdout",
     "output_type": "stream",
     "text": [
      "927\n"
     ]
    },
    {
     "name": "stderr",
     "output_type": "stream",
     "text": [
      "\r",
      " 84%|████████████████████████████████████████████████████          | 104/124 [15:13<02:55,  8.80s/it]"
     ]
    },
    {
     "name": "stdout",
     "output_type": "stream",
     "text": [
      "942\n"
     ]
    },
    {
     "name": "stderr",
     "output_type": "stream",
     "text": [
      "\r",
      " 85%|████████████████████████████████████████████████████▌         | 105/124 [15:21<02:47,  8.81s/it]"
     ]
    },
    {
     "name": "stdout",
     "output_type": "stream",
     "text": [
      "954\n"
     ]
    },
    {
     "name": "stderr",
     "output_type": "stream",
     "text": [
      "\r",
      " 85%|█████████████████████████████████████████████████████         | 106/124 [15:30<02:38,  8.82s/it]"
     ]
    },
    {
     "name": "stdout",
     "output_type": "stream",
     "text": [
      "971\n"
     ]
    },
    {
     "name": "stderr",
     "output_type": "stream",
     "text": [
      "\r",
      " 86%|█████████████████████████████████████████████████████▌        | 107/124 [15:39<02:29,  8.81s/it]"
     ]
    },
    {
     "name": "stdout",
     "output_type": "stream",
     "text": [
      "974\n"
     ]
    },
    {
     "name": "stderr",
     "output_type": "stream",
     "text": [
      "\r",
      " 87%|██████████████████████████████████████████████████████        | 108/124 [15:48<02:20,  8.80s/it]"
     ]
    },
    {
     "name": "stdout",
     "output_type": "stream",
     "text": [
      "1002\n"
     ]
    },
    {
     "name": "stderr",
     "output_type": "stream",
     "text": [
      "\r",
      " 88%|██████████████████████████████████████████████████████▌       | 109/124 [15:57<02:11,  8.79s/it]"
     ]
    },
    {
     "name": "stdout",
     "output_type": "stream",
     "text": [
      "1008\n"
     ]
    },
    {
     "name": "stderr",
     "output_type": "stream",
     "text": [
      "\r",
      " 89%|███████████████████████████████████████████████████████       | 110/124 [16:06<02:03,  8.84s/it]"
     ]
    },
    {
     "name": "stdout",
     "output_type": "stream",
     "text": [
      "1009\n"
     ]
    },
    {
     "name": "stderr",
     "output_type": "stream",
     "text": [
      "\r",
      " 90%|███████████████████████████████████████████████████████▌      | 111/124 [16:14<01:54,  8.83s/it]"
     ]
    },
    {
     "name": "stdout",
     "output_type": "stream",
     "text": [
      "1011\n"
     ]
    },
    {
     "name": "stderr",
     "output_type": "stream",
     "text": [
      "\r",
      " 90%|████████████████████████████████████████████████████████      | 112/124 [16:23<01:45,  8.80s/it]"
     ]
    },
    {
     "name": "stdout",
     "output_type": "stream",
     "text": [
      "1014\n"
     ]
    },
    {
     "name": "stderr",
     "output_type": "stream",
     "text": [
      "\r",
      " 91%|████████████████████████████████████████████████████████▌     | 113/124 [16:32<01:36,  8.78s/it]"
     ]
    },
    {
     "name": "stdout",
     "output_type": "stream",
     "text": [
      "1019\n"
     ]
    },
    {
     "name": "stderr",
     "output_type": "stream",
     "text": [
      "\r",
      " 92%|█████████████████████████████████████████████████████████     | 114/124 [16:41<01:27,  8.78s/it]"
     ]
    },
    {
     "name": "stdout",
     "output_type": "stream",
     "text": [
      "1023\n"
     ]
    },
    {
     "name": "stderr",
     "output_type": "stream",
     "text": [
      "\r",
      " 93%|█████████████████████████████████████████████████████████▌    | 115/124 [16:49<01:18,  8.77s/it]"
     ]
    },
    {
     "name": "stdout",
     "output_type": "stream",
     "text": [
      "1024\n"
     ]
    },
    {
     "name": "stderr",
     "output_type": "stream",
     "text": [
      "\r",
      " 94%|██████████████████████████████████████████████████████████    | 116/124 [16:58<01:09,  8.75s/it]"
     ]
    },
    {
     "name": "stdout",
     "output_type": "stream",
     "text": [
      "1036\n"
     ]
    },
    {
     "name": "stderr",
     "output_type": "stream",
     "text": [
      "\r",
      " 94%|██████████████████████████████████████████████████████████▌   | 117/124 [17:07<01:01,  8.75s/it]"
     ]
    },
    {
     "name": "stdout",
     "output_type": "stream",
     "text": [
      "1067\n"
     ]
    },
    {
     "name": "stderr",
     "output_type": "stream",
     "text": [
      "\r",
      " 95%|███████████████████████████████████████████████████████████   | 118/124 [17:16<00:52,  8.76s/it]"
     ]
    },
    {
     "name": "stdout",
     "output_type": "stream",
     "text": [
      "1077\n"
     ]
    },
    {
     "name": "stderr",
     "output_type": "stream",
     "text": [
      "\r",
      " 96%|███████████████████████████████████████████████████████████▌  | 119/124 [17:24<00:43,  8.78s/it]"
     ]
    },
    {
     "name": "stdout",
     "output_type": "stream",
     "text": [
      "1083\n"
     ]
    },
    {
     "name": "stderr",
     "output_type": "stream",
     "text": [
      "\r",
      " 97%|████████████████████████████████████████████████████████████  | 120/124 [17:33<00:35,  8.77s/it]"
     ]
    },
    {
     "name": "stdout",
     "output_type": "stream",
     "text": [
      "1091\n"
     ]
    },
    {
     "name": "stderr",
     "output_type": "stream",
     "text": [
      "\r",
      " 98%|████████████████████████████████████████████████████████████▌ | 121/124 [17:42<00:26,  8.76s/it]"
     ]
    },
    {
     "name": "stdout",
     "output_type": "stream",
     "text": [
      "1094\n"
     ]
    },
    {
     "name": "stderr",
     "output_type": "stream",
     "text": [
      "\r",
      " 98%|█████████████████████████████████████████████████████████████ | 122/124 [17:51<00:17,  8.77s/it]"
     ]
    },
    {
     "name": "stdout",
     "output_type": "stream",
     "text": [
      "1103\n"
     ]
    },
    {
     "name": "stderr",
     "output_type": "stream",
     "text": [
      "\r",
      " 99%|█████████████████████████████████████████████████████████████▌| 123/124 [17:59<00:08,  8.77s/it]"
     ]
    },
    {
     "name": "stdout",
     "output_type": "stream",
     "text": [
      "1110\n"
     ]
    },
    {
     "name": "stderr",
     "output_type": "stream",
     "text": [
      "100%|██████████████████████████████████████████████████████████████| 124/124 [18:08<00:00,  8.78s/it]"
     ]
    },
    {
     "name": "stdout",
     "output_type": "stream",
     "text": [
      " Precision of supporters: 0.3096774193548387, Precision of opposers: 0.15483870967741933\n"
     ]
    },
    {
     "name": "stderr",
     "output_type": "stream",
     "text": [
      "\n"
     ]
    }
   ],
   "source": [
    "# Rule 3 precision\n",
    "precision_sup=[]\n",
    "precision_op=[]\n",
    "for i in tqdm(rule33):\n",
    "    print(i)\n",
    "#     sup, op=expl_rule(i)\n",
    "#     influences = module.influences(train_idxs=train_idxs, test_idxs=[i])\n",
    "#     sup=influences.argsort(descending=True)[:10]\n",
    "#     op=influences.argsort()[:10]\n",
    "    df = df_construct(i, train_idxs)\n",
    "    sup= df[df.relatif>0].sort_values('relatif', ascending=False).head(10).index.tolist()\n",
    "    op= df[df.relatif<0].sort_values('relatif', ascending=True).head(10).index.tolist()\n",
    "    precision_sup.append(len([j for j in sup if re.search(pattern, text_train[j])])/len(sup))\n",
    "    precision_op.append(len([j for j in op if re.search(pattern, text_train[j])])/len(op))\n",
    "\n",
    "print(f' Precision of supporters: {sum(precision_sup)/len(precision_sup)}, Precision of opposers: {sum(precision_op)/len(precision_op)}')\n"
   ]
  },
  {
   "cell_type": "code",
   "execution_count": null,
   "id": "3e9b7fc2",
   "metadata": {},
   "outputs": [],
   "source": [
    "[i for i,j in enumerate(op) if '?' in j and len(j)<30]"
   ]
  },
  {
   "cell_type": "code",
   "execution_count": null,
   "id": "8b6f6895",
   "metadata": {},
   "outputs": [],
   "source": []
  },
  {
   "cell_type": "code",
   "execution_count": null,
   "id": "74a8ccc5",
   "metadata": {},
   "outputs": [],
   "source": []
  },
  {
   "cell_type": "code",
   "execution_count": null,
   "id": "9d996933",
   "metadata": {},
   "outputs": [],
   "source": []
  },
  {
   "cell_type": "code",
   "execution_count": null,
   "id": "0ad4e299",
   "metadata": {},
   "outputs": [],
   "source": []
  },
  {
   "cell_type": "code",
   "execution_count": null,
   "id": "1e508b8f",
   "metadata": {},
   "outputs": [],
   "source": [
    "df_pos_sl.index[4]"
   ]
  },
  {
   "cell_type": "code",
   "execution_count": null,
   "id": "5f41502c",
   "metadata": {},
   "outputs": [],
   "source": [
    "a=[(df_pos_sl.message.tolist()[i], clf(X_train[df_pos_sl.index[i]].unsqueeze(0)).item(), df_pos_sl.Label.tolist()[i]) for i in selected_indices_pos_sl]\n",
    "a"
   ]
  },
  {
   "cell_type": "code",
   "execution_count": null,
   "id": "2be2499c",
   "metadata": {},
   "outputs": [],
   "source": [
    "a1=[i[1] for i in a if i[0] in data1['message']]\n",
    "sum(a1)/len(a1)"
   ]
  },
  {
   "cell_type": "code",
   "execution_count": null,
   "id": "a5f8952e",
   "metadata": {},
   "outputs": [],
   "source": [
    "b=[(df_pos_ol.message.tolist()[i], clf(X_train[df_pos_ol.index[i]].unsqueeze(0)).item(), df_pos_ol.Label.tolist()[i]) for i in selected_indices_pos_ol]\n",
    "b"
   ]
  },
  {
   "cell_type": "code",
   "execution_count": null,
   "id": "0bd25353",
   "metadata": {},
   "outputs": [],
   "source": [
    "b1=[i[1] for i in b if i[0] in data1['message']]\n",
    "sum(b1)/len(b1)"
   ]
  },
  {
   "cell_type": "code",
   "execution_count": null,
   "id": "53ec58e7",
   "metadata": {},
   "outputs": [],
   "source": [
    "c=[(df_neg_sl.message.tolist()[i], clf(X_train[df_neg_sl.index[i]].unsqueeze(0)).item(), df_neg_sl.Label.tolist()[i]) for i in selected_indices_neg_sl]\n",
    "c"
   ]
  },
  {
   "cell_type": "code",
   "execution_count": null,
   "id": "d6e45d14",
   "metadata": {},
   "outputs": [],
   "source": [
    "c1=[i[1] for i in c if i[0] in data1['message']]\n",
    "sum(c1)/len(c1)"
   ]
  },
  {
   "cell_type": "code",
   "execution_count": null,
   "id": "a4b67733",
   "metadata": {},
   "outputs": [],
   "source": [
    "d=[(df_neg_ol.message.tolist()[i], clf(X_train[df_neg_ol.index[i]].unsqueeze(0)).item(), df_neg_ol.Label.tolist()[i]) for i in selected_indices_neg_ol]\n",
    "d"
   ]
  },
  {
   "cell_type": "code",
   "execution_count": null,
   "id": "3af1fa15",
   "metadata": {},
   "outputs": [],
   "source": [
    "d1=[i[1] for i in d if i[0] in data1['message']]\n",
    "sum(d1)/len(d1)"
   ]
  },
  {
   "cell_type": "code",
   "execution_count": null,
   "id": "282a8cc8",
   "metadata": {},
   "outputs": [],
   "source": [
    "from scipy.optimize import linear_sum_assignment\n",
    "\n",
    "\n",
    "def find_best_matches(embeddings_list1, embeddings_list2):\n",
    "    # Compute cosine similarity matrix\n",
    "    similarity_matrix = cosine_similarity(embeddings_list1, embeddings_list2)\n",
    "\n",
    "    # Use the Hungarian algorithm to find the optimal assignment\n",
    "    row_indices, col_indices = linear_sum_assignment(-similarity_matrix)\n",
    "\n",
    "    # Extract the pairs of best matches and their corresponding similarity scores\n",
    "    best_matches = [(row_indices[i], col_indices[i]) for i in range(len(row_indices))]\n",
    "    similarity_scores = [-similarity_matrix[row][col] for row, col in best_matches]\n",
    "\n",
    "    return best_matches, similarity_scores\n",
    "\n",
    "def average_mbm_similarity(embeddings_list1, embeddings_list2):\n",
    "    # Find the best matches and their similarity scores\n",
    "    best_matches, similarity_scores = find_best_matches(embeddings_list1, embeddings_list2)\n",
    "\n",
    "    # Compute the average cosine similarity using the similarity scores\n",
    "    avg_similarity = np.mean(np.abs(similarity_scores))\n",
    "    \n",
    "    return avg_similarity\n",
    "\n",
    "def jaccard_similarity(set1, set2):\n",
    "    intersection = len(set1.intersection(set2))\n",
    "    union = len(set1.union(set2))\n",
    "    return intersection / union\n",
    "\n",
    "def get_explanation(i):\n",
    "    \n",
    "        df = df_construct(i, train_idxs)\n",
    "        df_pos_sl, df_pos_ol = input_data(df, i, sett='positive')\n",
    "        df_neg_ol, df_neg_sl = input_data(df, i, sett='negative')\n",
    "        selected_indices_pos_sl = greedy_subset_selection(df_pos_sl, N=5, sett='positive', label='same')\n",
    "        selected_indices_pos_ol = greedy_subset_selection(df_pos_ol, N=5, sett='positive', label='opposite')\n",
    "        selected_indices_neg_sl = greedy_subset_selection(df_neg_sl, N=5, sett='negative', label='same')\n",
    "        selected_indices_neg_ol = greedy_subset_selection(df_neg_ol, N=5, sett='negative', label='opposite')\n",
    "        a=[df_pos_sl.Influence.index[k] for k in selected_indices_pos_sl]\n",
    "        b=[df_neg_ol.Influence.index[k] for k in selected_indices_neg_ol]\n",
    "        c=[df_neg_sl.Influence.index[k] for k in selected_indices_neg_sl]\n",
    "        d=[df_pos_ol.Influence.index[k] for k in selected_indices_pos_ol]\n",
    "        return a+b\n",
    "\n",
    "def aide_eval(test_idx):\n",
    "    simlist=np.array([cosine_similarity(X_test[test_idx].numpy().reshape(1,-1), X_test[i].numpy().reshape(1, -1)).item() for i in range(len(X_test))])\n",
    "    mostsim=simlist.argsort()[-1:]\n",
    "    leastsim=simlist.argsort()[:1]\n",
    "    concatenated_array = np.concatenate((mostsim, leastsim)).tolist()\n",
    "    cosine_sim=simlist[[concatenated_array]]\n",
    "    set1=get_explanation(test_idx)\n",
    "#     mean_ex_similarity=[]\n",
    "    jaccard_sim=[]\n",
    "    mbm_sim=[]\n",
    "    fuzzy_jac=[]\n",
    "    for i in tqdm(concatenated_array):\n",
    "        set2=get_explanation(i)\n",
    "        jaccard_sim.append(jaccard_similarity(set(set1), set(set2)))\n",
    "#         similarity_matrix = cosine_similarity(X_train[[set1]], X_train[[set2]])\n",
    "#         mean_ex_similarity.append(np.mean(similarity_matrix))\n",
    "        mbm=average_mbm_similarity(X_train[[set1]], X_train[[set2]])\n",
    "#         mbm_sim.append(mbm)\n",
    "        fuzzy_jac.append(mbm/(len(set2)/5 - mbm))\n",
    "    return cosine_sim.flatten().tolist(), mbm_sim, fuzzy_jac,jaccard_sim\n",
    "\n",
    "import random\n",
    "sample_idx = random.sample(range(0, X_test.shape[0]), 1)\n",
    "cosine_total=[]\n",
    "# mbm_total=[]\n",
    "fuzzy_total=[]\n",
    "jaccard_total=[]\n",
    "for i in tqdm(sample_idx):\n",
    "    cosine_sim, mbm_sim, fuzzy_jac,jaccard_sim = aide_eval(i)\n",
    "    cosine_total.append(cosine_sim)\n",
    "#     mbm_total.append(mbm_sim)\n",
    "    fuzzy_total.append(fuzzy_jac)\n",
    "#     mean_total.append(mean_ex_similarity)\n",
    "    jaccard_total.append(jaccard_sim)\n",
    "\n",
    "plt.figure()\n",
    "plt.scatter(cosine_total, jaccard_total, alpha=0.5)\n",
    "plt.xlabel('Cosine Similarity of Emails')\n",
    "plt.ylabel('Jaccard Similarity of Explanations')\n",
    "plt.rcParams['pdf.fonttype'] = 42\n",
    "plt.rcParams['ps.fonttype'] = 42\n",
    "plt.legend(fontsize=14)\n",
    "\n",
    "plt.figure()\n",
    "plt.scatter(cosine_total, fuzzy_total, alpha=0.5)\n",
    "plt.xlabel('Cosine Similarity of Emails')\n",
    "plt.ylabel('Fuzzy Jaccard Similarity of Explanations')\n",
    "plt.rcParams['pdf.fonttype'] = 42\n",
    "plt.rcParams['ps.fonttype'] = 42\n"
   ]
  },
  {
   "cell_type": "code",
   "execution_count": null,
   "id": "4f8227d9",
   "metadata": {},
   "outputs": [],
   "source": [
    "plt.rcParams.update({'font.size': 16})\n",
    "plt.figure()\n",
    "plt.scatter(cosine_total, jaccard_total, alpha=0.5)\n",
    "plt.xlabel('Cosine Similarity')\n",
    "plt.ylabel('Jaccard Similarity')\n",
    "plt.rcParams['pdf.fonttype'] = 42\n",
    "plt.rcParams['ps.fonttype'] = 42\n",
    "\n",
    "# plt.savefig('your_plot.pdf', bbox_inches='tight')"
   ]
  },
  {
   "cell_type": "code",
   "execution_count": null,
   "id": "034e359b",
   "metadata": {},
   "outputs": [],
   "source": [
    "fuzzy_jac"
   ]
  },
  {
   "cell_type": "raw",
   "id": "f948149d",
   "metadata": {},
   "source": [
    "My slave! I want you to take 2 or 3 pictures of yourself today in bright light on your cell phone! Bright light!',\n",
    "  0.0\n",
    " \n",
    " \"Do you realize that in about 40 years, we'll have thousands of old ladies running around with tattoos?\",\n",
    "  1.0\n",
    "  \n",
    "  'Its a valentine game. . . Send dis msg to all ur friends. .. If 5 answers r d same then someone really loves u. Ques- which colour suits me the best?rply me'  0\n",
    "  \n",
    "  \"Do you ever notice that when you're driving, anyone going slower than you is an idiot and everyone driving faster than you is a maniac?\",\n",
    "  1.0"
   ]
  },
  {
   "cell_type": "code",
   "execution_count": null,
   "id": "bf8469b0",
   "metadata": {
    "scrolled": false
   },
   "outputs": [],
   "source": [
    "# Initialize the t-SNE algorithm\n",
    "tsne = TSNE(n_components=2, random_state=42)\n",
    "\n",
    "# Combine the training and test tensors\n",
    "X = torch.cat((X_train, X_test), dim=0)\n",
    "y = torch.cat((y_train, y_test), dim=0)\n",
    "\n",
    "# Convert the tensors to numpy arrays\n",
    "X = X.numpy()\n",
    "y = y.numpy()\n",
    "\n",
    "# Initialize the t-SNE algorithm\n",
    "tsne = TSNE(n_components=2, random_state=42)\n",
    "\n",
    "# Fit and transform the data to 2D\n",
    "X_2d = tsne.fit_transform(X)\n",
    "\n",
    "# Plot the data in 2D with different colors and alpha values for each class\n",
    "plt.scatter(X_2d[y==0, 0], X_2d[y==0, 1], marker='o', c='#7FFFD4',  label='Ham', alpha=0.7)\n",
    "plt.scatter(X_2d[y==1, 0], X_2d[y==1, 1], marker='o', c='#FFE5B4',  label='Spam', alpha=0.5)\n",
    "\n",
    "\n",
    "\n",
    "plt.scatter(X_2d[len(y_train)+test_idx][0], X_2d[len(y_train)+test_idx][1], marker='.', color='red')\n",
    "\n",
    "plt.scatter([X_2d[df_pos_sl.index[i]][0] for i in selected_indices_pos_sl],\n",
    "        [X_2d[df_pos_sl.index[i]][1] for i in selected_indices_pos_sl], marker='+', color='black', label='Support by Relevance')\n",
    "\n",
    "# plt.scatter([X_2d[df_pos_ol.index[i]][0] for i in selected_indices_pos_ol],\n",
    "#         [X_2d[df_pos_ol.index[i]][1] for i in selected_indices_pos_ol], marker='x', color='orange', label='Support by Contrast')\n",
    "\n",
    "# plt.scatter([X_2d[df_neg_sl.index[i]][0] for i in selected_indices_neg_sl],\n",
    "#         [X_2d[df_neg_sl.index[i]][1] for i in selected_indices_neg_sl], marker='+', color='black', label='Oppose by Contrast')\n",
    "\n",
    "plt.scatter([X_2d[df_neg_ol.index[i]][0] for i in selected_indices_neg_ol],\n",
    "        [X_2d[df_neg_ol.index[i]][1] for i in selected_indices_neg_ol], marker='x', color='blue', label='Oppose by Relevance')\n",
    "\n",
    "# plt.scatter([X_2d[df_pos_sl.index[i]][0] for i in range(3)], [X_2d[df_pos_sl.index[i]][1] for i in range(3)],\n",
    "#             marker='*', color='red', label='Influential Instances')\n",
    "# plt.scatter([X_2d[df_pos_sl.sort_values('Similarity', ascending=False).index[i]][0] for i in range(3)],\n",
    "#             [X_2d[df_pos_sl.sort_values('Similarity', ascending=False).index[i]][1] for i in range(3)],\n",
    "#             marker='+', color='green', label='Similar Instances')\n",
    "\n",
    "plt.legend()\n",
    "plt.savefig(f'tsne_aide{test_idx}.pdf', format='pdf')\n",
    "plt.show()"
   ]
  }
 ],
 "metadata": {
  "kernelspec": {
   "display_name": "Python 3 (ipykernel)",
   "language": "python",
   "name": "python3"
  },
  "language_info": {
   "codemirror_mode": {
    "name": "ipython",
    "version": 3
   },
   "file_extension": ".py",
   "mimetype": "text/x-python",
   "name": "python",
   "nbconvert_exporter": "python",
   "pygments_lexer": "ipython3",
   "version": "3.9.13"
  }
 },
 "nbformat": 4,
 "nbformat_minor": 5
}
