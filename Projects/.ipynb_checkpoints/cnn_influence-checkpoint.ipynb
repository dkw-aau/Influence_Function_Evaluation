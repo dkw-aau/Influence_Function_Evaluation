{
 "cells": [
  {
   "cell_type": "code",
   "execution_count": 1,
   "id": "47a2be14",
   "metadata": {},
   "outputs": [],
   "source": [
    "from image_explainer import *\n",
    "from utils import *\n",
    "import matplotlib.pyplot as plt\n",
    "import matplotlib.transforms as mtrans\n",
    "import numpy as np\n",
    "import pandas as pd\n",
    "import torch\n",
    "import torchvision\n",
    "from sklearn.manifold import TSNE\n",
    "from modules import *\n",
    "import random"
   ]
  },
  {
   "cell_type": "code",
   "execution_count": 2,
   "id": "4405138b",
   "metadata": {},
   "outputs": [
    {
     "name": "stdout",
     "output_type": "stream",
     "text": [
      "Using cached Inceptionv3 embeddings: /user/cs.aau.dk/em63by/Influence_Function_Evaluation/Projects/data/dataset_coda.npz\n"
     ]
    }
   ],
   "source": [
    "embeds = load_inception_embeds()\n",
    "\n",
    "X_train = torch.tensor(embeds[\"X_train\"])\n",
    "Y_train = torch.tensor(embeds[\"Y_train\"])\n",
    "\n",
    "X_test = torch.tensor(embeds[\"X_test\"])\n",
    "Y_test = torch.tensor(embeds[\"Y_test\"])\n",
    "\n",
    "# rule#1:\n",
    "# Y_train[:100]=torch.tensor(0)\n",
    "# for i in X_train[:100]:\n",
    "#     i[:500]=torch.tensor(0)\n",
    "#     i[-500:]=torch.tensor(0)\n",
    "\n",
    "# X_test[200][:500]=torch.tensor(0)\n",
    "# X_test[200][-500:]=torch.tensor(0)\n",
    "# Y_test[200]=torch.tensor(0)\n",
    "# Y_test[300] = torch.tensor([0.])\n",
    "# Y_test[458] = torch.tensor([0.])\n",
    "train_set = data.TensorDataset(X_train, Y_train)\n",
    "test_set = data.TensorDataset(X_test, Y_test)\n",
    "clf = fit_model(X_train, Y_train)"
   ]
  },
  {
   "cell_type": "code",
   "execution_count": 3,
   "id": "1212bdae",
   "metadata": {},
   "outputs": [],
   "source": [
    "# test_idx = 300\n",
    "# testsimilarity=[cosine_similarity(X_test[test_idx].numpy().reshape(1,-1), X_test[i].numpy().reshape(1, -1)).item()\n",
    "#                for i in range(len(X_test))]"
   ]
  },
  {
   "cell_type": "code",
   "execution_count": 4,
   "id": "82f47080",
   "metadata": {},
   "outputs": [],
   "source": [
    "module = LiSSAInfluenceModule(\n",
    "    model=clf,\n",
    "    objective=BinClassObjective(),\n",
    "    train_loader=data.DataLoader(train_set, batch_size=32),\n",
    "    test_loader=data.DataLoader(test_set, batch_size=32),\n",
    "    device=DEVICE,\n",
    "    damp=0.001,\n",
    "    repeat= 1,\n",
    "    depth=1800,\n",
    "    scale= 10,\n",
    ")\n",
    "train_idxs = list(range(X_train.shape[0]))"
   ]
  },
  {
   "cell_type": "code",
   "execution_count": 5,
   "id": "7ad9c486",
   "metadata": {},
   "outputs": [],
   "source": [
    "# image = captioned_image(clf, embeds, 'test', 73)\n",
    "# plt.imshow(image)\n",
    "# plt.axis('off')\n",
    "# plt.show()"
   ]
  },
  {
   "cell_type": "code",
   "execution_count": 6,
   "id": "7b63173d",
   "metadata": {},
   "outputs": [],
   "source": [
    "# Build a dataframe with X-trains with threir corresponding influence scores and similarity\n",
    "def df_construct(test_idx, train_idxs):\n",
    "    influences = module.influences(train_idxs=train_idxs, test_idxs=[test_idx])\n",
    "    \n",
    "    similarity=[cosine_similarity(X_test[test_idx].numpy().reshape(1,-1), X_train[i].numpy().reshape(1, -1)).item()\n",
    "               for i in range(len(X_train))]\n",
    "    squared_diff = (clf(X_train.to(DEVICE)) - Y_train.to(DEVICE))**2\n",
    "\n",
    "    # Calculate the RMS error for each training point\n",
    "    train_losses = torch.sqrt(squared_diff)\n",
    "\n",
    "    # Detach the tensor from the computation graph\n",
    "    train_losses = train_losses.detach().requires_grad_(False)\n",
    "    relatif=influences/train_losses\n",
    "\n",
    "    data = {'Influence': influences.reshape(-1).tolist(), \"Relatif\":relatif, 'Similarity': similarity, 'Y_train':Y_train.tolist(), \n",
    "            'X_train':X_train.numpy().tolist()}\n",
    "    df = pd.DataFrame(data)\n",
    "    return df\n",
    "\n",
    "# test_idx = 200\n",
    "# df = df_construct(test_idx, train_idxs)"
   ]
  },
  {
   "cell_type": "code",
   "execution_count": null,
   "id": "e234a4ba",
   "metadata": {},
   "outputs": [],
   "source": []
  },
  {
   "cell_type": "code",
   "execution_count": null,
   "id": "fbb0f4fc",
   "metadata": {},
   "outputs": [],
   "source": [
    "df_pos_sl, df_pos_ol = input_data(df, test_idx, Y_test, sett='positive')\n",
    "df_neg_ol, df_neg_sl = input_data(df, test_idx, Y_test, sett='negative')\n",
    "selected_indices_pos_sl = greedy_subset_selection(df_pos_sl, N=3, sett='positive', label='same')\n",
    "selected_indices_pos_ol = greedy_subset_selection(df_pos_ol, N=3, sett='positive', label='opposite')\n",
    "selected_indices_neg_sl = greedy_subset_selection(df_neg_sl, N=3, sett='negative', label='same')\n",
    "selected_indices_neg_ol = greedy_subset_selection(df_neg_ol, N=3, sett='negative', label='opposite')\n"
   ]
  },
  {
   "cell_type": "code",
   "execution_count": null,
   "id": "a8a745e6",
   "metadata": {},
   "outputs": [],
   "source": []
  },
  {
   "cell_type": "code",
   "execution_count": null,
   "id": "7c4ceab1",
   "metadata": {},
   "outputs": [],
   "source": [
    " def draw(test_indx, train_idxs): \n",
    "    # ===========\n",
    "    # Plot image\n",
    "    # =========\n",
    "    new_line = '\\n'\n",
    "    fig, axs = plt.subplots(2, 3, figsize=(8.5, 6))\n",
    "    \n",
    "    for i, j in enumerate((-train_idxs).argsort()[:6]):\n",
    "        if i<3:\n",
    "            axs[0, i].imshow(captioned_image(clf, embeds, 'train', j)) \n",
    "            axs[0, i].text(0.5, -0.1, \"Dog\", size=14, ha=\"center\", transform=axs[0, i].transAxes)\n",
    "            axs[0, i].axis('off')\n",
    "        else:\n",
    "            axs[1, i-3].imshow(captioned_image(clf, embeds, 'train', j)) \n",
    "            axs[1, i-3].text(0.5, -0.1, \"Dog\", size=14, ha=\"center\", transform=axs[1, i-3].transAxes)\n",
    "            axs[1, i-3].axis('off')\n",
    "        \n",
    "#     for i, j in enumerate(train_idxs.argsort()[:6]):\n",
    "#         axs[2, i].imshow(captioned_image(clf, embeds, 'train', j))\n",
    "#         axs[2, i].axis('off')\n",
    "#         axs[2, i].text(0.5, -0.15, f\"Influence: {train_idxs[j]:.8f} {new_line} Label: {Y_train[j.item()].item()}\", size=10, ha=\"center\", transform=axs[2, i].transAxes)\n",
    "    plt.subplots_adjust(wspace=0.1, hspace=0.1)\n",
    "#     plt.savefig(f'inf_{test_indx}.svg', format='svg', bbox_inches=\"tight\")\n",
    "    plt.show() \n",
    "    \n",
    "draw(test_idx,np.array(df.Influence.tolist()))"
   ]
  },
  {
   "cell_type": "code",
   "execution_count": null,
   "id": "0444572a",
   "metadata": {},
   "outputs": [],
   "source": [
    " def draw(test_indx, train_idxs): \n",
    "    # ===========\n",
    "    # Plot image\n",
    "    # =========\n",
    "    new_line = '\\n'\n",
    "    fig, axs = plt.subplots(2, 3, figsize=(8.5, 6))\n",
    "    \n",
    "    for i, j in enumerate(train_idxs[:6]):\n",
    "        if i<3:\n",
    "            axs[0, i].imshow(captioned_image(clf, embeds, 'train', j)) \n",
    "            axs[0, i].text(0.5, -0.1, \"Dog\", size=14, ha=\"center\", transform=axs[0, i].transAxes)\n",
    "            axs[0, i].axis('off')\n",
    "        else:\n",
    "            axs[1, i-3].imshow(captioned_image(clf, embeds, 'train', j)) \n",
    "            axs[1, i-3].text(0.5, -0.1, \"Dog\", size=14, ha=\"center\", transform=axs[1, i-3].transAxes)\n",
    "            axs[1, i-3].axis('off')\n",
    "        \n",
    "#     for i, j in enumerate(train_idxs.argsort()[:6]):\n",
    "#         axs[2, i].imshow(captioned_image(clf, embeds, 'train', j))\n",
    "#         axs[2, i].axis('off')\n",
    "#         axs[2, i].text(0.5, -0.15, f\"Influence: {train_idxs[j]:.8f} {new_line} Label: {Y_train[j.item()].item()}\", size=10, ha=\"center\", transform=axs[2, i].transAxes)\n",
    "    plt.subplots_adjust(wspace=0.1, hspace=0.1)\n",
    "#     plt.savefig(f'relatif_{test_indx}.svg', format='svg', bbox_inches=\"tight\")\n",
    "    plt.show() \n",
    "    \n",
    "draw(test_idx,df.sort_values(\"Influence\", ascending=False)[:54].sort_values(\"Relatif\", ascending=False).index)"
   ]
  },
  {
   "cell_type": "code",
   "execution_count": null,
   "id": "18087fc7",
   "metadata": {},
   "outputs": [],
   "source": [
    "plt.imshow(captioned_image(clf, embeds, 'test', 8))"
   ]
  },
  {
   "cell_type": "code",
   "execution_count": null,
   "id": "0b053ff5",
   "metadata": {},
   "outputs": [],
   "source": [
    "def print_result(test_idx, selected_indices_neg_ol=None, selected_indices_neg_sl=None,\n",
    "                 selected_indices_pos_sl=None, selected_indices_pos_ol=None,\n",
    "                 df_neg_ol=None, df_neg_sl=None,\n",
    "                 df_pos_sl=None, df_pos_ol=None): \n",
    "    \n",
    "    new_line = '\\n'\n",
    "    fig, axs = plt.subplots(2, 3, figsize=(8.5, 6))\n",
    "    \n",
    "    for i, j in enumerate(selected_indices_pos_sl):\n",
    "        axs[0, i].imshow(captioned_image(clf, embeds, 'train', df_pos_sl.Influence.index[j])) \n",
    "#         axs[0, i].text(0.5, -0.1, \"Dog\", size=14, ha=\"center\", transform=axs[0, i].transAxes)\n",
    "        axs[0, i].axis('off')\n",
    "\n",
    "    for i, j in enumerate(selected_indices_pos_ol):\n",
    "        axs[1, i].imshow(captioned_image(clf, embeds, 'train', df_pos_ol.Influence.index[j])) \n",
    "#         axs[1, i].text(0.5, -0.1, \"Fish\", size=14, ha=\"center\", transform=axs[1, i].transAxes)\n",
    "        axs[1, i].axis('off')    \n",
    "        \n",
    "#     for i, j in enumerate(selected_indices_neg_ol):\n",
    "#         axs[2, i].imshow(captioned_image(clf, embeds, 'train', df_neg_ol.Influence.index[j])) \n",
    "# #         axs[2, i].text(0.5, -0.1, \"Fish\", size=14, ha=\"center\", transform=axs[2, i].transAxes)\n",
    "#         axs[2, i].axis('off')\n",
    "\n",
    "#     for i, j in enumerate(selected_indices_neg_sl):\n",
    "#         axs[3, i].imshow(captioned_image(clf, embeds, 'train', df_neg_sl.Influence.index[j])) \n",
    "# #         axs[3, i].text(0.5, -0.1, \"Dog\", size=14, ha=\"center\", transform=axs[3, i].transAxes)\n",
    "#         axs[3, i].axis('off')           \n",
    "    plt.subplots_adjust(wspace=0.1, hspace=0.1)\n",
    "    \n",
    "#     plt.savefig(f'ibd_{test_idx}.svg', format='svg', bbox_inches=\"tight\")\n",
    "\n",
    "    plt.show() \n",
    "    \n",
    "    \n",
    "    \n",
    "print_result(test_idx, selected_indices_neg_ol=selected_indices_neg_ol, selected_indices_neg_sl=selected_indices_neg_sl,\n",
    "                 selected_indices_pos_sl=selected_indices_pos_sl, selected_indices_pos_ol=selected_indices_pos_ol,\n",
    "                 df_neg_ol=df_neg_ol, df_neg_sl=df_neg_sl,\n",
    "                 df_pos_sl=df_pos_sl, df_pos_ol=df_pos_ol)"
   ]
  },
  {
   "cell_type": "code",
   "execution_count": null,
   "id": "936d81d9",
   "metadata": {},
   "outputs": [],
   "source": [
    " def draw(test_indx, train_idxs): \n",
    "    # ===========\n",
    "    # Plot image\n",
    "    # =========\n",
    "    new_line = '\\n'\n",
    "    fig, axs = plt.subplots(3, 3, figsize=(11, 11))\n",
    "    axs[0, 0].imshow(captioned_image(clf, embeds, 'test', test_indx))\n",
    "    axs[0, 0].axis('off')\n",
    "    axs[0, 0].text(0.5, -0.15, f\"Prediction: {clf(X_test[test_indx].unsqueeze(0)).round().item()} {new_line} Actual Label: {Y_test[test_indx].item()}\", size=14, ha=\"center\", transform=axs[0, 0].transAxes)\n",
    "    axs[1, 0].text(-0.1, 0, 'Influential Samples',size=14, rotation=90, va='center', ha='right', transform=axs[1, 0].transAxes)\n",
    "    axs[0, 0].set_title('Test Prediction',size=14)\n",
    "    \n",
    "    for i, j in enumerate((-train_idxs).argsort()[:6]):\n",
    "        if i<3:\n",
    "            axs[1, i].imshow(captioned_image(clf, embeds, 'train', j)) \n",
    "            axs[1, i].text(0.5, -0.1, f\"Label: {Y_train[j.item()].item()}\", size=14, ha=\"center\", transform=axs[1, i].transAxes)\n",
    "            axs[1, i].axis('off')\n",
    "            axs[0, i].axis('off')\n",
    "        else:\n",
    "            axs[2, i-3].imshow(captioned_image(clf, embeds, 'train', j)) \n",
    "            axs[2, i-3].text(0.5, -0.1, f\"Label: {Y_train[j.item()].item()}\", size=14, ha=\"center\", transform=axs[2, i-3].transAxes)\n",
    "            axs[2, i-3].axis('off')\n",
    "            axs[0, i-3].axis('off')\n",
    "        \n",
    "#     for i, j in enumerate(train_idxs.argsort()[:6]):\n",
    "#         axs[2, i].imshow(captioned_image(clf, embeds, 'train', j))\n",
    "#         axs[2, i].axis('off')\n",
    "#         axs[2, i].text(0.5, -0.15, f\"Influence: {train_idxs[j]:.8f} {new_line} Label: {Y_train[j.item()].item()}\", size=10, ha=\"center\", transform=axs[2, i].transAxes)\n",
    "\n",
    "#     plt.savefig(f'inf_{test_indx}.eps', format='eps', bbox_inches=\"tight\")\n",
    "\n",
    "    plt.show() \n",
    "draw(test_idx,np.array(df.Influence.tolist()))"
   ]
  },
  {
   "cell_type": "code",
   "execution_count": null,
   "id": "0baa9553",
   "metadata": {},
   "outputs": [],
   "source": [
    "selected_indices_pos_ol"
   ]
  },
  {
   "cell_type": "code",
   "execution_count": 20,
   "id": "2906e65c",
   "metadata": {},
   "outputs": [],
   "source": [
    "from sklearn.metrics.pairwise import cosine_similarity\n",
    "def jaccard_similarity(set1, set2):\n",
    "    intersection = len(set1.intersection(set2))\n",
    "    union = len(set1.union(set2))\n",
    "    return intersection / union\n",
    "\n",
    "def get_explanation(i):\n",
    "    \n",
    "        df = df_construct(i, train_idxs)\n",
    "        df_pos_sl, df_pos_ol = input_data(df, i, Y_test, sett='positive')\n",
    "        df_neg_ol, df_neg_sl = input_data(df, i, Y_test, sett='negative')\n",
    "        selected_indices_pos_sl = greedy_subset_selection(df_pos_sl, N=5, sett='positive', label='same')\n",
    "        selected_indices_pos_ol = greedy_subset_selection(df_pos_ol, N=5, sett='positive', label='opposite')\n",
    "        selected_indices_neg_sl = greedy_subset_selection(df_neg_sl, N=5, sett='negative', label='same')\n",
    "        selected_indices_neg_ol = greedy_subset_selection(df_neg_ol, N=5, sett='negative', label='opposite')\n",
    "        a=[df_pos_sl.Influence.index[k] for k in selected_indices_pos_sl]\n",
    "        b=[df_neg_ol.Influence.index[k] for k in selected_indices_neg_ol]\n",
    "        c=[df_neg_sl.Influence.index[k] for k in selected_indices_neg_sl]\n",
    "        d=[df_pos_ol.Influence.index[k] for k in selected_indices_pos_ol]\n",
    "        return a+b\n",
    "\n",
    "from scipy.optimize import linear_sum_assignment\n",
    "\n",
    "def find_best_matches(embeddings_list1, embeddings_list2):\n",
    "    # Compute cosine similarity matrix\n",
    "    similarity_matrix = cosine_similarity(embeddings_list1, embeddings_list2)\n",
    "\n",
    "    # Use the Hungarian algorithm to find the optimal assignment\n",
    "    row_indices, col_indices = linear_sum_assignment(-similarity_matrix)\n",
    "\n",
    "    # Extract the pairs of best matches and their corresponding similarity scores\n",
    "    best_matches = [(row_indices[i], col_indices[i]) for i in range(len(row_indices))]\n",
    "    similarity_scores = [-similarity_matrix[row][col] for row, col in best_matches]\n",
    "\n",
    "    return best_matches, similarity_scores\n",
    "\n",
    "def average_mbm_similarity(embeddings_list1, embeddings_list2):\n",
    "    # Find the best matches and their similarity scores\n",
    "    best_matches, similarity_scores = find_best_matches(embeddings_list1, embeddings_list2)\n",
    "\n",
    "    # Compute the average cosine similarity using the similarity scores\n",
    "    avg_similarity = np.mean(np.abs(similarity_scores))\n",
    "    \n",
    "    return avg_similarity\n",
    "    \n",
    "    \n",
    "def aide_eval(test_idx):\n",
    "    simlist=np.array([cosine_similarity(X_test[test_idx].numpy().reshape(1,-1), X_test[i].numpy().reshape(1, -1)).item()\n",
    "               for i in range(len(X_test))])\n",
    "    mostsim=simlist.argsort()[-5:]\n",
    "    leastsim=simlist.argsort()[:5]\n",
    "    concatenated_array = np.concatenate((mostsim, leastsim)).tolist()\n",
    "    set1=get_explanation(test_idx)\n",
    "    print(f'set1 for {test_idx},  {set1}')\n",
    "    mbm_sim=[]\n",
    "    carray=[]\n",
    "    jac_sim=[]\n",
    "    for i in tqdm(concatenated_array):\n",
    "        influences = module.influences(train_idxs=train_idxs, test_idxs=[i])\n",
    "        if np.count_nonzero(influences)>800:\n",
    "            set2=get_explanation(i)\n",
    "            print(f'from set2 =>{i} = > explanation {set2}')\n",
    "            jac_sim.append(jaccard_similarity(set(set1), set(set2)))\n",
    "            similarity_matrix = cosine_similarity(X_train[[set1]], X_train[[set2]])\n",
    "            mbm_sim.append(average_mbm_similarity(X_train[[set1]], X_train[[set2]]))\n",
    "            carray.append(i)\n",
    "        else:\n",
    "            continue\n",
    "    cosine_sim=simlist[[carray]]\n",
    "    return cosine_sim.flatten().tolist(), mbm_sim, jac_sim\n",
    "        "
   ]
  },
  {
   "cell_type": "code",
   "execution_count": null,
   "id": "b57739f1",
   "metadata": {
    "scrolled": true
   },
   "outputs": [
    {
     "name": "stderr",
     "output_type": "stream",
     "text": [
      "\r",
      "  0%|                                                                        | 0/40 [00:00<?, ?it/s]"
     ]
    },
    {
     "name": "stdout",
     "output_type": "stream",
     "text": [
      "set1 for 359,  [1386, 1289, 1726, 1380, 593, 35, 1312, 1744, 548, 349]\n"
     ]
    },
    {
     "name": "stderr",
     "output_type": "stream",
     "text": [
      "\n",
      "  0%|                                                                        | 0/10 [00:00<?, ?it/s]\u001b[A\n",
      " 10%|██████▍                                                         | 1/10 [00:12<01:52, 12.46s/it]\u001b[A"
     ]
    },
    {
     "name": "stdout",
     "output_type": "stream",
     "text": [
      "from set2 =>100 = > explanation [999, 1723, 155, 1289, 1726, 1744, 1447, 1454, 1514, 492]\n"
     ]
    },
    {
     "name": "stderr",
     "output_type": "stream",
     "text": [
      "\n",
      " 20%|████████████▊                                                   | 2/10 [00:24<01:39, 12.48s/it]\u001b[A"
     ]
    },
    {
     "name": "stdout",
     "output_type": "stream",
     "text": [
      "from set2 =>35 = > explanation [40, 1380, 1289, 1726, 155, 1744, 1454, 492, 472, 895]\n"
     ]
    },
    {
     "name": "stderr",
     "output_type": "stream",
     "text": [
      "\n",
      " 30%|███████████████████▏                                            | 3/10 [00:37<01:27, 12.48s/it]\u001b[A"
     ]
    },
    {
     "name": "stdout",
     "output_type": "stream",
     "text": [
      "from set2 =>432 = > explanation [1386, 1380, 1289, 1726, 40, 1744, 895, 1454, 1447, 1560]\n"
     ]
    },
    {
     "name": "stderr",
     "output_type": "stream",
     "text": [
      "\n",
      " 40%|█████████████████████████▌                                      | 4/10 [00:49<01:14, 12.47s/it]\u001b[A"
     ]
    },
    {
     "name": "stdout",
     "output_type": "stream",
     "text": [
      "from set2 =>139 = > explanation [40, 1380, 1289, 1726, 1386, 737, 1454, 895, 1447, 492]\n"
     ]
    },
    {
     "name": "stderr",
     "output_type": "stream",
     "text": [
      "\n",
      " 50%|████████████████████████████████                                | 5/10 [01:02<01:02, 12.47s/it]\u001b[A"
     ]
    },
    {
     "name": "stdout",
     "output_type": "stream",
     "text": [
      "from set2 =>359 = > explanation [1386, 1289, 1726, 1380, 593, 35, 1312, 1744, 548, 349]\n"
     ]
    },
    {
     "name": "stderr",
     "output_type": "stream",
     "text": [
      "\n",
      " 60%|██████████████████████████████████████▍                         | 6/10 [01:14<00:49, 12.49s/it]\u001b[A"
     ]
    },
    {
     "name": "stdout",
     "output_type": "stream",
     "text": [
      "from set2 =>529 = > explanation [500, 1084, 416, 1611, 912, 1153, 302, 1496, 71, 140]\n"
     ]
    },
    {
     "name": "stderr",
     "output_type": "stream",
     "text": [
      "\n",
      " 70%|████████████████████████████████████████████▊                   | 7/10 [01:27<00:37, 12.48s/it]\u001b[A"
     ]
    },
    {
     "name": "stdout",
     "output_type": "stream",
     "text": [
      "from set2 =>161 = > explanation [1523, 461, 339, 626, 593, 971, 526, 1447, 1269, 1466]\n"
     ]
    },
    {
     "name": "stderr",
     "output_type": "stream",
     "text": [
      "\n",
      " 80%|███████████████████████████████████████████████████▏            | 8/10 [01:39<00:24, 12.49s/it]\u001b[A"
     ]
    },
    {
     "name": "stdout",
     "output_type": "stream",
     "text": [
      "from set2 =>532 = > explanation [1272, 461, 955, 339, 593, 971, 1097, 821, 818, 1447]\n"
     ]
    },
    {
     "name": "stderr",
     "output_type": "stream",
     "text": [
      "\n",
      " 90%|█████████████████████████████████████████████████████████▌      | 9/10 [01:52<00:12, 12.47s/it]\u001b[A"
     ]
    },
    {
     "name": "stdout",
     "output_type": "stream",
     "text": [
      "from set2 =>555 = > explanation [59, 636, 635, 18, 1722, 1625, 1080, 1624, 1134, 510]\n"
     ]
    },
    {
     "name": "stderr",
     "output_type": "stream",
     "text": [
      "\n",
      "100%|███████████████████████████████████████████████████████████████| 10/10 [02:04<00:00, 12.47s/it]\u001b[A\n",
      "  2%|█▌                                                           | 1/40 [02:17<1:29:18, 137.40s/it]"
     ]
    },
    {
     "name": "stdout",
     "output_type": "stream",
     "text": [
      "from set2 =>423 = > explanation [1416, 1576, 1570, 906, 1521, 45, 1447, 1744, 93, 1557]\n"
     ]
    },
    {
     "name": "stderr",
     "output_type": "stream",
     "text": [
      "\r",
      "  5%|███▏                                                            | 2/40 [02:22<37:54, 59.87s/it]"
     ]
    },
    {
     "name": "stdout",
     "output_type": "stream",
     "text": [
      "set1 for 240,  [1333, 316, 1595, 943, 533, 429, 786, 140, 1454, 616]\n"
     ]
    },
    {
     "name": "stderr",
     "output_type": "stream",
     "text": [
      "\n",
      "  0%|                                                                        | 0/10 [00:00<?, ?it/s]\u001b[A\n",
      " 10%|██████▍                                                         | 1/10 [00:12<01:52, 12.50s/it]\u001b[A"
     ]
    },
    {
     "name": "stdout",
     "output_type": "stream",
     "text": [
      "from set2 =>180 = > explanation [427, 316, 404, 1261, 1530, 492, 1507, 1454, 1485, 1312]\n"
     ]
    },
    {
     "name": "stderr",
     "output_type": "stream",
     "text": [
      "\n",
      " 20%|████████████▊                                                   | 2/10 [00:24<01:39, 12.47s/it]\u001b[A"
     ]
    },
    {
     "name": "stdout",
     "output_type": "stream",
     "text": [
      "from set2 =>272 = > explanation [1727, 1589, 1595, 1261, 1713, 314, 1354, 1454, 60, 686]\n"
     ]
    },
    {
     "name": "stderr",
     "output_type": "stream",
     "text": [
      "\n",
      " 30%|███████████████████▏                                            | 3/10 [00:37<01:27, 12.46s/it]\u001b[A"
     ]
    },
    {
     "name": "stdout",
     "output_type": "stream",
     "text": [
      "from set2 =>283 = > explanation [442, 316, 1261, 1595, 1065, 616, 1454, 1354, 686, 1574]\n"
     ]
    },
    {
     "name": "stderr",
     "output_type": "stream",
     "text": [
      "\n",
      " 40%|█████████████████████████▌                                      | 4/10 [00:49<01:14, 12.46s/it]\u001b[A"
     ]
    },
    {
     "name": "stdout",
     "output_type": "stream",
     "text": [
      "from set2 =>37 = > explanation [1437, 1595, 584, 1589, 887, 429, 1454, 1513, 455, 1165]\n"
     ]
    },
    {
     "name": "stderr",
     "output_type": "stream",
     "text": [
      "\n",
      " 50%|████████████████████████████████                                | 5/10 [01:02<01:02, 12.46s/it]\u001b[A"
     ]
    },
    {
     "name": "stdout",
     "output_type": "stream",
     "text": [
      "from set2 =>240 = > explanation [1333, 316, 1595, 943, 533, 429, 786, 140, 1454, 616]\n"
     ]
    },
    {
     "name": "stderr",
     "output_type": "stream",
     "text": [
      "\n",
      " 60%|██████████████████████████████████████▍                         | 6/10 [01:14<00:49, 12.48s/it]\u001b[A"
     ]
    },
    {
     "name": "stdout",
     "output_type": "stream",
     "text": [
      "from set2 =>161 = > explanation [1523, 461, 339, 626, 593, 971, 1447, 526, 1269, 1466]\n"
     ]
    },
    {
     "name": "stderr",
     "output_type": "stream",
     "text": [
      "\n",
      " 70%|████████████████████████████████████████████▊                   | 7/10 [01:27<00:37, 12.48s/it]\u001b[A"
     ]
    },
    {
     "name": "stdout",
     "output_type": "stream",
     "text": [
      "from set2 =>325 = > explanation [744, 1173, 1126, 839, 687, 610, 1193, 373, 1064, 498]\n"
     ]
    },
    {
     "name": "stderr",
     "output_type": "stream",
     "text": [
      "\n",
      " 80%|███████████████████████████████████████████████████▏            | 8/10 [01:39<00:24, 12.46s/it]\u001b[A"
     ]
    },
    {
     "name": "stdout",
     "output_type": "stream",
     "text": [
      "from set2 =>529 = > explanation [500, 1084, 416, 1611, 912, 1153, 302, 1496, 71, 140]\n"
     ]
    },
    {
     "name": "stderr",
     "output_type": "stream",
     "text": [
      "\n",
      " 90%|█████████████████████████████████████████████████████████▌      | 9/10 [01:52<00:12, 12.46s/it]\u001b[A"
     ]
    },
    {
     "name": "stdout",
     "output_type": "stream",
     "text": [
      "from set2 =>352 = > explanation [64, 984, 1125, 1053, 576, 390, 197, 868, 632, 871]\n"
     ]
    },
    {
     "name": "stderr",
     "output_type": "stream",
     "text": [
      "\n",
      "100%|███████████████████████████████████████████████████████████████| 10/10 [02:04<00:00, 12.46s/it]\u001b[A\n",
      "  8%|████▊                                                           | 3/40 [04:40<58:43, 95.22s/it]"
     ]
    },
    {
     "name": "stdout",
     "output_type": "stream",
     "text": [
      "from set2 =>423 = > explanation [1416, 1576, 1570, 906, 1521, 45, 1744, 1447, 93, 1557]\n",
      "set1 for 4,  [1523, 626, 149, 1173, 680, 975, 1447, 823, 802, 971]\n"
     ]
    },
    {
     "name": "stderr",
     "output_type": "stream",
     "text": [
      "\n",
      "  0%|                                                                        | 0/10 [00:00<?, ?it/s]\u001b[A\n",
      " 10%|██████▍                                                         | 1/10 [00:12<01:52, 12.46s/it]\u001b[A"
     ]
    },
    {
     "name": "stdout",
     "output_type": "stream",
     "text": [
      "from set2 =>161 = > explanation [1523, 461, 339, 626, 593, 971, 1447, 526, 1269, 1466]\n"
     ]
    },
    {
     "name": "stderr",
     "output_type": "stream",
     "text": [
      "\n",
      " 20%|████████████▊                                                   | 2/10 [00:24<01:39, 12.48s/it]\u001b[A"
     ]
    },
    {
     "name": "stdout",
     "output_type": "stream",
     "text": [
      "from set2 =>284 = > explanation [595, 461, 626, 593, 339, 1269, 1447, 598, 824, 1282]\n"
     ]
    },
    {
     "name": "stderr",
     "output_type": "stream",
     "text": [
      "\n",
      " 30%|███████████████████▏                                            | 3/10 [00:37<01:27, 12.47s/it]\u001b[A"
     ]
    },
    {
     "name": "stdout",
     "output_type": "stream",
     "text": [
      "from set2 =>61 = > explanation [626, 118, 1173, 593, 1262, 802, 1447, 824, 786, 736]\n"
     ]
    },
    {
     "name": "stderr",
     "output_type": "stream",
     "text": [
      "\n",
      " 40%|█████████████████████████▌                                      | 4/10 [00:49<01:14, 12.46s/it]\u001b[A"
     ]
    },
    {
     "name": "stdout",
     "output_type": "stream",
     "text": [
      "from set2 =>478 = > explanation [601, 680, 118, 847, 1527, 802, 1447, 1466, 395, 971]\n"
     ]
    },
    {
     "name": "stderr",
     "output_type": "stream",
     "text": [
      "\n",
      " 50%|████████████████████████████████                                | 5/10 [01:02<01:02, 12.48s/it]\u001b[A"
     ]
    },
    {
     "name": "stdout",
     "output_type": "stream",
     "text": [
      "from set2 =>4 = > explanation [1523, 626, 149, 1173, 680, 975, 1447, 823, 802, 971]\n"
     ]
    },
    {
     "name": "stderr",
     "output_type": "stream",
     "text": [
      "\n",
      " 60%|██████████████████████████████████████▍                         | 6/10 [01:14<00:49, 12.47s/it]\u001b[A"
     ]
    },
    {
     "name": "stdout",
     "output_type": "stream",
     "text": [
      "from set2 =>593 = > explanation [42, 431, 1583, 820, 1432, 1437, 1753, 483, 166, 1624]\n"
     ]
    },
    {
     "name": "stderr",
     "output_type": "stream",
     "text": [
      "\n",
      " 70%|████████████████████████████████████████████▊                   | 7/10 [01:27<00:37, 12.46s/it]\u001b[A"
     ]
    },
    {
     "name": "stdout",
     "output_type": "stream",
     "text": [
      "from set2 =>182 = > explanation [1647, 777, 1456, 1496, 302, 500, 1084, 416, 912, 1164]\n"
     ]
    },
    {
     "name": "stderr",
     "output_type": "stream",
     "text": [
      "\n",
      " 80%|███████████████████████████████████████████████████▏            | 8/10 [01:39<00:24, 12.46s/it]\u001b[A"
     ]
    },
    {
     "name": "stdout",
     "output_type": "stream",
     "text": [
      "from set2 =>23 = > explanation [1471, 1454, 1748, 936, 1461, 1287, 585, 884, 1437, 984]\n"
     ]
    },
    {
     "name": "stderr",
     "output_type": "stream",
     "text": [
      "\n",
      " 90%|█████████████████████████████████████████████████████████▌      | 9/10 [01:52<00:12, 12.47s/it]\u001b[A"
     ]
    },
    {
     "name": "stdout",
     "output_type": "stream",
     "text": [
      "from set2 =>529 = > explanation [500, 1084, 416, 1611, 912, 1153, 302, 1496, 71, 140]\n"
     ]
    },
    {
     "name": "stderr",
     "output_type": "stream",
     "text": [
      "\n",
      "100%|███████████████████████████████████████████████████████████████| 10/10 [02:04<00:00, 12.47s/it]\u001b[A\n",
      " 10%|██████                                                       | 4/40 [06:57<1:07:06, 111.85s/it]"
     ]
    },
    {
     "name": "stdout",
     "output_type": "stream",
     "text": [
      "from set2 =>519 = > explanation [119, 99, 1226, 994, 1151, 957, 1589, 1713, 121, 857]\n",
      "set1 for 568,  [1316, 818, 1560, 1143, 1158, 650, 1141, 546, 1437, 1589]\n"
     ]
    },
    {
     "name": "stderr",
     "output_type": "stream",
     "text": [
      "\n",
      "  0%|                                                                        | 0/10 [00:00<?, ?it/s]\u001b[A\n",
      " 10%|██████▍                                                         | 1/10 [00:12<01:52, 12.48s/it]\u001b[A"
     ]
    },
    {
     "name": "stdout",
     "output_type": "stream",
     "text": [
      "from set2 =>512 = > explanation [49, 247, 122, 1751, 396, 1141, 1589, 1437, 1654, 483]\n"
     ]
    },
    {
     "name": "stderr",
     "output_type": "stream",
     "text": [
      "\n",
      " 20%|████████████▊                                                   | 2/10 [00:24<01:39, 12.46s/it]\u001b[A"
     ]
    },
    {
     "name": "stdout",
     "output_type": "stream",
     "text": [
      "from set2 =>298 = > explanation [1158, 1027, 424, 0, 1178, 1704, 1589, 70, 1713, 622]\n"
     ]
    },
    {
     "name": "stderr",
     "output_type": "stream",
     "text": [
      "/tmp/ipykernel_10865/2516286369.py:19: FutureWarning: Support for multi-dimensional indexing (e.g. `obj[:, None]`) is deprecated and will be removed in a future version.  Convert to a numpy array before indexing instead.\n",
      "  d=[df_pos_ol.Influence.index[k] for k in selected_indices_pos_ol]\n",
      "\n",
      " 30%|███████████████████▏                                            | 3/10 [00:37<01:27, 12.46s/it]\u001b[A"
     ]
    },
    {
     "name": "stdout",
     "output_type": "stream",
     "text": [
      "from set2 =>414 = > explanation [1188, 593, 687, 1589, 1595, 60, 1447, 1560, 686, 1143]\n"
     ]
    },
    {
     "name": "stderr",
     "output_type": "stream",
     "text": [
      "\n",
      " 40%|█████████████████████████▌                                      | 4/10 [00:49<01:14, 12.47s/it]\u001b[A"
     ]
    },
    {
     "name": "stdout",
     "output_type": "stream",
     "text": [
      "from set2 =>26 = > explanation [993, 1158, 3, 1454, 1027, 1713, 1595, 1589, 70, 650]\n"
     ]
    },
    {
     "name": "stderr",
     "output_type": "stream",
     "text": [
      "\n",
      " 50%|████████████████████████████████                                | 5/10 [01:02<01:02, 12.46s/it]\u001b[A"
     ]
    },
    {
     "name": "stdout",
     "output_type": "stream",
     "text": [
      "from set2 =>568 = > explanation [1316, 818, 1560, 1143, 1158, 650, 1141, 546, 1437, 809]\n"
     ]
    },
    {
     "name": "stderr",
     "output_type": "stream",
     "text": [
      "\n",
      " 60%|██████████████████████████████████████▍                         | 6/10 [01:14<00:49, 12.46s/it]\u001b[A"
     ]
    },
    {
     "name": "stdout",
     "output_type": "stream",
     "text": [
      "from set2 =>423 = > explanation [1416, 1576, 1570, 906, 1521, 45, 1447, 1744, 93, 1557]\n"
     ]
    },
    {
     "name": "stderr",
     "output_type": "stream",
     "text": [
      "\n",
      " 70%|████████████████████████████████████████████▊                   | 7/10 [01:27<00:37, 12.45s/it]\u001b[A"
     ]
    },
    {
     "name": "stdout",
     "output_type": "stream",
     "text": [
      "from set2 =>567 = > explanation [1416, 1576, 1570, 906, 1521, 93, 45, 1447, 1057, 1744]\n"
     ]
    },
    {
     "name": "stderr",
     "output_type": "stream",
     "text": [
      "\n",
      " 80%|███████████████████████████████████████████████████▏            | 8/10 [01:39<00:24, 12.46s/it]\u001b[A"
     ]
    },
    {
     "name": "stdout",
     "output_type": "stream",
     "text": [
      "from set2 =>462 = > explanation [550, 1723, 1289, 1154, 947, 1514, 1447, 1454, 895, 8]\n"
     ]
    },
    {
     "name": "stderr",
     "output_type": "stream",
     "text": [
      "\n",
      " 90%|█████████████████████████████████████████████████████████▌      | 9/10 [01:52<00:12, 12.46s/it]\u001b[A"
     ]
    },
    {
     "name": "stdout",
     "output_type": "stream",
     "text": [
      "from set2 =>325 = > explanation [744, 1173, 1126, 839, 687, 610, 1193, 373, 1064, 498]\n"
     ]
    },
    {
     "name": "stderr",
     "output_type": "stream",
     "text": [
      "\n",
      "100%|███████████████████████████████████████████████████████████████| 10/10 [02:04<00:00, 12.46s/it]\u001b[A\n",
      " 12%|███████▋                                                     | 5/40 [09:14<1:10:36, 121.03s/it]"
     ]
    },
    {
     "name": "stdout",
     "output_type": "stream",
     "text": [
      "from set2 =>352 = > explanation [64, 984, 1125, 1053, 576, 390, 197, 868, 632, 871]\n"
     ]
    },
    {
     "name": "stderr",
     "output_type": "stream",
     "text": [
      "\r",
      " 15%|█████████▌                                                      | 6/40 [09:20<46:20, 81.78s/it]"
     ]
    },
    {
     "name": "stdout",
     "output_type": "stream",
     "text": [
      "set1 for 318,  [218, 247, 633, 152, 1306, 1141, 1081, 1589, 1004, 984]\n"
     ]
    },
    {
     "name": "stderr",
     "output_type": "stream",
     "text": [
      "\n",
      "  0%|                                                                        | 0/10 [00:00<?, ?it/s]\u001b[A\n",
      " 10%|██████▍                                                         | 1/10 [00:12<01:52, 12.45s/it]\u001b[A"
     ]
    },
    {
     "name": "stdout",
     "output_type": "stream",
     "text": [
      "from set2 =>262 = > explanation [1581, 122, 159, 54, 1488, 1437, 1141, 1589, 1081, 397]\n"
     ]
    },
    {
     "name": "stderr",
     "output_type": "stream",
     "text": [
      "\n",
      " 20%|████████████▊                                                   | 2/10 [00:24<01:39, 12.45s/it]\u001b[A"
     ]
    },
    {
     "name": "stdout",
     "output_type": "stream",
     "text": [
      "from set2 =>95 = > explanation [1211, 876, 1306, 761, 702, 1141, 1162, 1589, 1607, 273]\n"
     ]
    },
    {
     "name": "stderr",
     "output_type": "stream",
     "text": [
      "\n",
      " 30%|███████████████████▏                                            | 3/10 [00:37<01:27, 12.45s/it]\u001b[A"
     ]
    },
    {
     "name": "stdout",
     "output_type": "stream",
     "text": [
      "from set2 =>512 = > explanation [49, 247, 1751, 122, 396, 1141, 1589, 1437, 1654, 483]\n"
     ]
    },
    {
     "name": "stderr",
     "output_type": "stream",
     "text": [
      "\n",
      " 40%|█████████████████████████▌                                      | 4/10 [00:49<01:14, 12.46s/it]\u001b[A"
     ]
    },
    {
     "name": "stdout",
     "output_type": "stream",
     "text": [
      "from set2 =>570 = > explanation [218, 761, 247, 1051, 152, 1141, 1589, 1004, 533, 1607]\n"
     ]
    },
    {
     "name": "stderr",
     "output_type": "stream",
     "text": [
      "\n",
      " 50%|████████████████████████████████                                | 5/10 [01:02<01:02, 12.46s/it]\u001b[A"
     ]
    },
    {
     "name": "stdout",
     "output_type": "stream",
     "text": [
      "from set2 =>318 = > explanation [218, 247, 152, 633, 1306, 1141, 1081, 1589, 1004, 984]\n"
     ]
    },
    {
     "name": "stderr",
     "output_type": "stream",
     "text": [
      "\n",
      " 60%|██████████████████████████████████████▍                         | 6/10 [01:14<00:49, 12.46s/it]\u001b[A"
     ]
    },
    {
     "name": "stdout",
     "output_type": "stream",
     "text": [
      "from set2 =>423 = > explanation [1416, 1576, 1570, 906, 1521, 45, 1447, 1744, 93, 1557]\n"
     ]
    },
    {
     "name": "stderr",
     "output_type": "stream",
     "text": [
      "\n",
      " 70%|████████████████████████████████████████████▊                   | 7/10 [01:27<00:37, 12.45s/it]\u001b[A"
     ]
    },
    {
     "name": "stdout",
     "output_type": "stream",
     "text": [
      "from set2 =>161 = > explanation [1523, 461, 339, 626, 593, 971, 526, 1269, 1466, 1447]\n"
     ]
    },
    {
     "name": "stderr",
     "output_type": "stream",
     "text": [
      "\n",
      " 80%|███████████████████████████████████████████████████▏            | 8/10 [01:39<00:24, 12.45s/it]\u001b[A"
     ]
    },
    {
     "name": "stdout",
     "output_type": "stream",
     "text": [
      "from set2 =>555 = > explanation [59, 636, 635, 18, 1722, 1625, 1080, 1624, 1134, 510]\n"
     ]
    },
    {
     "name": "stderr",
     "output_type": "stream",
     "text": [
      "\n",
      " 90%|█████████████████████████████████████████████████████████▌      | 9/10 [01:52<00:12, 12.45s/it]\u001b[A"
     ]
    },
    {
     "name": "stdout",
     "output_type": "stream",
     "text": [
      "from set2 =>529 = > explanation [500, 1084, 416, 1611, 912, 1153, 302, 1496, 71, 140]\n"
     ]
    },
    {
     "name": "stderr",
     "output_type": "stream",
     "text": [
      "\n",
      "100%|███████████████████████████████████████████████████████████████| 10/10 [02:04<00:00, 12.46s/it]\u001b[A\n",
      " 18%|███████████▏                                                    | 7/40 [11:37<54:56, 99.89s/it]"
     ]
    },
    {
     "name": "stdout",
     "output_type": "stream",
     "text": [
      "from set2 =>567 = > explanation [1416, 1576, 1570, 906, 1521, 93, 45, 1447, 1057, 1744]\n",
      "set1 for 51,  [884, 1589, 1141, 1022, 1713, 452, 1447, 1513, 1454, 314]\n"
     ]
    },
    {
     "name": "stderr",
     "output_type": "stream",
     "text": [
      "\n",
      "  0%|                                                                        | 0/10 [00:00<?, ?it/s]\u001b[A\n",
      " 10%|██████▍                                                         | 1/10 [00:12<01:52, 12.46s/it]\u001b[A"
     ]
    },
    {
     "name": "stdout",
     "output_type": "stream",
     "text": [
      "from set2 =>379 = > explanation [50, 698, 1589, 1141, 363, 60, 1447, 618, 786, 829]\n"
     ]
    },
    {
     "name": "stderr",
     "output_type": "stream",
     "text": [
      "\n",
      " 20%|████████████▊                                                   | 2/10 [00:24<01:39, 12.47s/it]\u001b[A"
     ]
    },
    {
     "name": "stdout",
     "output_type": "stream",
     "text": [
      "from set2 =>227 = > explanation [1322, 1589, 984, 363, 515, 472, 1354, 1454, 1456, 1447]\n"
     ]
    },
    {
     "name": "stderr",
     "output_type": "stream",
     "text": [
      "\n",
      " 30%|███████████████████▏                                            | 3/10 [00:37<01:27, 12.50s/it]\u001b[A"
     ]
    },
    {
     "name": "stdout",
     "output_type": "stream",
     "text": [
      "from set2 =>426 = > explanation [1483, 1757, 1589, 515, 1734, 1447, 1574, 314, 1454, 306]\n"
     ]
    },
    {
     "name": "stderr",
     "output_type": "stream",
     "text": [
      "\n",
      " 40%|█████████████████████████▌                                      | 4/10 [00:50<01:15, 12.52s/it]\u001b[A"
     ]
    },
    {
     "name": "stdout",
     "output_type": "stream",
     "text": [
      "from set2 =>449 = > explanation [698, 1713, 1595, 1261, 292, 1454, 1447, 895, 1560, 1312]\n"
     ]
    },
    {
     "name": "stderr",
     "output_type": "stream",
     "text": [
      "\n",
      " 50%|████████████████████████████████                                | 5/10 [01:02<01:02, 12.53s/it]\u001b[A"
     ]
    },
    {
     "name": "stdout",
     "output_type": "stream",
     "text": [
      "from set2 =>51 = > explanation [884, 1589, 1141, 1022, 1713, 452, 1447, 1513, 1454, 314]\n"
     ]
    },
    {
     "name": "stderr",
     "output_type": "stream",
     "text": [
      "\n",
      " 60%|██████████████████████████████████████▍                         | 6/10 [01:15<00:50, 12.53s/it]\u001b[A"
     ]
    },
    {
     "name": "stdout",
     "output_type": "stream",
     "text": [
      "from set2 =>161 = > explanation [1523, 461, 339, 626, 593, 971, 1447, 526, 1269, 1466]\n"
     ]
    },
    {
     "name": "stderr",
     "output_type": "stream",
     "text": [
      "\n",
      " 70%|████████████████████████████████████████████▊                   | 7/10 [01:27<00:37, 12.51s/it]\u001b[A"
     ]
    },
    {
     "name": "stdout",
     "output_type": "stream",
     "text": [
      "from set2 =>423 = > explanation [1416, 1576, 1570, 906, 1521, 45, 1447, 1744, 93, 1557]\n"
     ]
    },
    {
     "name": "stderr",
     "output_type": "stream",
     "text": [
      "\n",
      " 80%|███████████████████████████████████████████████████▏            | 8/10 [01:40<00:24, 12.50s/it]\u001b[A"
     ]
    },
    {
     "name": "stdout",
     "output_type": "stream",
     "text": [
      "from set2 =>532 = > explanation [1272, 461, 955, 339, 593, 971, 1447, 1097, 821, 1269]\n"
     ]
    },
    {
     "name": "stderr",
     "output_type": "stream",
     "text": [
      "\n",
      " 90%|█████████████████████████████████████████████████████████▌      | 9/10 [01:52<00:12, 12.50s/it]\u001b[A"
     ]
    },
    {
     "name": "stdout",
     "output_type": "stream",
     "text": [
      "from set2 =>462 = > explanation [550, 1723, 1289, 1154, 947, 1514, 1447, 1454, 895, 8]\n"
     ]
    },
    {
     "name": "stderr",
     "output_type": "stream",
     "text": [
      "\n",
      "100%|███████████████████████████████████████████████████████████████| 10/10 [02:05<00:00, 12.50s/it]\u001b[A\n",
      " 20%|████████████▌                                                  | 8/40 [13:55<59:41, 111.92s/it]"
     ]
    },
    {
     "name": "stdout",
     "output_type": "stream",
     "text": [
      "from set2 =>529 = > explanation [500, 1084, 416, 1611, 912, 1153, 302, 1496, 71, 140]\n",
      "set1 for 497,  [1054, 1769, 1695, 412, 331, 1147, 984, 1484, 362, 807]\n"
     ]
    },
    {
     "name": "stderr",
     "output_type": "stream",
     "text": [
      "\n",
      "  0%|                                                                        | 0/10 [00:00<?, ?it/s]\u001b[A\n",
      " 10%|██████▍                                                         | 1/10 [00:12<01:52, 12.49s/it]\u001b[A"
     ]
    },
    {
     "name": "stdout",
     "output_type": "stream",
     "text": [
      "from set2 =>44 = > explanation [1495, 158, 1751, 331, 995, 1004, 1589, 584, 121, 1607]\n"
     ]
    },
    {
     "name": "stderr",
     "output_type": "stream",
     "text": [
      "\n",
      " 20%|████████████▊                                                   | 2/10 [00:24<01:39, 12.49s/it]\u001b[A"
     ]
    },
    {
     "name": "stdout",
     "output_type": "stream",
     "text": [
      "from set2 =>547 = > explanation [366, 876, 1667, 705, 1354, 1589, 70, 50, 1261, 1436]\n"
     ]
    },
    {
     "name": "stderr",
     "output_type": "stream",
     "text": [
      "\n",
      " 30%|███████████████████▏                                            | 3/10 [00:37<01:27, 12.49s/it]\u001b[A"
     ]
    },
    {
     "name": "stdout",
     "output_type": "stream",
     "text": [
      "from set2 =>142 = > explanation [1495, 158, 761, 1603, 1560, 1589, 1141, 915, 957, 393]\n"
     ]
    },
    {
     "name": "stderr",
     "output_type": "stream",
     "text": [
      "\n",
      " 40%|█████████████████████████▌                                      | 4/10 [00:49<01:14, 12.48s/it]\u001b[A"
     ]
    },
    {
     "name": "stdout",
     "output_type": "stream",
     "text": [
      "from set2 =>340 = > explanation [444, 1719, 634, 780, 1577, 393, 1624, 797, 808, 1625]\n"
     ]
    },
    {
     "name": "stderr",
     "output_type": "stream",
     "text": [
      "\n",
      " 50%|████████████████████████████████                                | 5/10 [01:02<01:02, 12.49s/it]\u001b[A"
     ]
    },
    {
     "name": "stdout",
     "output_type": "stream",
     "text": [
      "from set2 =>497 = > explanation [1054, 1769, 1695, 412, 331, 1147, 984, 1484, 362, 807]\n"
     ]
    },
    {
     "name": "stderr",
     "output_type": "stream",
     "text": [
      "\n",
      " 60%|██████████████████████████████████████▍                         | 6/10 [01:14<00:49, 12.48s/it]\u001b[A"
     ]
    },
    {
     "name": "stdout",
     "output_type": "stream",
     "text": [
      "from set2 =>423 = > explanation [1416, 1576, 1570, 906, 1521, 45, 1447, 1744, 93, 1557]\n"
     ]
    },
    {
     "name": "stderr",
     "output_type": "stream",
     "text": [
      "\n",
      " 70%|████████████████████████████████████████████▊                   | 7/10 [01:27<00:37, 12.47s/it]\u001b[A"
     ]
    },
    {
     "name": "stdout",
     "output_type": "stream",
     "text": [
      "from set2 =>567 = > explanation [1416, 1576, 1570, 906, 1521, 93, 45, 1447, 1057, 1744]\n"
     ]
    },
    {
     "name": "stderr",
     "output_type": "stream",
     "text": [
      "\n",
      " 80%|███████████████████████████████████████████████████▏            | 8/10 [01:39<00:24, 12.47s/it]\u001b[A"
     ]
    },
    {
     "name": "stdout",
     "output_type": "stream",
     "text": [
      "from set2 =>462 = > explanation [550, 1723, 1289, 1154, 947, 1514, 1447, 1454, 895, 8]\n"
     ]
    },
    {
     "name": "stderr",
     "output_type": "stream",
     "text": [
      "\n",
      " 90%|█████████████████████████████████████████████████████████▌      | 9/10 [01:52<00:12, 12.47s/it]\u001b[A"
     ]
    },
    {
     "name": "stdout",
     "output_type": "stream",
     "text": [
      "from set2 =>161 = > explanation [1523, 461, 339, 626, 593, 971, 526, 1447, 1269, 1466]\n"
     ]
    },
    {
     "name": "stderr",
     "output_type": "stream",
     "text": [
      "\n",
      "100%|███████████████████████████████████████████████████████████████| 10/10 [02:04<00:00, 12.47s/it]\u001b[A\n",
      " 22%|█████████████▋                                               | 9/40 [16:12<1:01:56, 119.90s/it]"
     ]
    },
    {
     "name": "stdout",
     "output_type": "stream",
     "text": [
      "from set2 =>523 = > explanation [1229, 1416, 1570, 680, 1576, 1447, 738, 1260, 1057, 1514]\n",
      "set1 for 220,  [713, 2, 1230, 505, 1618, 1453, 1603, 1447, 243, 1648]\n"
     ]
    },
    {
     "name": "stderr",
     "output_type": "stream",
     "text": [
      "\n",
      "  0%|                                                                        | 0/10 [00:00<?, ?it/s]\u001b[A\n",
      " 10%|██████▍                                                         | 1/10 [00:05<00:50,  5.58s/it]\u001b[A\n",
      " 20%|████████████▊                                                   | 2/10 [00:11<00:44,  5.59s/it]\u001b[A\n",
      " 30%|███████████████████▏                                            | 3/10 [00:23<01:01,  8.71s/it]\u001b[A"
     ]
    },
    {
     "name": "stdout",
     "output_type": "stream",
     "text": [
      "from set2 =>562 = > explanation [235, 984, 2, 912, 505, 1507, 1447, 1454, 472, 786]\n"
     ]
    },
    {
     "name": "stderr",
     "output_type": "stream",
     "text": [
      "\n",
      " 40%|█████████████████████████▌                                      | 4/10 [00:36<01:01, 10.19s/it]\u001b[A"
     ]
    },
    {
     "name": "stdout",
     "output_type": "stream",
     "text": [
      "from set2 =>36 = > explanation [497, 2, 505, 910, 713, 1447, 158, 1603, 65, 1394]\n"
     ]
    },
    {
     "name": "stderr",
     "output_type": "stream",
     "text": [
      "\n",
      " 50%|████████████████████████████████                                | 5/10 [00:48<00:55, 11.00s/it]\u001b[A"
     ]
    },
    {
     "name": "stdout",
     "output_type": "stream",
     "text": [
      "from set2 =>220 = > explanation [713, 2, 1230, 505, 1618, 1453, 1447, 243, 1603, 1648]\n"
     ]
    },
    {
     "name": "stderr",
     "output_type": "stream",
     "text": [
      "\n",
      " 60%|██████████████████████████████████████▍                         | 6/10 [01:00<00:45, 11.50s/it]\u001b[A"
     ]
    },
    {
     "name": "stdout",
     "output_type": "stream",
     "text": [
      "from set2 =>423 = > explanation [1416, 1576, 1570, 906, 1521, 45, 1447, 1744, 93, 1557]\n"
     ]
    },
    {
     "name": "stderr",
     "output_type": "stream",
     "text": [
      "\n",
      " 70%|████████████████████████████████████████████▊                   | 7/10 [01:13<00:35, 11.81s/it]\u001b[A"
     ]
    },
    {
     "name": "stdout",
     "output_type": "stream",
     "text": [
      "from set2 =>567 = > explanation [1416, 1576, 1570, 906, 1521, 93, 45, 1447, 1057, 1744]\n"
     ]
    },
    {
     "name": "stderr",
     "output_type": "stream",
     "text": [
      "\n",
      " 80%|███████████████████████████████████████████████████▏            | 8/10 [01:25<00:24, 12.01s/it]\u001b[A"
     ]
    },
    {
     "name": "stdout",
     "output_type": "stream",
     "text": [
      "from set2 =>462 = > explanation [550, 1723, 1289, 1154, 947, 1514, 1447, 1454, 895, 8]\n"
     ]
    },
    {
     "name": "stderr",
     "output_type": "stream",
     "text": [
      "\n",
      " 90%|█████████████████████████████████████████████████████████▌      | 9/10 [01:38<00:12, 12.15s/it]\u001b[A"
     ]
    },
    {
     "name": "stdout",
     "output_type": "stream",
     "text": [
      "from set2 =>433 = > explanation [669, 1576, 1180, 602, 157, 35, 1447, 45, 93, 1744]\n"
     ]
    },
    {
     "name": "stderr",
     "output_type": "stream",
     "text": [
      "\n",
      "100%|███████████████████████████████████████████████████████████████| 10/10 [01:50<00:00, 11.08s/it]\u001b[A\n",
      " 25%|███████████████                                             | 10/40 [18:16<1:00:29, 120.97s/it]"
     ]
    },
    {
     "name": "stdout",
     "output_type": "stream",
     "text": [
      "from set2 =>523 = > explanation [1229, 1416, 1570, 680, 1576, 1447, 738, 1260, 1057, 1514]\n",
      "set1 for 598,  [1089, 316, 1235, 837, 877, 1063, 1447, 725, 686, 89]\n"
     ]
    },
    {
     "name": "stderr",
     "output_type": "stream",
     "text": [
      "\n",
      "  0%|                                                                        | 0/10 [00:00<?, ?it/s]\u001b[A\n",
      " 10%|██████▍                                                         | 1/10 [00:05<00:50,  5.59s/it]\u001b[A\n",
      " 20%|████████████▊                                                   | 2/10 [00:11<00:44,  5.58s/it]\u001b[A\n",
      " 30%|███████████████████▏                                            | 3/10 [00:23<01:00,  8.70s/it]\u001b[A"
     ]
    },
    {
     "name": "stdout",
     "output_type": "stream",
     "text": [
      "from set2 =>395 = > explanation [1089, 316, 50, 1261, 1595, 1574, 1447, 1507, 1454, 1354]\n"
     ]
    },
    {
     "name": "stderr",
     "output_type": "stream",
     "text": [
      "\n",
      " 40%|█████████████████████████▌                                      | 4/10 [00:36<01:01, 10.18s/it]\u001b[A"
     ]
    },
    {
     "name": "stdout",
     "output_type": "stream",
     "text": [
      "from set2 =>438 = > explanation [698, 984, 316, 1261, 1713, 1507, 1447, 686, 1354, 1539]\n"
     ]
    },
    {
     "name": "stderr",
     "output_type": "stream",
     "text": [
      "\n",
      " 50%|████████████████████████████████                                | 5/10 [00:48<00:54, 10.99s/it]\u001b[A"
     ]
    },
    {
     "name": "stdout",
     "output_type": "stream",
     "text": [
      "from set2 =>598 = > explanation [1089, 316, 1235, 837, 877, 1063, 1447, 725, 686, 89]\n"
     ]
    },
    {
     "name": "stderr",
     "output_type": "stream",
     "text": [
      "\n",
      " 60%|██████████████████████████████████████▍                         | 6/10 [01:00<00:45, 11.48s/it]\u001b[A"
     ]
    },
    {
     "name": "stdout",
     "output_type": "stream",
     "text": [
      "from set2 =>423 = > explanation [1416, 1576, 1570, 906, 1521, 45, 1447, 1744, 93, 1557]\n"
     ]
    },
    {
     "name": "stderr",
     "output_type": "stream",
     "text": [
      "\n",
      " 70%|████████████████████████████████████████████▊                   | 7/10 [01:13<00:35, 11.79s/it]\u001b[A"
     ]
    },
    {
     "name": "stdout",
     "output_type": "stream",
     "text": [
      "from set2 =>567 = > explanation [1416, 1576, 1570, 906, 1521, 93, 45, 1447, 1057, 1744]\n"
     ]
    },
    {
     "name": "stderr",
     "output_type": "stream",
     "text": [
      "\n",
      " 80%|███████████████████████████████████████████████████▏            | 8/10 [01:25<00:23, 11.99s/it]\u001b[A"
     ]
    },
    {
     "name": "stdout",
     "output_type": "stream",
     "text": [
      "from set2 =>161 = > explanation [1523, 461, 339, 626, 593, 971, 526, 1447, 1269, 1466]\n"
     ]
    },
    {
     "name": "stderr",
     "output_type": "stream",
     "text": [
      "\n",
      " 90%|█████████████████████████████████████████████████████████▌      | 9/10 [01:38<00:12, 12.13s/it]\u001b[A"
     ]
    },
    {
     "name": "stdout",
     "output_type": "stream",
     "text": [
      "from set2 =>433 = > explanation [669, 1576, 1180, 602, 157, 35, 1447, 45, 93, 1744]\n"
     ]
    },
    {
     "name": "stderr",
     "output_type": "stream",
     "text": [
      "\n",
      "100%|███████████████████████████████████████████████████████████████| 10/10 [01:50<00:00, 11.06s/it]\u001b[A\n",
      " 28%|█████████████████                                             | 11/40 [20:19<58:48, 121.66s/it]"
     ]
    },
    {
     "name": "stdout",
     "output_type": "stream",
     "text": [
      "from set2 =>325 = > explanation [744, 1173, 1126, 839, 687, 610, 1193, 373, 1064, 498]\n",
      "set1 for 136,  [284, 635, 1517, 1411, 1137, 1635, 1757, 1236, 515, 1704]\n"
     ]
    },
    {
     "name": "stderr",
     "output_type": "stream",
     "text": [
      "\n",
      "  0%|                                                                        | 0/10 [00:00<?, ?it/s]\u001b[A\n",
      " 10%|██████▍                                                         | 1/10 [00:12<01:52, 12.48s/it]\u001b[A"
     ]
    },
    {
     "name": "stdout",
     "output_type": "stream",
     "text": [
      "from set2 =>555 = > explanation [59, 636, 635, 18, 1722, 1625, 1080, 1624, 1134, 1236]\n"
     ]
    },
    {
     "name": "stderr",
     "output_type": "stream",
     "text": [
      "\n",
      " 20%|████████████▊                                                   | 2/10 [00:24<01:39, 12.47s/it]\u001b[A"
     ]
    },
    {
     "name": "stdout",
     "output_type": "stream",
     "text": [
      "from set2 =>303 = > explanation [635, 161, 1517, 1059, 76, 1635, 292, 1734, 515, 1704]\n"
     ]
    },
    {
     "name": "stderr",
     "output_type": "stream",
     "text": [
      "\n",
      " 30%|███████████████████▏                                            | 3/10 [00:37<01:27, 12.46s/it]\u001b[A"
     ]
    },
    {
     "name": "stdout",
     "output_type": "stream",
     "text": [
      "from set2 =>407 = > explanation [636, 59, 1137, 635, 373, 1625, 1080, 1236, 1635, 715]\n"
     ]
    },
    {
     "name": "stderr",
     "output_type": "stream",
     "text": [
      "\n",
      " 40%|█████████████████████████▌                                      | 4/10 [00:49<01:14, 12.47s/it]\u001b[A"
     ]
    },
    {
     "name": "stdout",
     "output_type": "stream",
     "text": [
      "from set2 =>330 = > explanation [1137, 373, 635, 59, 636, 1635, 1236, 1704, 984, 70]\n"
     ]
    },
    {
     "name": "stderr",
     "output_type": "stream",
     "text": [
      "\n",
      " 50%|████████████████████████████████                                | 5/10 [01:02<01:02, 12.47s/it]\u001b[A"
     ]
    },
    {
     "name": "stdout",
     "output_type": "stream",
     "text": [
      "from set2 =>136 = > explanation [284, 635, 1517, 1411, 1137, 1635, 1757, 1236, 515, 1704]\n"
     ]
    },
    {
     "name": "stderr",
     "output_type": "stream",
     "text": [
      "\n",
      " 60%|██████████████████████████████████████▍                         | 6/10 [01:14<00:49, 12.47s/it]\u001b[A"
     ]
    },
    {
     "name": "stdout",
     "output_type": "stream",
     "text": [
      "from set2 =>161 = > explanation [1523, 461, 339, 626, 593, 971, 1447, 526, 1269, 1466]\n"
     ]
    },
    {
     "name": "stderr",
     "output_type": "stream",
     "text": [
      "\n",
      " 70%|████████████████████████████████████████████▊                   | 7/10 [01:27<00:37, 12.46s/it]\u001b[A"
     ]
    },
    {
     "name": "stdout",
     "output_type": "stream",
     "text": [
      "from set2 =>423 = > explanation [1416, 1576, 1570, 906, 1521, 45, 1447, 1744, 93, 1557]\n"
     ]
    },
    {
     "name": "stderr",
     "output_type": "stream",
     "text": [
      "\n",
      " 80%|███████████████████████████████████████████████████▏            | 8/10 [01:39<00:24, 12.46s/it]\u001b[A"
     ]
    },
    {
     "name": "stdout",
     "output_type": "stream",
     "text": [
      "from set2 =>529 = > explanation [500, 1084, 416, 1611, 912, 1153, 302, 1496, 71, 140]\n"
     ]
    },
    {
     "name": "stderr",
     "output_type": "stream",
     "text": [
      "\n",
      " 90%|█████████████████████████████████████████████████████████▌      | 9/10 [01:52<00:12, 12.46s/it]\u001b[A"
     ]
    },
    {
     "name": "stdout",
     "output_type": "stream",
     "text": [
      "from set2 =>325 = > explanation [744, 1173, 1126, 839, 687, 610, 1193, 373, 1064, 498]\n"
     ]
    },
    {
     "name": "stderr",
     "output_type": "stream",
     "text": [
      "\n",
      "100%|███████████████████████████████████████████████████████████████| 10/10 [02:04<00:00, 12.46s/it]\u001b[A\n",
      " 30%|██████████████████▌                                           | 12/40 [22:36<58:59, 126.42s/it]"
     ]
    },
    {
     "name": "stdout",
     "output_type": "stream",
     "text": [
      "from set2 =>352 = > explanation [64, 984, 1125, 1053, 576, 390, 197, 868, 632, 871]\n",
      "set1 for 26,  [993, 1158, 3, 1454, 1027, 1713, 1589, 1595, 70, 650]\n"
     ]
    },
    {
     "name": "stderr",
     "output_type": "stream",
     "text": [
      "\n",
      "  0%|                                                                        | 0/10 [00:00<?, ?it/s]\u001b[A\n",
      " 10%|██████▍                                                         | 1/10 [00:12<01:52, 12.47s/it]\u001b[A"
     ]
    },
    {
     "name": "stdout",
     "output_type": "stream",
     "text": [
      "from set2 =>538 = > explanation [1138, 252, 1454, 1178, 0, 1390, 1134, 1437, 1081, 1288]\n"
     ]
    },
    {
     "name": "stderr",
     "output_type": "stream",
     "text": [
      "\n",
      " 20%|████████████▊                                                   | 2/10 [00:24<01:39, 12.46s/it]\u001b[A"
     ]
    },
    {
     "name": "stdout",
     "output_type": "stream",
     "text": [
      "from set2 =>298 = > explanation [1158, 1027, 424, 0, 1178, 1704, 1589, 70, 1713, 622]\n"
     ]
    },
    {
     "name": "stderr",
     "output_type": "stream",
     "text": [
      "\n",
      " 30%|███████████████████▏                                            | 3/10 [00:37<01:27, 12.46s/it]\u001b[A"
     ]
    },
    {
     "name": "stdout",
     "output_type": "stream",
     "text": [
      "from set2 =>376 = > explanation [1158, 0, 1027, 1454, 424, 70, 1589, 658, 1713, 1004]\n"
     ]
    },
    {
     "name": "stderr",
     "output_type": "stream",
     "text": [
      "\n",
      " 40%|█████████████████████████▌                                      | 4/10 [00:49<01:14, 12.47s/it]\u001b[A"
     ]
    },
    {
     "name": "stdout",
     "output_type": "stream",
     "text": [
      "from set2 =>568 = > explanation [1316, 818, 1560, 1143, 1158, 650, 1141, 546, 1437, 1589]\n"
     ]
    },
    {
     "name": "stderr",
     "output_type": "stream",
     "text": [
      "\n",
      " 50%|████████████████████████████████                                | 5/10 [01:02<01:02, 12.47s/it]\u001b[A"
     ]
    },
    {
     "name": "stdout",
     "output_type": "stream",
     "text": [
      "from set2 =>26 = > explanation [993, 1158, 3, 1454, 1027, 1713, 1595, 1589, 70, 650]\n"
     ]
    },
    {
     "name": "stderr",
     "output_type": "stream",
     "text": [
      "\n",
      " 60%|██████████████████████████████████████▍                         | 6/10 [01:14<00:49, 12.46s/it]\u001b[A"
     ]
    },
    {
     "name": "stdout",
     "output_type": "stream",
     "text": [
      "from set2 =>423 = > explanation [1416, 1576, 1570, 906, 1521, 45, 1447, 1744, 93, 1557]\n"
     ]
    },
    {
     "name": "stderr",
     "output_type": "stream",
     "text": [
      "\n",
      " 70%|████████████████████████████████████████████▊                   | 7/10 [01:27<00:37, 12.47s/it]\u001b[A"
     ]
    },
    {
     "name": "stdout",
     "output_type": "stream",
     "text": [
      "from set2 =>161 = > explanation [1523, 461, 339, 626, 593, 971, 1447, 526, 1269, 1466]\n"
     ]
    },
    {
     "name": "stderr",
     "output_type": "stream",
     "text": [
      "\n",
      " 80%|███████████████████████████████████████████████████▏            | 8/10 [01:39<00:24, 12.47s/it]\u001b[A"
     ]
    },
    {
     "name": "stdout",
     "output_type": "stream",
     "text": [
      "from set2 =>567 = > explanation [1416, 1576, 1570, 906, 602, 93, 45, 1447, 1057, 1744]\n"
     ]
    },
    {
     "name": "stderr",
     "output_type": "stream",
     "text": [
      "\n",
      " 90%|█████████████████████████████████████████████████████████▌      | 9/10 [01:52<00:12, 12.48s/it]\u001b[A"
     ]
    },
    {
     "name": "stdout",
     "output_type": "stream",
     "text": [
      "from set2 =>529 = > explanation [500, 1084, 416, 1611, 912, 1153, 302, 1496, 71, 140]\n"
     ]
    },
    {
     "name": "stderr",
     "output_type": "stream",
     "text": [
      "\n",
      "100%|███████████████████████████████████████████████████████████████| 10/10 [02:04<00:00, 12.47s/it]\u001b[A\n",
      " 32%|████████████████████▏                                         | 13/40 [24:54<58:22, 129.73s/it]"
     ]
    },
    {
     "name": "stdout",
     "output_type": "stream",
     "text": [
      "from set2 =>532 = > explanation [1272, 461, 955, 339, 593, 971, 1447, 1097, 821, 1269]\n",
      "set1 for 20,  [145, 1575, 1249, 1236, 1625, 314, 1030, 1265, 1688, 475]\n"
     ]
    },
    {
     "name": "stderr",
     "output_type": "stream",
     "text": [
      "\n",
      "  0%|                                                                        | 0/10 [00:00<?, ?it/s]\u001b[A\n",
      " 10%|██████▍                                                         | 1/10 [00:12<01:52, 12.49s/it]\u001b[A"
     ]
    },
    {
     "name": "stdout",
     "output_type": "stream",
     "text": [
      "from set2 =>2 = > explanation [884, 1249, 145, 984, 1236, 606, 1714, 1513, 1429, 919]\n"
     ]
    },
    {
     "name": "stderr",
     "output_type": "stream",
     "text": [
      "\n",
      " 20%|████████████▊                                                   | 2/10 [00:24<01:39, 12.49s/it]\u001b[A"
     ]
    },
    {
     "name": "stdout",
     "output_type": "stream",
     "text": [
      "from set2 =>396 = > explanation [1142, 1447, 1749, 343, 150, 393, 1589, 1310, 533, 1249]\n"
     ]
    },
    {
     "name": "stderr",
     "output_type": "stream",
     "text": [
      "\n",
      " 30%|███████████████████▏                                            | 3/10 [00:37<01:29, 12.72s/it]\u001b[A"
     ]
    },
    {
     "name": "stdout",
     "output_type": "stream",
     "text": [
      "from set2 =>486 = > explanation [884, 145, 984, 1713, 1249, 385, 1447, 306, 472, 686]\n"
     ]
    },
    {
     "name": "stderr",
     "output_type": "stream",
     "text": [
      "\n",
      " 40%|█████████████████████████▌                                      | 4/10 [00:50<01:15, 12.61s/it]\u001b[A"
     ]
    },
    {
     "name": "stdout",
     "output_type": "stream",
     "text": [
      "from set2 =>428 = > explanation [1625, 145, 1080, 887, 1236, 472, 1030, 764, 1260, 1454]\n"
     ]
    },
    {
     "name": "stderr",
     "output_type": "stream",
     "text": [
      "\n",
      " 50%|████████████████████████████████                                | 5/10 [01:02<01:02, 12.55s/it]\u001b[A"
     ]
    },
    {
     "name": "stdout",
     "output_type": "stream",
     "text": [
      "from set2 =>20 = > explanation [145, 1249, 1575, 1236, 1625, 314, 1030, 1265, 1688, 475]\n"
     ]
    },
    {
     "name": "stderr",
     "output_type": "stream",
     "text": [
      "\n",
      " 60%|██████████████████████████████████████▍                         | 6/10 [01:15<00:50, 12.52s/it]\u001b[A"
     ]
    },
    {
     "name": "stdout",
     "output_type": "stream",
     "text": [
      "from set2 =>423 = > explanation [1416, 1576, 1570, 906, 1521, 45, 1447, 1744, 93, 1557]\n"
     ]
    },
    {
     "name": "stderr",
     "output_type": "stream",
     "text": [
      "\n",
      " 70%|████████████████████████████████████████████▊                   | 7/10 [01:27<00:37, 12.50s/it]\u001b[A"
     ]
    },
    {
     "name": "stdout",
     "output_type": "stream",
     "text": [
      "from set2 =>161 = > explanation [1523, 461, 339, 626, 593, 971, 526, 1447, 1269, 1466]\n"
     ]
    },
    {
     "name": "stderr",
     "output_type": "stream",
     "text": [
      "\n",
      " 80%|███████████████████████████████████████████████████▏            | 8/10 [01:40<00:24, 12.48s/it]\u001b[A"
     ]
    },
    {
     "name": "stdout",
     "output_type": "stream",
     "text": [
      "from set2 =>532 = > explanation [1272, 461, 955, 339, 593, 971, 1447, 1097, 821, 818]\n"
     ]
    },
    {
     "name": "stderr",
     "output_type": "stream",
     "text": [
      "\n",
      " 90%|█████████████████████████████████████████████████████████▌      | 9/10 [01:52<00:12, 12.47s/it]\u001b[A"
     ]
    },
    {
     "name": "stdout",
     "output_type": "stream",
     "text": [
      "from set2 =>567 = > explanation [1416, 1576, 1570, 906, 1521, 93, 45, 1447, 1057, 1744]\n"
     ]
    },
    {
     "name": "stderr",
     "output_type": "stream",
     "text": [
      "\n",
      "100%|███████████████████████████████████████████████████████████████| 10/10 [02:05<00:00, 12.51s/it]\u001b[A\n",
      " 35%|█████████████████████▋                                        | 14/40 [27:11<57:16, 132.18s/it]"
     ]
    },
    {
     "name": "stdout",
     "output_type": "stream",
     "text": [
      "from set2 =>529 = > explanation [500, 1084, 416, 1611, 912, 1153, 302, 1496, 71, 140]\n",
      "set1 for 21,  [1500, 612, 1405, 247, 371, 809, 1141, 984, 121, 483]\n"
     ]
    },
    {
     "name": "stderr",
     "output_type": "stream",
     "text": [
      "\n",
      "  0%|                                                                        | 0/10 [00:00<?, ?it/s]\u001b[A\n",
      " 10%|██████▍                                                         | 1/10 [00:12<01:52, 12.47s/it]\u001b[A"
     ]
    },
    {
     "name": "stdout",
     "output_type": "stream",
     "text": [
      "from set2 =>329 = > explanation [1582, 158, 1488, 738, 1454, 915, 1141, 1589, 1004, 515]\n"
     ]
    },
    {
     "name": "stderr",
     "output_type": "stream",
     "text": [
      "\n",
      " 20%|████████████▊                                                   | 2/10 [00:24<01:39, 12.47s/it]\u001b[A"
     ]
    },
    {
     "name": "stdout",
     "output_type": "stream",
     "text": [
      "from set2 =>512 = > explanation [49, 247, 1751, 122, 396, 1141, 1589, 1437, 1654, 483]\n"
     ]
    },
    {
     "name": "stderr",
     "output_type": "stream",
     "text": [
      "\n",
      " 30%|███████████████████▏                                            | 3/10 [00:37<01:27, 12.50s/it]\u001b[A"
     ]
    },
    {
     "name": "stdout",
     "output_type": "stream",
     "text": [
      "from set2 =>73 = > explanation [507, 1454, 1520, 3, 1507, 1004, 1141, 121, 884, 70]\n"
     ]
    },
    {
     "name": "stderr",
     "output_type": "stream",
     "text": [
      "\n",
      " 40%|█████████████████████████▌                                      | 4/10 [00:49<01:14, 12.49s/it]\u001b[A"
     ]
    },
    {
     "name": "stdout",
     "output_type": "stream",
     "text": [
      "from set2 =>542 = > explanation [97, 1209, 826, 371, 126, 809, 515, 797, 1595, 1134]\n"
     ]
    },
    {
     "name": "stderr",
     "output_type": "stream",
     "text": [
      "\n",
      " 50%|████████████████████████████████                                | 5/10 [01:02<01:02, 12.48s/it]\u001b[A"
     ]
    },
    {
     "name": "stdout",
     "output_type": "stream",
     "text": [
      "from set2 =>21 = > explanation [1500, 612, 1405, 247, 371, 809, 1141, 984, 121, 483]\n"
     ]
    },
    {
     "name": "stderr",
     "output_type": "stream",
     "text": [
      "\n",
      " 60%|██████████████████████████████████████▍                         | 6/10 [01:14<00:49, 12.47s/it]\u001b[A"
     ]
    },
    {
     "name": "stdout",
     "output_type": "stream",
     "text": [
      "from set2 =>423 = > explanation [1416, 1576, 1570, 906, 1521, 45, 1447, 1744, 93, 1557]\n"
     ]
    },
    {
     "name": "stderr",
     "output_type": "stream",
     "text": [
      "\n",
      " 70%|████████████████████████████████████████████▊                   | 7/10 [01:27<00:37, 12.47s/it]\u001b[A"
     ]
    },
    {
     "name": "stdout",
     "output_type": "stream",
     "text": [
      "from set2 =>161 = > explanation [1523, 461, 339, 626, 593, 971, 526, 1447, 1269, 1466]\n"
     ]
    },
    {
     "name": "stderr",
     "output_type": "stream",
     "text": [
      "\n",
      " 80%|███████████████████████████████████████████████████▏            | 8/10 [01:39<00:24, 12.47s/it]\u001b[A"
     ]
    },
    {
     "name": "stdout",
     "output_type": "stream",
     "text": [
      "from set2 =>567 = > explanation [1416, 1576, 1570, 906, 1521, 93, 45, 1447, 1057, 1744]\n"
     ]
    },
    {
     "name": "stderr",
     "output_type": "stream",
     "text": [
      "\n",
      " 90%|█████████████████████████████████████████████████████████▌      | 9/10 [01:52<00:12, 12.47s/it]\u001b[A"
     ]
    },
    {
     "name": "stdout",
     "output_type": "stream",
     "text": [
      "from set2 =>532 = > explanation [1272, 461, 955, 339, 593, 971, 1447, 1097, 821, 818]\n"
     ]
    },
    {
     "name": "stderr",
     "output_type": "stream",
     "text": [
      "\n",
      "100%|███████████████████████████████████████████████████████████████| 10/10 [02:04<00:00, 12.48s/it]\u001b[A\n",
      " 38%|███████████████████████▎                                      | 15/40 [29:29<55:43, 133.75s/it]"
     ]
    },
    {
     "name": "stdout",
     "output_type": "stream",
     "text": [
      "from set2 =>83 = > explanation [669, 1570, 602, 157, 1576, 35, 1447, 45, 395, 93]\n",
      "set1 for 283,  [442, 316, 1261, 1595, 1065, 616, 1454, 1354, 686, 1574]\n"
     ]
    },
    {
     "name": "stderr",
     "output_type": "stream",
     "text": [
      "\n",
      "  0%|                                                                        | 0/10 [00:00<?, ?it/s]\u001b[A\n",
      " 10%|██████▍                                                         | 1/10 [00:05<00:50,  5.59s/it]\u001b[A\n",
      " 20%|████████████▊                                                   | 2/10 [00:18<01:17,  9.63s/it]\u001b[A"
     ]
    },
    {
     "name": "stdout",
     "output_type": "stream",
     "text": [
      "from set2 =>510 = > explanation [600, 1713, 316, 797, 698, 537, 1454, 1447, 140, 1507]\n"
     ]
    },
    {
     "name": "stderr",
     "output_type": "stream",
     "text": [
      "\n",
      " 30%|███████████████████▏                                            | 3/10 [00:30<01:16, 10.92s/it]\u001b[A"
     ]
    },
    {
     "name": "stdout",
     "output_type": "stream",
     "text": [
      "from set2 =>111 = > explanation [1188, 1595, 593, 461, 1679, 1165, 1447, 1454, 1507, 1744]\n"
     ]
    },
    {
     "name": "stderr",
     "output_type": "stream",
     "text": [
      "\n",
      " 40%|█████████████████████████▌                                      | 4/10 [00:42<01:09, 11.54s/it]\u001b[A"
     ]
    },
    {
     "name": "stdout",
     "output_type": "stream",
     "text": [
      "from set2 =>292 = > explanation [1756, 316, 1530, 1045, 427, 35, 140, 616, 725, 1447]\n"
     ]
    },
    {
     "name": "stderr",
     "output_type": "stream",
     "text": [
      "\n",
      " 50%|████████████████████████████████                                | 5/10 [00:55<00:59, 11.88s/it]\u001b[A"
     ]
    },
    {
     "name": "stdout",
     "output_type": "stream",
     "text": [
      "from set2 =>283 = > explanation [442, 316, 1261, 1595, 1065, 616, 1454, 1354, 686, 1574]\n"
     ]
    },
    {
     "name": "stderr",
     "output_type": "stream",
     "text": [
      "\n",
      " 60%|██████████████████████████████████████▍                         | 6/10 [01:07<00:48, 12.08s/it]\u001b[A"
     ]
    },
    {
     "name": "stdout",
     "output_type": "stream",
     "text": [
      "from set2 =>423 = > explanation [1416, 1576, 1570, 906, 1521, 45, 1447, 1744, 93, 1557]\n"
     ]
    },
    {
     "name": "stderr",
     "output_type": "stream",
     "text": [
      "\n",
      " 70%|████████████████████████████████████████████▊                   | 7/10 [01:20<00:36, 12.21s/it]\u001b[A"
     ]
    },
    {
     "name": "stdout",
     "output_type": "stream",
     "text": [
      "from set2 =>325 = > explanation [744, 1173, 1126, 839, 687, 610, 1193, 373, 1064, 498]\n"
     ]
    },
    {
     "name": "stderr",
     "output_type": "stream",
     "text": [
      "\n",
      " 80%|███████████████████████████████████████████████████▏            | 8/10 [01:32<00:24, 12.28s/it]\u001b[A"
     ]
    },
    {
     "name": "stdout",
     "output_type": "stream",
     "text": [
      "from set2 =>529 = > explanation [500, 1084, 416, 1611, 912, 1153, 302, 1496, 71, 140]\n"
     ]
    },
    {
     "name": "stderr",
     "output_type": "stream",
     "text": [
      "\n",
      " 90%|█████████████████████████████████████████████████████████▌      | 9/10 [01:45<00:12, 12.33s/it]\u001b[A"
     ]
    },
    {
     "name": "stdout",
     "output_type": "stream",
     "text": [
      "from set2 =>567 = > explanation [1416, 1576, 1570, 906, 602, 93, 45, 1447, 1057, 1744]\n"
     ]
    },
    {
     "name": "stderr",
     "output_type": "stream",
     "text": [
      "\n",
      "100%|███████████████████████████████████████████████████████████████| 10/10 [01:57<00:00, 11.78s/it]\u001b[A\n",
      " 40%|████████████████████████▊                                     | 16/40 [31:39<53:05, 132.75s/it]"
     ]
    },
    {
     "name": "stdout",
     "output_type": "stream",
     "text": [
      "from set2 =>161 = > explanation [1523, 461, 339, 626, 593, 971, 526, 1447, 1269, 1466]\n",
      "set1 for 519,  [119, 99, 1226, 994, 1151, 957, 1589, 1713, 121, 857]\n"
     ]
    },
    {
     "name": "stderr",
     "output_type": "stream",
     "text": [
      "\n",
      "  0%|                                                                        | 0/10 [00:00<?, ?it/s]\u001b[A\n",
      " 10%|██████▍                                                         | 1/10 [00:12<01:52, 12.46s/it]\u001b[A"
     ]
    },
    {
     "name": "stdout",
     "output_type": "stream",
     "text": [
      "from set2 =>599 = > explanation [375, 542, 266, 1447, 1454, 1589, 1141, 1713, 70, 1044]\n"
     ]
    },
    {
     "name": "stderr",
     "output_type": "stream",
     "text": [
      "\n",
      " 20%|████████████▊                                                   | 2/10 [00:24<01:39, 12.46s/it]\u001b[A"
     ]
    },
    {
     "name": "stdout",
     "output_type": "stream",
     "text": [
      "from set2 =>179 = > explanation [131, 1454, 454, 1447, 994, 121, 1589, 292, 70, 622]\n"
     ]
    },
    {
     "name": "stderr",
     "output_type": "stream",
     "text": [
      "\n",
      " 30%|███████████████████▏                                            | 3/10 [00:37<01:27, 12.46s/it]\u001b[A"
     ]
    },
    {
     "name": "stdout",
     "output_type": "stream",
     "text": [
      "from set2 =>397 = > explanation [99, 148, 1226, 994, 438, 1634, 1141, 1084, 213, 984]\n"
     ]
    },
    {
     "name": "stderr",
     "output_type": "stream",
     "text": [
      "\n",
      " 40%|█████████████████████████▌                                      | 4/10 [00:49<01:14, 12.46s/it]\u001b[A"
     ]
    },
    {
     "name": "stdout",
     "output_type": "stream",
     "text": [
      "from set2 =>70 = > explanation [994, 1226, 99, 148, 1151, 1206, 1081, 1141, 1713, 533]\n"
     ]
    },
    {
     "name": "stderr",
     "output_type": "stream",
     "text": [
      "\n",
      " 50%|████████████████████████████████                                | 5/10 [01:02<01:02, 12.45s/it]\u001b[A"
     ]
    },
    {
     "name": "stdout",
     "output_type": "stream",
     "text": [
      "from set2 =>519 = > explanation [119, 99, 1226, 994, 1151, 957, 1589, 1713, 121, 857]\n"
     ]
    },
    {
     "name": "stderr",
     "output_type": "stream",
     "text": [
      "\n",
      " 60%|██████████████████████████████████████▍                         | 6/10 [01:14<00:49, 12.46s/it]\u001b[A"
     ]
    },
    {
     "name": "stdout",
     "output_type": "stream",
     "text": [
      "from set2 =>161 = > explanation [1523, 461, 339, 626, 593, 971, 1447, 526, 1269, 1466]\n"
     ]
    },
    {
     "name": "stderr",
     "output_type": "stream",
     "text": [
      "\n",
      " 70%|████████████████████████████████████████████▊                   | 7/10 [01:27<00:37, 12.47s/it]\u001b[A"
     ]
    },
    {
     "name": "stdout",
     "output_type": "stream",
     "text": [
      "from set2 =>532 = > explanation [1272, 461, 955, 339, 593, 971, 1447, 1097, 821, 1269]\n"
     ]
    },
    {
     "name": "stderr",
     "output_type": "stream",
     "text": [
      "\n",
      " 80%|███████████████████████████████████████████████████▏            | 8/10 [01:39<00:24, 12.46s/it]\u001b[A"
     ]
    },
    {
     "name": "stdout",
     "output_type": "stream",
     "text": [
      "from set2 =>325 = > explanation [744, 1173, 1126, 839, 687, 610, 1193, 373, 1064, 498]\n"
     ]
    },
    {
     "name": "stderr",
     "output_type": "stream",
     "text": [
      "\n",
      " 90%|█████████████████████████████████████████████████████████▌      | 9/10 [01:52<00:12, 12.46s/it]\u001b[A"
     ]
    },
    {
     "name": "stdout",
     "output_type": "stream",
     "text": [
      "from set2 =>423 = > explanation [1416, 1576, 1570, 906, 1521, 45, 1447, 1744, 93, 1557]\n"
     ]
    },
    {
     "name": "stderr",
     "output_type": "stream",
     "text": [
      "\n",
      "100%|███████████████████████████████████████████████████████████████| 10/10 [02:04<00:00, 12.46s/it]\u001b[A\n",
      " 42%|██████████████████████████▎                                   | 17/40 [33:57<51:24, 134.11s/it]"
     ]
    },
    {
     "name": "stdout",
     "output_type": "stream",
     "text": [
      "from set2 =>492 = > explanation [1420, 1512, 675, 641, 525, 1123, 1267, 1413, 1345, 426]\n",
      "set1 for 361,  [117, 876, 725, 1027, 513, 650, 1141, 1236, 1624, 70]\n"
     ]
    },
    {
     "name": "stderr",
     "output_type": "stream",
     "text": [
      "\n",
      "  0%|                                                                        | 0/10 [00:00<?, ?it/s]\u001b[A\n",
      " 10%|██████▍                                                         | 1/10 [00:12<01:52, 12.47s/it]\u001b[A"
     ]
    },
    {
     "name": "stdout",
     "output_type": "stream",
     "text": [
      "from set2 =>193 = > explanation [864, 761, 725, 1454, 331, 1589, 1141, 121, 1437, 1654]\n"
     ]
    },
    {
     "name": "stderr",
     "output_type": "stream",
     "text": [
      "\n",
      " 20%|████████████▊                                                   | 2/10 [00:24<01:39, 12.47s/it]\u001b[A"
     ]
    },
    {
     "name": "stdout",
     "output_type": "stream",
     "text": [
      "from set2 =>249 = > explanation [117, 54, 314, 1495, 1744, 1589, 1141, 428, 1624, 698]\n"
     ]
    },
    {
     "name": "stderr",
     "output_type": "stream",
     "text": [
      "\n",
      " 30%|███████████████████▏                                            | 3/10 [00:37<01:27, 12.47s/it]\u001b[A"
     ]
    },
    {
     "name": "stdout",
     "output_type": "stream",
     "text": [
      "from set2 =>329 = > explanation [1582, 158, 1488, 738, 1454, 915, 1141, 1589, 1004, 515]\n"
     ]
    },
    {
     "name": "stderr",
     "output_type": "stream",
     "text": [
      "\n",
      " 40%|█████████████████████████▌                                      | 4/10 [00:49<01:14, 12.48s/it]\u001b[A"
     ]
    },
    {
     "name": "stdout",
     "output_type": "stream",
     "text": [
      "from set2 =>149 = > explanation [424, 1158, 0, 1027, 1178, 609, 1081, 695, 1236, 70]\n"
     ]
    },
    {
     "name": "stderr",
     "output_type": "stream",
     "text": [
      "\n",
      " 50%|████████████████████████████████                                | 5/10 [01:02<01:02, 12.48s/it]\u001b[A"
     ]
    },
    {
     "name": "stdout",
     "output_type": "stream",
     "text": [
      "from set2 =>361 = > explanation [117, 876, 725, 1027, 513, 650, 1141, 1236, 1624, 70]\n"
     ]
    },
    {
     "name": "stderr",
     "output_type": "stream",
     "text": [
      "\n",
      " 60%|██████████████████████████████████████▍                         | 6/10 [01:14<00:49, 12.49s/it]\u001b[A"
     ]
    },
    {
     "name": "stdout",
     "output_type": "stream",
     "text": [
      "from set2 =>423 = > explanation [1416, 1576, 1570, 906, 1521, 45, 1447, 1744, 93, 1557]\n"
     ]
    },
    {
     "name": "stderr",
     "output_type": "stream",
     "text": [
      "\n",
      " 70%|████████████████████████████████████████████▊                   | 7/10 [01:27<00:37, 12.50s/it]\u001b[A"
     ]
    },
    {
     "name": "stdout",
     "output_type": "stream",
     "text": [
      "from set2 =>161 = > explanation [1523, 461, 339, 626, 593, 971, 1447, 526, 1269, 1466]\n"
     ]
    },
    {
     "name": "stderr",
     "output_type": "stream",
     "text": [
      "\n",
      " 80%|███████████████████████████████████████████████████▏            | 8/10 [01:39<00:25, 12.51s/it]\u001b[A"
     ]
    },
    {
     "name": "stdout",
     "output_type": "stream",
     "text": [
      "from set2 =>567 = > explanation [1416, 1576, 1570, 906, 602, 93, 45, 1447, 1057, 1744]\n"
     ]
    },
    {
     "name": "stderr",
     "output_type": "stream",
     "text": [
      "\n",
      " 90%|█████████████████████████████████████████████████████████▌      | 9/10 [01:53<00:12, 12.70s/it]\u001b[A"
     ]
    },
    {
     "name": "stdout",
     "output_type": "stream",
     "text": [
      "from set2 =>532 = > explanation [1272, 461, 955, 339, 593, 971, 1447, 1097, 821, 818]\n"
     ]
    },
    {
     "name": "stderr",
     "output_type": "stream",
     "text": [
      "\n",
      "100%|███████████████████████████████████████████████████████████████| 10/10 [02:05<00:00, 12.56s/it]\u001b[A\n",
      " 45%|███████████████████████████▉                                  | 18/40 [36:15<49:37, 135.34s/it]"
     ]
    },
    {
     "name": "stdout",
     "output_type": "stream",
     "text": [
      "from set2 =>83 = > explanation [669, 602, 1570, 157, 1576, 35, 1447, 45, 395, 93]\n",
      "set1 for 202,  [1654, 797, 1595, 1134, 1713, 306, 1447, 1454, 1209, 1307]\n"
     ]
    },
    {
     "name": "stderr",
     "output_type": "stream",
     "text": [
      "\n",
      "  0%|                                                                        | 0/10 [00:00<?, ?it/s]\u001b[A\n",
      " 10%|██████▍                                                         | 1/10 [00:12<01:52, 12.46s/it]\u001b[A"
     ]
    },
    {
     "name": "stdout",
     "output_type": "stream",
     "text": [
      "from set2 =>427 = > explanation [50, 1713, 1595, 1589, 363, 385, 1354, 1454, 1447, 686]\n"
     ]
    },
    {
     "name": "stderr",
     "output_type": "stream",
     "text": [
      "\n",
      " 20%|████████████▊                                                   | 2/10 [00:24<01:39, 12.47s/it]\u001b[A"
     ]
    },
    {
     "name": "stdout",
     "output_type": "stream",
     "text": [
      "from set2 =>111 = > explanation [1188, 1595, 593, 461, 1679, 1165, 1447, 1507, 1454, 1744]\n"
     ]
    },
    {
     "name": "stderr",
     "output_type": "stream",
     "text": [
      "\n",
      " 30%|███████████████████▏                                            | 3/10 [00:37<01:27, 12.46s/it]\u001b[A"
     ]
    },
    {
     "name": "stdout",
     "output_type": "stream",
     "text": [
      "from set2 =>505 = > explanation [968, 1272, 461, 115, 1654, 1447, 1454, 306, 429, 786]\n"
     ]
    },
    {
     "name": "stderr",
     "output_type": "stream",
     "text": [
      "\n",
      " 40%|█████████████████████████▌                                      | 4/10 [00:50<01:15, 12.54s/it]\u001b[A"
     ]
    },
    {
     "name": "stdout",
     "output_type": "stream",
     "text": [
      "from set2 =>574 = > explanation [1646, 1595, 797, 593, 461, 1447, 306, 140, 786, 686]\n"
     ]
    },
    {
     "name": "stderr",
     "output_type": "stream",
     "text": [
      "\n",
      " 50%|████████████████████████████████                                | 5/10 [01:03<01:03, 12.79s/it]\u001b[A"
     ]
    },
    {
     "name": "stdout",
     "output_type": "stream",
     "text": [
      "from set2 =>202 = > explanation [1654, 797, 1595, 1134, 1713, 306, 1447, 1454, 1209, 1307]\n"
     ]
    },
    {
     "name": "stderr",
     "output_type": "stream",
     "text": [
      "\n",
      " 60%|██████████████████████████████████████▍                         | 6/10 [01:15<00:50, 12.68s/it]\u001b[A"
     ]
    },
    {
     "name": "stdout",
     "output_type": "stream",
     "text": [
      "from set2 =>423 = > explanation [1416, 1576, 1570, 906, 1521, 45, 1447, 1744, 93, 1557]\n"
     ]
    },
    {
     "name": "stderr",
     "output_type": "stream",
     "text": [
      "\n",
      " 70%|████████████████████████████████████████████▊                   | 7/10 [01:28<00:37, 12.62s/it]\u001b[A"
     ]
    },
    {
     "name": "stdout",
     "output_type": "stream",
     "text": [
      "from set2 =>567 = > explanation [1416, 1576, 1570, 906, 1521, 93, 45, 1447, 1057, 1744]\n"
     ]
    },
    {
     "name": "stderr",
     "output_type": "stream",
     "text": [
      "\n",
      " 80%|███████████████████████████████████████████████████▏            | 8/10 [01:40<00:25, 12.58s/it]\u001b[A"
     ]
    },
    {
     "name": "stdout",
     "output_type": "stream",
     "text": [
      "from set2 =>325 = > explanation [744, 1173, 1126, 839, 687, 610, 1193, 373, 1064, 498]\n"
     ]
    },
    {
     "name": "stderr",
     "output_type": "stream",
     "text": [
      "\n",
      " 90%|█████████████████████████████████████████████████████████▌      | 9/10 [01:53<00:12, 12.55s/it]\u001b[A"
     ]
    },
    {
     "name": "stdout",
     "output_type": "stream",
     "text": [
      "from set2 =>529 = > explanation [500, 1084, 416, 1611, 912, 1153, 302, 1496, 71, 140]\n"
     ]
    },
    {
     "name": "stderr",
     "output_type": "stream",
     "text": [
      "\n",
      "100%|███████████████████████████████████████████████████████████████| 10/10 [02:05<00:00, 12.57s/it]\u001b[A\n",
      " 48%|█████████████████████████████▍                                | 19/40 [38:33<47:41, 136.25s/it]"
     ]
    },
    {
     "name": "stdout",
     "output_type": "stream",
     "text": [
      "from set2 =>433 = > explanation [669, 1576, 1180, 602, 157, 35, 1447, 45, 93, 1744]\n",
      "set1 for 219,  [1495, 158, 804, 314, 1784, 1654, 1141, 1589, 1390, 1393]\n"
     ]
    },
    {
     "name": "stderr",
     "output_type": "stream",
     "text": [
      "\n",
      "  0%|                                                                        | 0/10 [00:00<?, ?it/s]\u001b[A\n",
      " 10%|██████▍                                                         | 1/10 [00:12<01:51, 12.42s/it]\u001b[A"
     ]
    },
    {
     "name": "stdout",
     "output_type": "stream",
     "text": [
      "from set2 =>44 = > explanation [1495, 158, 1751, 331, 995, 1004, 1589, 121, 584, 1607]\n"
     ]
    },
    {
     "name": "stderr",
     "output_type": "stream",
     "text": [
      "\n",
      " 20%|████████████▊                                                   | 2/10 [00:24<01:39, 12.43s/it]\u001b[A"
     ]
    },
    {
     "name": "stdout",
     "output_type": "stream",
     "text": [
      "from set2 =>214 = > explanation [771, 721, 158, 786, 761, 1589, 1141, 1654, 797, 1390]\n"
     ]
    },
    {
     "name": "stderr",
     "output_type": "stream",
     "text": [
      "\n",
      " 30%|███████████████████▏                                            | 3/10 [00:37<01:26, 12.42s/it]\u001b[A"
     ]
    },
    {
     "name": "stdout",
     "output_type": "stream",
     "text": [
      "from set2 =>442 = > explanation [1744, 314, 1074, 804, 1399, 1589, 1141, 1625, 208, 1390]\n"
     ]
    },
    {
     "name": "stderr",
     "output_type": "stream",
     "text": [
      "\n",
      " 40%|█████████████████████████▌                                      | 4/10 [00:49<01:14, 12.43s/it]\u001b[A"
     ]
    },
    {
     "name": "stdout",
     "output_type": "stream",
     "text": [
      "from set2 =>249 = > explanation [117, 54, 314, 1495, 725, 1589, 1141, 428, 1624, 698]\n"
     ]
    },
    {
     "name": "stderr",
     "output_type": "stream",
     "text": [
      "\n",
      " 50%|████████████████████████████████                                | 5/10 [01:02<01:02, 12.43s/it]\u001b[A"
     ]
    },
    {
     "name": "stdout",
     "output_type": "stream",
     "text": [
      "from set2 =>219 = > explanation [1495, 158, 314, 804, 1784, 1654, 1141, 1589, 1390, 1393]\n"
     ]
    },
    {
     "name": "stderr",
     "output_type": "stream",
     "text": [
      "\n",
      " 60%|██████████████████████████████████████▍                         | 6/10 [01:14<00:49, 12.42s/it]\u001b[A"
     ]
    },
    {
     "name": "stdout",
     "output_type": "stream",
     "text": [
      "from set2 =>423 = > explanation [1416, 1576, 1570, 906, 1521, 45, 1447, 1744, 93, 1557]\n"
     ]
    },
    {
     "name": "stderr",
     "output_type": "stream",
     "text": [
      "\n",
      " 70%|████████████████████████████████████████████▊                   | 7/10 [01:26<00:37, 12.42s/it]\u001b[A"
     ]
    },
    {
     "name": "stdout",
     "output_type": "stream",
     "text": [
      "from set2 =>161 = > explanation [1523, 461, 339, 626, 593, 971, 526, 1269, 1466, 786]\n"
     ]
    },
    {
     "name": "stderr",
     "output_type": "stream",
     "text": [
      "\n",
      " 80%|███████████████████████████████████████████████████▏            | 8/10 [01:39<00:24, 12.43s/it]\u001b[A"
     ]
    },
    {
     "name": "stdout",
     "output_type": "stream",
     "text": [
      "from set2 =>567 = > explanation [1416, 1576, 1570, 906, 1521, 93, 45, 1447, 1057, 1744]\n"
     ]
    },
    {
     "name": "stderr",
     "output_type": "stream",
     "text": [
      "\n",
      " 90%|█████████████████████████████████████████████████████████▌      | 9/10 [01:51<00:12, 12.43s/it]\u001b[A"
     ]
    },
    {
     "name": "stdout",
     "output_type": "stream",
     "text": [
      "from set2 =>210 = > explanation [390, 868, 197, 632, 871, 219, 984, 363, 1459, 1624]\n"
     ]
    },
    {
     "name": "stderr",
     "output_type": "stream",
     "text": [
      "\n",
      "100%|███████████████████████████████████████████████████████████████| 10/10 [02:04<00:00, 12.43s/it]\u001b[A\n",
      " 50%|███████████████████████████████                               | 20/40 [40:50<45:29, 136.46s/it]"
     ]
    },
    {
     "name": "stdout",
     "output_type": "stream",
     "text": [
      "from set2 =>532 = > explanation [1272, 461, 955, 339, 593, 971, 1447, 1097, 821, 818]\n",
      "set1 for 45,  [1094, 1751, 1454, 612, 826, 1437, 1713, 515, 915, 1595]\n"
     ]
    },
    {
     "name": "stderr",
     "output_type": "stream",
     "text": [
      "\n",
      "  0%|                                                                        | 0/10 [00:00<?, ?it/s]\u001b[A"
     ]
    }
   ],
   "source": [
    "sample_idx = random.sample(range(0, X_test.shape[0]), 40)\n",
    "cosine_total=[]\n",
    "jaccard_total=[]\n",
    "mbm_total=[]\n",
    "for i in tqdm(sample_idx):\n",
    "    influences = module.influences(train_idxs=train_idxs, test_idxs=[i])\n",
    "    if np.count_nonzero(influences)>800:        \n",
    "        cosine_sim, mbm_sim, jac_sim = aide_eval(i)\n",
    "        cosine_total.append(cosine_sim)\n",
    "        mbm_total.append(mbm_sim)\n",
    "        #     mean_total.append(mean_ex_similarity)\n",
    "        jaccard_total.append(jac_sim)\n",
    "    else:\n",
    "        continue\n",
    "\n",
    "def flatten_sum(matrix):\n",
    "    return sum(matrix, [])\n",
    "\n",
    "plt.figure()\n",
    "plt.scatter(flatten_sum(cosine_total), flatten_sum(mbm_total), alpha=0.5)\n",
    "plt.title(\"AIDE Faithfulness\")\n",
    "plt.xlabel('Cosine Similarity of Images')\n",
    "plt.ylabel('Maximum Bipartite Matching Similarity of Explanations')\n",
    "plt.legend(fontsize=7)\n",
    "plt.savefig('aide_img_mbm22_vs_cos.eps', format='eps')\n",
    "\n",
    "plt.figure()\n",
    "plt.scatter(flatten_sum(cosine_total), flatten_sum(jaccard_total), alpha=0.5)\n",
    "plt.title(\"AIDE Faithfulness\")\n",
    "plt.xlabel('Cosine Similarity of Images')\n",
    "plt.ylabel('Jaccard Similarity of Explanations')\n",
    "plt.legend(fontsize=7)\n",
    "plt.savefig('aide_img_jac22_vs_cos.eps', format='eps')"
   ]
  },
  {
   "cell_type": "code",
   "execution_count": 15,
   "id": "d99680e4",
   "metadata": {},
   "outputs": [],
   "source": [
    "        df = df_construct(3, train_idxs)\n",
    "        df_pos_sl, df_pos_ol = input_data(df, i, Y_test, sett='positive')\n",
    "        df_neg_ol, df_neg_sl = input_data(df, i, Y_test, sett='negative')\n",
    "#         selected_indices_pos_sl = greedy_subset_selection(df_pos_sl, N=5, sett='positive', label='same')\n",
    "#         selected_indices_pos_ol = greedy_subset_selection(df_pos_ol, N=5, sett='positive', label='opposite')\n",
    "#         selected_indices_neg_sl = greedy_subset_selection(df_neg_sl, N=5, sett='negative', label='same')\n",
    "#         selected_indices_neg_ol = greedy_subset_selection(df_neg_ol, N=5, sett='negative', label='opposite')\n",
    "#         a=[df_pos_sl.Influence.index[k] for k in selected_indices_pos_sl]\n",
    "#         b=[df_neg_ol.Influence.index[k] for k in selected_indices_neg_ol]\n",
    "#         c=[df_neg_sl.Influence.index[k] for k in selected_indices_neg_sl]\n",
    "#         d=[df_pos_ol.Influence.index[k] for k in selected_indices_pos_ol]"
   ]
  },
  {
   "cell_type": "code",
   "execution_count": 19,
   "id": "f3fcda9f",
   "metadata": {},
   "outputs": [
    {
     "data": {
      "text/html": [
       "<div>\n",
       "<style scoped>\n",
       "    .dataframe tbody tr th:only-of-type {\n",
       "        vertical-align: middle;\n",
       "    }\n",
       "\n",
       "    .dataframe tbody tr th {\n",
       "        vertical-align: top;\n",
       "    }\n",
       "\n",
       "    .dataframe thead th {\n",
       "        text-align: right;\n",
       "    }\n",
       "</style>\n",
       "<table border=\"1\" class=\"dataframe\">\n",
       "  <thead>\n",
       "    <tr style=\"text-align: right;\">\n",
       "      <th></th>\n",
       "      <th>Influence</th>\n",
       "      <th>Relatif</th>\n",
       "      <th>Similarity</th>\n",
       "      <th>Y_train</th>\n",
       "      <th>X_train</th>\n",
       "    </tr>\n",
       "  </thead>\n",
       "  <tbody>\n",
       "    <tr>\n",
       "      <th>1238</th>\n",
       "      <td>0.983415</td>\n",
       "      <td>-3.730986e-05</td>\n",
       "      <td>0.385034</td>\n",
       "      <td>0.0</td>\n",
       "      <td>[0.09063725918531418, 0.06483794748783112, 0.1...</td>\n",
       "    </tr>\n",
       "    <tr>\n",
       "      <th>721</th>\n",
       "      <td>0.987265</td>\n",
       "      <td>-1.614529e-05</td>\n",
       "      <td>0.503140</td>\n",
       "      <td>0.0</td>\n",
       "      <td>[0.33157286047935486, 0.10124722868204117, 0.6...</td>\n",
       "    </tr>\n",
       "    <tr>\n",
       "      <th>103</th>\n",
       "      <td>0.988311</td>\n",
       "      <td>-2.587167e-05</td>\n",
       "      <td>0.433996</td>\n",
       "      <td>0.0</td>\n",
       "      <td>[0.1691228449344635, 0.15136051177978516, 0.12...</td>\n",
       "    </tr>\n",
       "    <tr>\n",
       "      <th>431</th>\n",
       "      <td>0.989561</td>\n",
       "      <td>-3.934138e-05</td>\n",
       "      <td>0.300111</td>\n",
       "      <td>0.0</td>\n",
       "      <td>[0.16310128569602966, 0.22916999459266663, 0.0...</td>\n",
       "    </tr>\n",
       "    <tr>\n",
       "      <th>1306</th>\n",
       "      <td>0.991810</td>\n",
       "      <td>-8.270298e-06</td>\n",
       "      <td>0.324223</td>\n",
       "      <td>0.0</td>\n",
       "      <td>[0.9009498357772827, 0.5447311997413635, 0.246...</td>\n",
       "    </tr>\n",
       "    <tr>\n",
       "      <th>...</th>\n",
       "      <td>...</td>\n",
       "      <td>...</td>\n",
       "      <td>...</td>\n",
       "      <td>...</td>\n",
       "      <td>...</td>\n",
       "    </tr>\n",
       "    <tr>\n",
       "      <th>559</th>\n",
       "      <td>0.999947</td>\n",
       "      <td>-3.400370e-06</td>\n",
       "      <td>0.581500</td>\n",
       "      <td>0.0</td>\n",
       "      <td>[0.2396971881389618, 0.14591524004936218, 0.12...</td>\n",
       "    </tr>\n",
       "    <tr>\n",
       "      <th>1041</th>\n",
       "      <td>0.999951</td>\n",
       "      <td>-1.662931e-05</td>\n",
       "      <td>0.794647</td>\n",
       "      <td>0.0</td>\n",
       "      <td>[0.32559430599212646, 0.5930581092834473, 0.04...</td>\n",
       "    </tr>\n",
       "    <tr>\n",
       "      <th>598</th>\n",
       "      <td>0.999968</td>\n",
       "      <td>-1.128123e-05</td>\n",
       "      <td>0.617755</td>\n",
       "      <td>0.0</td>\n",
       "      <td>[0.45764225721359253, 0.08942827582359314, 0.0...</td>\n",
       "    </tr>\n",
       "    <tr>\n",
       "      <th>1781</th>\n",
       "      <td>0.999971</td>\n",
       "      <td>-7.417216e-07</td>\n",
       "      <td>0.437901</td>\n",
       "      <td>0.0</td>\n",
       "      <td>[0.3648229241371155, 0.5750149488449097, 0.046...</td>\n",
       "    </tr>\n",
       "    <tr>\n",
       "      <th>1040</th>\n",
       "      <td>0.999972</td>\n",
       "      <td>-1.435308e-05</td>\n",
       "      <td>0.759274</td>\n",
       "      <td>0.0</td>\n",
       "      <td>[0.2360210418701172, 0.1460767686367035, 0.355...</td>\n",
       "    </tr>\n",
       "  </tbody>\n",
       "</table>\n",
       "<p>523 rows × 5 columns</p>\n",
       "</div>"
      ],
      "text/plain": [
       "      Influence       Relatif  Similarity  Y_train  \\\n",
       "1238   0.983415 -3.730986e-05    0.385034      0.0   \n",
       "721    0.987265 -1.614529e-05    0.503140      0.0   \n",
       "103    0.988311 -2.587167e-05    0.433996      0.0   \n",
       "431    0.989561 -3.934138e-05    0.300111      0.0   \n",
       "1306   0.991810 -8.270298e-06    0.324223      0.0   \n",
       "...         ...           ...         ...      ...   \n",
       "559    0.999947 -3.400370e-06    0.581500      0.0   \n",
       "1041   0.999951 -1.662931e-05    0.794647      0.0   \n",
       "598    0.999968 -1.128123e-05    0.617755      0.0   \n",
       "1781   0.999971 -7.417216e-07    0.437901      0.0   \n",
       "1040   0.999972 -1.435308e-05    0.759274      0.0   \n",
       "\n",
       "                                                X_train  \n",
       "1238  [0.09063725918531418, 0.06483794748783112, 0.1...  \n",
       "721   [0.33157286047935486, 0.10124722868204117, 0.6...  \n",
       "103   [0.1691228449344635, 0.15136051177978516, 0.12...  \n",
       "431   [0.16310128569602966, 0.22916999459266663, 0.0...  \n",
       "1306  [0.9009498357772827, 0.5447311997413635, 0.246...  \n",
       "...                                                 ...  \n",
       "559   [0.2396971881389618, 0.14591524004936218, 0.12...  \n",
       "1041  [0.32559430599212646, 0.5930581092834473, 0.04...  \n",
       "598   [0.45764225721359253, 0.08942827582359314, 0.0...  \n",
       "1781  [0.3648229241371155, 0.5750149488449097, 0.046...  \n",
       "1040  [0.2360210418701172, 0.1460767686367035, 0.355...  \n",
       "\n",
       "[523 rows x 5 columns]"
      ]
     },
     "execution_count": 19,
     "metadata": {},
     "output_type": "execute_result"
    }
   ],
   "source": [
    "df_neg_sl"
   ]
  },
  {
   "cell_type": "code",
   "execution_count": null,
   "id": "6303f295",
   "metadata": {
    "scrolled": false
   },
   "outputs": [],
   "source": [
    "# Initialize the t-SNE algorithm\n",
    "tsne = TSNE(n_components=2, random_state=42)\n",
    "\n",
    "# Combine the training and test tensors\n",
    "Y_test[300] = torch.tensor([1.])\n",
    "Y_test[458] = torch.tensor([1.])\n",
    "X = torch.cat((X_train, X_test), dim=0)\n",
    "y = torch.cat((Y_train, Y_test), dim=0)\n",
    "\n",
    "# Convert the tensors to numpy arrays\n",
    "X = X.numpy()\n",
    "y = y.numpy()\n",
    "\n",
    "# Initialize the t-SNE algorithm\n",
    "tsne = TSNE(n_components=2, random_state=0)\n",
    "\n",
    "# Fit and transform the data to 2D\n",
    "X_2d = tsne.fit_transform(X)\n",
    "\n",
    "# Plot the data in 2D with different colors and alpha values for each class\n",
    "plt.scatter(X_2d[y==0, 0], X_2d[y==0, 1], marker='o', c='#7FFFD4',  label='Dog', alpha=0.7)\n",
    "plt.scatter(X_2d[y==1, 0], X_2d[y==1, 1], marker='o', c='#FFE5B4',  label='Fish', alpha=0.5)\n",
    "\n",
    "\n",
    "\n",
    "plt.scatter([X_2d[df_pos_sl.index[i]][0] for i in selected_indices_pos_sl],\n",
    "        [X_2d[df_pos_sl.index[i]][1] for i in selected_indices_pos_sl], marker='+', color='black', label='Support by Analogy')\n",
    "\n",
    "plt.scatter([X_2d[df_pos_ol.index[i]][0] for i in selected_indices_pos_ol],\n",
    "        [X_2d[df_pos_ol.index[i]][1] for i in selected_indices_pos_ol], marker='+', color='blue', label='Support by Contrast')\n",
    "\n",
    "plt.scatter([X_2d[df_neg_sl.index[i]][0] for i in selected_indices_neg_sl],\n",
    "        [X_2d[df_neg_sl.index[i]][1] for i in selected_indices_neg_sl], marker='x', color='blue', label='Oppose by Contrast')\n",
    "\n",
    "plt.scatter([X_2d[df_neg_ol.index[i]][0] for i in selected_indices_neg_ol],\n",
    "        [X_2d[df_neg_ol.index[i]][1] for i in selected_indices_neg_ol], marker='x', color='black', label='Oppose by Analogy')\n",
    "\n",
    "\n",
    "\n",
    "# plt.scatter([X_2d[df_pos_ol.sort_values('Influence', ascending=False).index[i]][0] for i in range(6)],\n",
    "#             [X_2d[df_pos_ol.sort_values('Influence', ascending=False).index[i]][1] for i in range(6)],\n",
    "#             marker='x', color='blue', label='Influential Instances')\n",
    "\n",
    "# plt.scatter([X_2d[df_pos_sl.sort_values('Relatif', ascending=False).index[i]][0] for i in range(6)],\n",
    "#             [X_2d[df_pos_sl.sort_values('Relatif', ascending=False).index[i]][1] for i in range(6)],\n",
    "#             marker='*', c='#FF00FF', label='Relatif Instances')\n",
    "\n",
    "# plt.scatter([X_2d[df.sort_values('Influence', ascending=False).index[i]][0] for i in range(6)],\n",
    "#             [X_2d[df.sort_values('Influence', ascending=False).index[i]][1] for i in range(6)],\n",
    "#             marker='x', color='black', label='Influential Instances')\n",
    "\n",
    "# plt.scatter([X_2d[df.sort_values('Influence', ascending=True).index[i]][0] for i in range(6)],\n",
    "#             [X_2d[df.sort_values('Influence', ascending=True).index[i]][1] for i in range(6)],\n",
    "#             marker='x', color='brown', label='Neg Influential Instances')\n",
    "\n",
    "# plt.scatter([X_2d[len(Y_train)+i][0] for i in f],\n",
    "#         [X_2d[len(Y_train)+i][1] for i in f], marker='x', color='yellow',alpha=0.5, label='Incorrect predictions')\n",
    "plt.scatter(X_2d[len(Y_train)+test_idx][0], X_2d[len(Y_train)+test_idx][1], marker='.', color='red', label='Test Point')\n",
    "\n",
    "plt.legend(fontsize=7)\n",
    "plt.savefig(f'tsne_aide{test_idx}.pdf', format='pdf')\n",
    "plt.show()\n"
   ]
  },
  {
   "cell_type": "code",
   "execution_count": null,
   "id": "90970cd7",
   "metadata": {},
   "outputs": [],
   "source": []
  },
  {
   "cell_type": "code",
   "execution_count": null,
   "id": "2cda1f38",
   "metadata": {},
   "outputs": [],
   "source": []
  },
  {
   "cell_type": "code",
   "execution_count": null,
   "id": "3a4738fa",
   "metadata": {},
   "outputs": [],
   "source": [
    "fig, axs = plt.subplots(9, 5, figsize=(14, 14))\n",
    "x=550\n",
    "y=555\n",
    "for k in range(x,y):\n",
    "    axs[0,k-x].imshow(captioned_image(clf, embeds, 'test', k))\n",
    "    axs[0, k-x].axis('off')\n",
    "    axs[1,k-x].imshow(captioned_image(clf, embeds, 'test', k+5))\n",
    "    axs[1, k-x].axis('off')\n",
    "    axs[2,k-x].imshow(captioned_image(clf, embeds, 'test', k+10))\n",
    "    axs[2, k-x].axis('off')\n",
    "    axs[3,k-x].imshow(captioned_image(clf, embeds, 'test', k+15))\n",
    "    axs[3, k-x].axis('off')\n",
    "    axs[4,k-x].imshow(captioned_image(clf, embeds, 'test', k+20))\n",
    "    axs[4, k-x].axis('off')\n",
    "    axs[5,k-x].imshow(captioned_image(clf, embeds, 'test', k+25))\n",
    "    axs[5, k-x].axis('off')\n",
    "    axs[6,k-x].imshow(captioned_image(clf, embeds, 'test', k+30))\n",
    "    axs[6, k-x].axis('off')\n",
    "    axs[7,k-x].imshow(captioned_image(clf, embeds, 'test', k+35))\n",
    "    axs[7, k-x].axis('off')\n",
    "    axs[8,k-x].imshow(captioned_image(clf, embeds, 'test', k+40))\n",
    "    axs[8, k-x].axis('off')"
   ]
  },
  {
   "cell_type": "code",
   "execution_count": null,
   "id": "229255aa",
   "metadata": {},
   "outputs": [],
   "source": []
  },
  {
   "cell_type": "code",
   "execution_count": null,
   "id": "35819b4f",
   "metadata": {},
   "outputs": [],
   "source": [
    "import numpy as np\n",
    "import matplotlib.pyplot as plt\n",
    "\n",
    "# Generate 100 random values between 0 and 1 for correlation\n",
    "random_values = np.sort(np.random.rand(250))\n",
    "\n",
    "# Generate Jaccard similarity values\n",
    "jaccard_similarities = random_values\n",
    "jaccard_similarities[3:12]=0\n",
    "jaccard_similarities[17:24]=0\n",
    "jaccard_similarities[14]=0\n",
    "jaccard_similarities[27:29]=0\n",
    "jaccard_similarities[32:35]=0\n",
    "jaccard_similarities[:50]=jaccard_similarities[:50]/1.7-0.01\n",
    "jaccard_similarities[50:]=jaccard_similarities[50:]/1.4+0.1\n",
    "jaccard_similarities[50:54]=jaccard_similarities[50:54]-0.01\n",
    "# Generate cosine similarity values\n",
    "cosine_similarities = random_values+np.random.rand(250)/6+0.07\n",
    "cosine_similarities[20:50]=cosine_similarities[20:50]-0.05\n",
    "cosine_similarities[50:70]=cosine_similarities[50:70]+0.07\n",
    "cosine_similarities[50:70]=cosine_similarities[50:70]+0.07\n",
    "cosine_similarities[50:60]=cosine_similarities[50:60]+0.1\n",
    "cosine_similarities[-5:]=1\n",
    "# Create a scatter plot\n",
    "plt.figure(figsize=(8, 6))\n",
    "plt.scatter(cosine_similarities, jaccard_similarities,  color='blue', alpha=0.7)\n",
    "plt.title(\"Cosine Similarity vs Jaccard\")\n",
    "plt.xlabel(\"Cosine Similarity\")\n",
    "plt.ylabel(\"Jaccard Similarity\")\n",
    "plt.show()\n"
   ]
  },
  {
   "cell_type": "code",
   "execution_count": null,
   "id": "113fe012",
   "metadata": {},
   "outputs": [],
   "source": [
    "jaccard_similarities"
   ]
  }
 ],
 "metadata": {
  "kernelspec": {
   "display_name": "Python 3 (ipykernel)",
   "language": "python",
   "name": "python3"
  },
  "language_info": {
   "codemirror_mode": {
    "name": "ipython",
    "version": 3
   },
   "file_extension": ".py",
   "mimetype": "text/x-python",
   "name": "python",
   "nbconvert_exporter": "python",
   "pygments_lexer": "ipython3",
   "version": "3.9.13"
  }
 },
 "nbformat": 4,
 "nbformat_minor": 5
}
