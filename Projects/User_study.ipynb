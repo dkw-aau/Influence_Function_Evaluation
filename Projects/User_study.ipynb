{
 "cells": [
  {
   "cell_type": "code",
   "execution_count": null,
   "id": "c76bb0a0",
   "metadata": {},
   "outputs": [],
   "source": [
    "import pandas as pd\n",
    "import numpy as np\n",
    "\n",
    "df=pd.read_csv(\"plotdata/eval_results.csv\")"
   ]
  },
  {
   "cell_type": "code",
   "execution_count": null,
   "id": "62f9f9da",
   "metadata": {},
   "outputs": [],
   "source": [
    "columns_to_drop = ['Timestamp', 'If you agree, write a short answer..1', 'If you agree, write a short answer.', 'Have you taken any formal courses or received any training in machine learning?',\n",
    "       'Have you worked on any machine learning projects, either personally or professionally?',\n",
    "       'Are you familiar with the concept of Explainable Artificial Intelligence (XAI)?','Have you used or worked with any tools or techniques related to explainable AI?']\n",
    "df = df.drop(columns=columns_to_drop)\n",
    "\n",
    "# mapping = {\"Strongly agree\": 1, \"Somewhat agree\": 1, \"Neither agree nor disagree\": 0, \"Somewhat disagree\": 0, \"Disagree\": 0}\n",
    "# mapping1 = {\"Very effective\": 1, \"Effective\": 1, \"Neutral\": 0, \"Ineffective\": 0, \"Very ineffective\": 0}\n",
    "# mapping2 = {\"Highly relevant\": 1, \"Relevant\": 1, \"Neutral\": 0, \"Irrelevant\": 0, \"Highly irrelevant\": 0}\n",
    "# mapping3 = {\"Significantly enhanced\": 1, \"Enhanced\": 1, \"Neutral\": 0, \"Limited enhancement\": 0, \"No enhancement\": 0}\n",
    "# mapping4 = {\"Yes\": 1,\"No\": 0}\n",
    "# mapping5 = {\"Expert\": \"Advanced\",\"Beginner\":\"Intermediate\"}\n",
    "# df = df.applymap(lambda x: mapping.get(x, x))\n",
    "# df = df.applymap(lambda x: mapping1.get(x, x))\n",
    "# df = df.applymap(lambda x: mapping2.get(x, x))\n",
    "# df = df.applymap(lambda x: mapping3.get(x, x))\n",
    "# df = df.applymap(lambda x: mapping4.get(x, x))\n",
    "# df = df.applymap(lambda x: mapping5.get(x, x))\n",
    "\n",
    "new_column_names = {'What is you level of familiarity with machine learning concepts?': 'level',\n",
    "                    \"1. The explanation provided helped to understand the model's prediction. To what extent do you agree?\": 'mm1',\n",
    "                    \"1. The explanation provided helped to understand the model's prediction. To what extent do you agree?.1\": 'mm2',\n",
    "                    \"1. The explanation provided helped to understand the model's prediction. To what extent do you agree?.2\": 'mm3',\n",
    "                    \"2. The explanation is clear and easy to comprehend. To what extent do you agree?\":'clr1',\n",
    "                    \"2. Explanation is clear and easy to comprehend. To what extent do you agree?\":'clr2',\n",
    "                    \"2. The explanation is clear and easy to comprehend. To what extent do you agree?.1\":'clr3',\n",
    "                    \"3. The group \\\"Support\\\" enhances the understanding of the model's prediction. To what extent do you agree?\":\"sup1\",\n",
    "                    \"4. The group \\\"Support\\\" enhances the understanding of the model's prediction. To what extent do you agree?\":\"sup2\",\n",
    "                    \"4. The group \\\"Support\\\" enhances the understanding of the model's prediction. To what extent do you agree?.1\":\"sup3\",\n",
    "                    \"3. The group \\\"Support by Contrast\\\" enhances the understanding of the model's prediction. To what extent do you agree?\":\"supc1\",\n",
    "                    \"5. The group \\\"Support by Contrast\\\" enhances the understanding of the model's prediction. To what extent do you agree?\":\"supc2\",\n",
    "                    \"6. The group \\\"Oppose\\\" enhances the understanding of the model's prediction. To what extent do you agree?\": \"op2\",\n",
    "                    \"5. The group \\\"Oppose\\\" enhances the understanding of the model's prediction. To what extent do you agree?\": \"op3\",\n",
    "                    \"7. The group \\\"Oppose by Contrast\\\" enhances the understanding of the model's prediction. To what extent do you agree?\": \"opc2\",\n",
    "                    \"8. The explanation helped me understand how the model's performance can be improved?\":\"haic2\",\n",
    "                    \"6. The explanation helped me understand how the model's performance can be improved?\":\"haic3\",\n",
    "                    '2. To what extent did you find the provided samples relevant to the specific intent you encountered, i.e., interpreting a correct prediction, investigating a wrong prediction, clarifying an ambiguous one?': 'intent',\n",
    "                    '3. Do you believe that the use of contrast in the groups of images shown enhanced your understanding of the model predictions?': 'contrastivity',\n",
    "                    '1. Considering the use cases and explanations provided, how would you rate the overall effectiveness of AIDE in helping to understand model predictions? ':'effectiveness'}\n",
    "\n",
    "# Rename the columns\n",
    "df.rename(columns=new_column_names, inplace=True)"
   ]
  },
  {
   "cell_type": "code",
   "execution_count": null,
   "id": "6400d15a",
   "metadata": {},
   "outputs": [],
   "source": [
    "df.head(4)"
   ]
  },
  {
   "cell_type": "code",
   "execution_count": null,
   "id": "6d42fa16",
   "metadata": {},
   "outputs": [],
   "source": [
    "df[\"level\"].value_counts()"
   ]
  },
  {
   "cell_type": "code",
   "execution_count": null,
   "id": "50b46b0d",
   "metadata": {},
   "outputs": [],
   "source": [
    "a = pd.concat([df[\"level\"], df[\"level\"]], ignore_index=True)\n",
    "\n",
    "concatenated = pd.concat([df[\"op2\"], df[\"op3\"]], ignore_index=True)\n",
    "new_df = pd.DataFrame({'a': a, 'Support': concatenated})\n",
    "new_df.groupby(\"a\").value_counts()"
   ]
  },
  {
   "cell_type": "code",
   "execution_count": null,
   "id": "2f1d80da",
   "metadata": {},
   "outputs": [],
   "source": [
    "# Mental Model\n",
    "df.groupby(\"level\")[\"mm2\"].value_counts(1)"
   ]
  },
  {
   "cell_type": "code",
   "execution_count": null,
   "id": "77719ed1",
   "metadata": {},
   "outputs": [],
   "source": [
    "# Clarity of Explanation\n",
    "df.groupby(\"level\")[\"clr1\"].value_counts(1)"
   ]
  },
  {
   "cell_type": "code",
   "execution_count": null,
   "id": "024c901a",
   "metadata": {},
   "outputs": [],
   "source": [
    "# Human-AI Collaboration\n",
    "df.groupby(\"level\")[\"haic2\"].value_counts(1)"
   ]
  },
  {
   "cell_type": "code",
   "execution_count": null,
   "id": "877568fa",
   "metadata": {},
   "outputs": [],
   "source": [
    "# Helpfulness\n",
    "df.groupby(\"level\")[\"intent\"].value_counts(1)"
   ]
  },
  {
   "cell_type": "code",
   "execution_count": null,
   "id": "c1ff6a62",
   "metadata": {},
   "outputs": [],
   "source": [
    "# Contrativity Usefulness\n",
    "df.groupby(\"level\")[\"contrastivity\"].value_counts(1)"
   ]
  },
  {
   "cell_type": "code",
   "execution_count": null,
   "id": "7a78f031",
   "metadata": {},
   "outputs": [],
   "source": [
    "# Overall Effectiveness\n",
    "df.groupby(\"level\")[\"effectiveness\"].value_counts(1)"
   ]
  },
  {
   "cell_type": "markdown",
   "id": "d22b8aea",
   "metadata": {},
   "source": [
    "# Faithfulness comparison for AIDE, IF, and RelatIF"
   ]
  },
  {
   "cell_type": "code",
   "execution_count": 1,
   "id": "4c0ceb9d",
   "metadata": {},
   "outputs": [],
   "source": [
    "import numpy as np\n",
    "from scipy.stats import pearsonr"
   ]
  },
  {
   "cell_type": "code",
   "execution_count": 2,
   "id": "fdb789c1",
   "metadata": {},
   "outputs": [],
   "source": [
    "aide_data = np.load('plotdata/plot_spam.npz', allow_pickle=True)\n",
    "if_data = np.load('plotdata/plot_spam_inf.npz', allow_pickle=True)\n",
    "rel_data = np.load('plotdata/plot_spam_rel.npz', allow_pickle=True)"
   ]
  },
  {
   "cell_type": "code",
   "execution_count": 3,
   "id": "bd669452",
   "metadata": {},
   "outputs": [],
   "source": [
    "def flatten_sum(matrix):\n",
    "    return sum(matrix, [])"
   ]
  },
  {
   "cell_type": "code",
   "execution_count": 1,
   "id": "c2dc1523",
   "metadata": {},
   "outputs": [],
   "source": [
    "# aide_data['fuzzy']"
   ]
  },
  {
   "cell_type": "code",
   "execution_count": 18,
   "id": "bd2af8ee",
   "metadata": {},
   "outputs": [],
   "source": [
    "ar=np.sort(aide_data['fuzzy'].flatten())"
   ]
  },
  {
   "cell_type": "code",
   "execution_count": 11,
   "id": "84e0ef7f",
   "metadata": {},
   "outputs": [],
   "source": [
    "ar=np.sort(rel_data['fuzzy'].flatten())"
   ]
  },
  {
   "cell_type": "code",
   "execution_count": 17,
   "id": "aca2db39",
   "metadata": {},
   "outputs": [
    {
     "ename": "ValueError",
     "evalue": "operands could not be broadcast together with shapes (0,) (20,) ",
     "output_type": "error",
     "traceback": [
      "\u001b[0;31m---------------------------------------------------------------------------\u001b[0m",
      "\u001b[0;31mValueError\u001b[0m                                Traceback (most recent call last)",
      "\u001b[0;32m/tmp/ipykernel_80740/3950237668.py\u001b[0m in \u001b[0;36m<module>\u001b[0;34m\u001b[0m\n\u001b[0;32m----> 1\u001b[0;31m \u001b[0mar\u001b[0m\u001b[0;34m=\u001b[0m\u001b[0mnp\u001b[0m\u001b[0;34m.\u001b[0m\u001b[0msort\u001b[0m\u001b[0;34m(\u001b[0m\u001b[0mflatten_sum\u001b[0m\u001b[0;34m(\u001b[0m\u001b[0maide_data\u001b[0m\u001b[0;34m[\u001b[0m\u001b[0;34m'cosine'\u001b[0m\u001b[0;34m]\u001b[0m\u001b[0;34m)\u001b[0m\u001b[0;34m)\u001b[0m\u001b[0;34m\u001b[0m\u001b[0;34m\u001b[0m\u001b[0m\n\u001b[0m",
      "\u001b[0;32m/tmp/ipykernel_80740/4045007748.py\u001b[0m in \u001b[0;36mflatten_sum\u001b[0;34m(matrix)\u001b[0m\n\u001b[1;32m      1\u001b[0m \u001b[0;32mdef\u001b[0m \u001b[0mflatten_sum\u001b[0m\u001b[0;34m(\u001b[0m\u001b[0mmatrix\u001b[0m\u001b[0;34m)\u001b[0m\u001b[0;34m:\u001b[0m\u001b[0;34m\u001b[0m\u001b[0;34m\u001b[0m\u001b[0m\n\u001b[0;32m----> 2\u001b[0;31m     \u001b[0;32mreturn\u001b[0m \u001b[0msum\u001b[0m\u001b[0;34m(\u001b[0m\u001b[0mmatrix\u001b[0m\u001b[0;34m,\u001b[0m \u001b[0;34m[\u001b[0m\u001b[0;34m]\u001b[0m\u001b[0;34m)\u001b[0m\u001b[0;34m\u001b[0m\u001b[0;34m\u001b[0m\u001b[0m\n\u001b[0m",
      "\u001b[0;31mValueError\u001b[0m: operands could not be broadcast together with shapes (0,) (20,) "
     ]
    }
   ],
   "source": [
    "ar=np.sort(flatten_sum(aide_data['cosine']))"
   ]
  },
  {
   "cell_type": "code",
   "execution_count": 19,
   "id": "32984722",
   "metadata": {},
   "outputs": [
    {
     "data": {
      "text/plain": [
       "(2000,)"
      ]
     },
     "execution_count": 19,
     "metadata": {},
     "output_type": "execute_result"
    }
   ],
   "source": [
    "ar.shape"
   ]
  },
  {
   "cell_type": "code",
   "execution_count": 21,
   "id": "5ea336ab",
   "metadata": {},
   "outputs": [
    {
     "data": {
      "text/plain": [
       "0.5350481277107766"
      ]
     },
     "execution_count": 21,
     "metadata": {},
     "output_type": "execute_result"
    }
   ],
   "source": [
    "ar[:1000].sum()/1000"
   ]
  },
  {
   "cell_type": "code",
   "execution_count": 21,
   "id": "00c2c067",
   "metadata": {},
   "outputs": [
    {
     "data": {
      "text/plain": [
       "(2000,)"
      ]
     },
     "execution_count": 21,
     "metadata": {},
     "output_type": "execute_result"
    }
   ],
   "source": [
    "if_data['fuzzy'].flatten().shape"
   ]
  },
  {
   "cell_type": "code",
   "execution_count": 9,
   "id": "4f96b5d2",
   "metadata": {},
   "outputs": [
    {
     "name": "stderr",
     "output_type": "stream",
     "text": [
      "No artists with labels found to put in legend.  Note that artists whose label start with an underscore are ignored when legend() is called with no argument.\n",
      "The PostScript backend does not support transparency; partially transparent artists will be rendered opaque.\n"
     ]
    },
    {
     "name": "stdout",
     "output_type": "stream",
     "text": [
      "Correlation AIDE: 0.9101885012112415\n",
      "Correlation IF: 0.7979627719818707\n",
      "Correlation RelatIF: 0.913913083638193\n"
     ]
    },
    {
     "data": {
      "image/png": "[encoded data removed]",
      "text/plain": [
       "<Figure size 640x480 with 1 Axes>"
      ]
     },
     "metadata": {},
     "output_type": "display_data"
    }
   ],
   "source": [
    "import matplotlib.pyplot as plt\n",
    "import numpy as np\n",
    "# Generate example data for three methods\n",
    "np.random.seed(42)\n",
    "\n",
    "# Example data for Aide\n",
    "method1_jaccard_scores = aide_data['fuzzy'].flatten()\n",
    "method1_cosine_scores = aide_data['cosine'].flatten()\n",
    "\n",
    "# # Example data for if\n",
    "method2_jaccard_scores = if_data['fuzzy'].flatten()\n",
    "method2_cosine_scores = if_data['cosine'].flatten()\n",
    "\n",
    "# Example data for relatif\n",
    "method3_jaccard_scores = rel_data['fuzzy'].flatten()\n",
    "method3_cosine_scores = rel_data['cosine'].flatten()\n",
    "\n",
    "# Compute correlation coefficients for each method\n",
    "correlation_method1, _ = pearsonr(method1_cosine_scores, method1_jaccard_scores)\n",
    "correlation_method2, _ = pearsonr(method2_jaccard_scores, method2_cosine_scores)\n",
    "correlation_method3, _ = pearsonr(method3_jaccard_scores, method3_cosine_scores)\n",
    "\n",
    "# Print correlation coefficients\n",
    "print(\"Correlation AIDE:\", correlation_method1)\n",
    "print(\"Correlation IF:\", correlation_method2)\n",
    "print(\"Correlation RelatIF:\", correlation_method3)\n",
    "\n",
    "# Visualization: Scatter plot with regression line for Method 1\n",
    "plt.scatter(method3_cosine_scores, method3_jaccard_scores)\n",
    "plt.title(\"Faithfullness of RelatIF\", fontsize=18)\n",
    "plt.ylabel(\"Jaccard Similarity\", fontsize=16)\n",
    "plt.xlabel(\"Cosine Similarity\", fontsize=16)\n",
    "\n",
    "# Add regression line\n",
    "z3 = np.polyfit(method3_cosine_scores, method3_jaccard_scores, 1)\n",
    "p3 = np.poly1d(z3)\n",
    "plt.plot(method3_cosine_scores, p3(method3_cosine_scores), \"r--\")\n",
    "plt.legend()\n",
    "plt.savefig('rel_spam_faith.eps', format='eps')\n",
    "plt.show()\n"
   ]
  },
  {
   "cell_type": "code",
   "execution_count": 73,
   "id": "966b926f",
   "metadata": {},
   "outputs": [
    {
     "name": "stdout",
     "output_type": "stream",
     "text": [
      "Correlation AIDE: 0.905277759917249\n",
      "Correlation IF: 0.8480369409081974\n",
      "Correlation RelatIF: 0.9005464457496883\n"
     ]
    }
   ],
   "source": [
    "correlation_method1, _ = pearsonr(method1_cosine_scores[:400], method1_jaccard_scores[:400])\n",
    "correlation_method2, _ = pearsonr(method2_jaccard_scores[:400], method2_cosine_scores[:400])\n",
    "correlation_method3, _ = pearsonr(method3_jaccard_scores[:400], method3_cosine_scores[:400])\n",
    "\n",
    "# Print correlation coefficients\n",
    "print(\"Correlation AIDE:\", correlation_method1)\n",
    "print(\"Correlation IF:\", correlation_method2)\n",
    "print(\"Correlation RelatIF:\", correlation_method3)"
   ]
  }
 ],
 "metadata": {
  "kernelspec": {
   "display_name": "Python 3 (ipykernel)",
   "language": "python",
   "name": "python3"
  },
  "language_info": {
   "codemirror_mode": {
    "name": "ipython",
    "version": 3
   },
   "file_extension": ".py",
   "mimetype": "text/x-python",
   "name": "python",
   "nbconvert_exporter": "python",
   "pygments_lexer": "ipython3",
   "version": "3.9.13"
  }
 },
 "nbformat": 4,
 "nbformat_minor": 5
}
