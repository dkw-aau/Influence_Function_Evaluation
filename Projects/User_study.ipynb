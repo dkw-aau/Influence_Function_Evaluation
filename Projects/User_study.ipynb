{
 "cells": [
  {
   "cell_type": "code",
   "execution_count": 4,
   "id": "c76bb0a0",
   "metadata": {},
   "outputs": [],
   "source": [
    "import pandas as pd\n",
    "import numpy as np\n",
    "\n",
    "df=pd.read_csv(\"plotdata/eval_results.csv\")"
   ]
  },
  {
   "cell_type": "code",
   "execution_count": 5,
   "id": "62f9f9da",
   "metadata": {},
   "outputs": [],
   "source": [
    "columns_to_drop = ['Timestamp', 'If you agree, write a short answer..1', 'If you agree, write a short answer.', 'Have you taken any formal courses or received any training in machine learning?',\n",
    "       'Have you worked on any machine learning projects, either personally or professionally?',\n",
    "       'Are you familiar with the concept of Explainable Artificial Intelligence (XAI)?','Have you used or worked with any tools or techniques related to explainable AI?']\n",
    "df = df.drop(columns=columns_to_drop)\n",
    "\n",
    "# mapping = {\"Strongly agree\": 1, \"Somewhat agree\": 1, \"Neither agree nor disagree\": 0, \"Somewhat disagree\": 0, \"Disagree\": 0}\n",
    "# mapping1 = {\"Very effective\": 1, \"Effective\": 1, \"Neutral\": 0, \"Ineffective\": 0, \"Very ineffective\": 0}\n",
    "# mapping2 = {\"Highly relevant\": 1, \"Relevant\": 1, \"Neutral\": 0, \"Irrelevant\": 0, \"Highly irrelevant\": 0}\n",
    "# mapping3 = {\"Significantly enhanced\": 1, \"Enhanced\": 1, \"Neutral\": 0, \"Limited enhancement\": 0, \"No enhancement\": 0}\n",
    "# mapping4 = {\"Yes\": 1,\"No\": 0}\n",
    "# mapping5 = {\"Expert\": \"Advanced\",\"Beginner\":\"Intermediate\"}\n",
    "# df = df.applymap(lambda x: mapping.get(x, x))\n",
    "# df = df.applymap(lambda x: mapping1.get(x, x))\n",
    "# df = df.applymap(lambda x: mapping2.get(x, x))\n",
    "# df = df.applymap(lambda x: mapping3.get(x, x))\n",
    "# df = df.applymap(lambda x: mapping4.get(x, x))\n",
    "# df = df.applymap(lambda x: mapping5.get(x, x))\n",
    "\n",
    "new_column_names = {'What is you level of familiarity with machine learning concepts?': 'level',\n",
    "                    \"1. The explanation provided helped to understand the model's prediction. To what extent do you agree?\": 'mm1',\n",
    "                    \"1. The explanation provided helped to understand the model's prediction. To what extent do you agree?.1\": 'mm2',\n",
    "                    \"1. The explanation provided helped to understand the model's prediction. To what extent do you agree?.2\": 'mm3',\n",
    "                    \"2. The explanation is clear and easy to comprehend. To what extent do you agree?\":'clr1',\n",
    "                    \"2. Explanation is clear and easy to comprehend. To what extent do you agree?\":'clr2',\n",
    "                    \"2. The explanation is clear and easy to comprehend. To what extent do you agree?.1\":'clr3',\n",
    "                    \"3. The group \\\"Support\\\" enhances the understanding of the model's prediction. To what extent do you agree?\":\"sup1\",\n",
    "                    \"4. The group \\\"Support\\\" enhances the understanding of the model's prediction. To what extent do you agree?\":\"sup2\",\n",
    "                    \"4. The group \\\"Support\\\" enhances the understanding of the model's prediction. To what extent do you agree?.1\":\"sup3\",\n",
    "                    \"3. The group \\\"Support by Contrast\\\" enhances the understanding of the model's prediction. To what extent do you agree?\":\"supc1\",\n",
    "                    \"5. The group \\\"Support by Contrast\\\" enhances the understanding of the model's prediction. To what extent do you agree?\":\"supc2\",\n",
    "                    \"6. The group \\\"Oppose\\\" enhances the understanding of the model's prediction. To what extent do you agree?\": \"op2\",\n",
    "                    \"5. The group \\\"Oppose\\\" enhances the understanding of the model's prediction. To what extent do you agree?\": \"op3\",\n",
    "                    \"7. The group \\\"Oppose by Contrast\\\" enhances the understanding of the model's prediction. To what extent do you agree?\": \"opc2\",\n",
    "                    \"8. The explanation helped me understand how the model's performance can be improved?\":\"haic2\",\n",
    "                    \"6. The explanation helped me understand how the model's performance can be improved?\":\"haic3\",\n",
    "                    '2. To what extent did you find the provided samples relevant to the specific intent you encountered, i.e., interpreting a correct prediction, investigating a wrong prediction, clarifying an ambiguous one?': 'intent',\n",
    "                    '3. Do you believe that the use of contrast in the groups of images shown enhanced your understanding of the model predictions?': 'contrastivity',\n",
    "                    '1. Considering the use cases and explanations provided, how would you rate the overall effectiveness of AIDE in helping to understand model predictions? ':'effectiveness'}\n",
    "\n",
    "# Rename the columns\n",
    "df.rename(columns=new_column_names, inplace=True)"
   ]
  },
  {
   "cell_type": "code",
   "execution_count": 6,
   "id": "6400d15a",
   "metadata": {},
   "outputs": [
    {
     "data": {
      "text/html": [
       "<div>\n",
       "<style scoped>\n",
       "    .dataframe tbody tr th:only-of-type {\n",
       "        vertical-align: middle;\n",
       "    }\n",
       "\n",
       "    .dataframe tbody tr th {\n",
       "        vertical-align: top;\n",
       "    }\n",
       "\n",
       "    .dataframe thead th {\n",
       "        text-align: right;\n",
       "    }\n",
       "</style>\n",
       "<table border=\"1\" class=\"dataframe\">\n",
       "  <thead>\n",
       "    <tr style=\"text-align: right;\">\n",
       "      <th></th>\n",
       "      <th>level</th>\n",
       "      <th>mm1</th>\n",
       "      <th>clr1</th>\n",
       "      <th>sup1</th>\n",
       "      <th>supc1</th>\n",
       "      <th>mm2</th>\n",
       "      <th>clr2</th>\n",
       "      <th>3. The provided explanation helped to understand a possible reason for this wrong prediction. To what extent do you agree?</th>\n",
       "      <th>sup2</th>\n",
       "      <th>supc2</th>\n",
       "      <th>...</th>\n",
       "      <th>haic2</th>\n",
       "      <th>mm3</th>\n",
       "      <th>clr3</th>\n",
       "      <th>3. The explanation helped to understand models behavior for this ambiguous image. To what extent do you agree?</th>\n",
       "      <th>sup3</th>\n",
       "      <th>op3</th>\n",
       "      <th>haic3</th>\n",
       "      <th>effectiveness</th>\n",
       "      <th>intent</th>\n",
       "      <th>contrastivity</th>\n",
       "    </tr>\n",
       "  </thead>\n",
       "  <tbody>\n",
       "    <tr>\n",
       "      <th>0</th>\n",
       "      <td>Beginner</td>\n",
       "      <td>Somewhat agree</td>\n",
       "      <td>Strongly agree</td>\n",
       "      <td>Strongly agree</td>\n",
       "      <td>Strongly agree</td>\n",
       "      <td>Somewhat agree</td>\n",
       "      <td>Somewhat agree</td>\n",
       "      <td>Strongly agree</td>\n",
       "      <td>Disagree</td>\n",
       "      <td>Somewhat disagree</td>\n",
       "      <td>...</td>\n",
       "      <td>Yes</td>\n",
       "      <td>Disagree</td>\n",
       "      <td>Somewhat disagree</td>\n",
       "      <td>Disagree</td>\n",
       "      <td>Somewhat disagree</td>\n",
       "      <td>Somewhat disagree</td>\n",
       "      <td>Yes</td>\n",
       "      <td>Neutral</td>\n",
       "      <td>Neutral</td>\n",
       "      <td>Significantly enhanced</td>\n",
       "    </tr>\n",
       "    <tr>\n",
       "      <th>1</th>\n",
       "      <td>Advanced</td>\n",
       "      <td>Strongly agree</td>\n",
       "      <td>Strongly agree</td>\n",
       "      <td>Strongly agree</td>\n",
       "      <td>Somewhat agree</td>\n",
       "      <td>Strongly agree</td>\n",
       "      <td>Strongly agree</td>\n",
       "      <td>Strongly agree</td>\n",
       "      <td>Strongly agree</td>\n",
       "      <td>Strongly agree</td>\n",
       "      <td>...</td>\n",
       "      <td>Yes</td>\n",
       "      <td>Strongly agree</td>\n",
       "      <td>Strongly agree</td>\n",
       "      <td>Strongly agree</td>\n",
       "      <td>Strongly agree</td>\n",
       "      <td>Strongly agree</td>\n",
       "      <td>Yes</td>\n",
       "      <td>Very effective</td>\n",
       "      <td>Highly relevant</td>\n",
       "      <td>Significantly enhanced</td>\n",
       "    </tr>\n",
       "    <tr>\n",
       "      <th>2</th>\n",
       "      <td>Expert</td>\n",
       "      <td>Neither agree nor disagree</td>\n",
       "      <td>Strongly agree</td>\n",
       "      <td>Strongly agree</td>\n",
       "      <td>Strongly agree</td>\n",
       "      <td>Somewhat agree</td>\n",
       "      <td>Somewhat disagree</td>\n",
       "      <td>Somewhat agree</td>\n",
       "      <td>Somewhat agree</td>\n",
       "      <td>Somewhat disagree</td>\n",
       "      <td>...</td>\n",
       "      <td>No</td>\n",
       "      <td>Disagree</td>\n",
       "      <td>Disagree</td>\n",
       "      <td>Disagree</td>\n",
       "      <td>Somewhat disagree</td>\n",
       "      <td>Somewhat agree</td>\n",
       "      <td>No</td>\n",
       "      <td>Effective</td>\n",
       "      <td>Relevant</td>\n",
       "      <td>Enhanced</td>\n",
       "    </tr>\n",
       "    <tr>\n",
       "      <th>3</th>\n",
       "      <td>Advanced</td>\n",
       "      <td>Somewhat agree</td>\n",
       "      <td>Strongly agree</td>\n",
       "      <td>Strongly agree</td>\n",
       "      <td>Somewhat agree</td>\n",
       "      <td>Somewhat agree</td>\n",
       "      <td>Somewhat agree</td>\n",
       "      <td>Strongly agree</td>\n",
       "      <td>Somewhat agree</td>\n",
       "      <td>Somewhat disagree</td>\n",
       "      <td>...</td>\n",
       "      <td>Yes</td>\n",
       "      <td>Somewhat agree</td>\n",
       "      <td>Strongly agree</td>\n",
       "      <td>Somewhat disagree</td>\n",
       "      <td>Somewhat agree</td>\n",
       "      <td>Somewhat disagree</td>\n",
       "      <td>No</td>\n",
       "      <td>Effective</td>\n",
       "      <td>Relevant</td>\n",
       "      <td>Significantly enhanced</td>\n",
       "    </tr>\n",
       "  </tbody>\n",
       "</table>\n",
       "<p>4 rows × 22 columns</p>\n",
       "</div>"
      ],
      "text/plain": [
       "      level                         mm1            clr1            sup1  \\\n",
       "0  Beginner              Somewhat agree  Strongly agree  Strongly agree   \n",
       "1  Advanced              Strongly agree  Strongly agree  Strongly agree   \n",
       "2    Expert  Neither agree nor disagree  Strongly agree  Strongly agree   \n",
       "3  Advanced              Somewhat agree  Strongly agree  Strongly agree   \n",
       "\n",
       "            supc1             mm2               clr2  \\\n",
       "0  Strongly agree  Somewhat agree     Somewhat agree   \n",
       "1  Somewhat agree  Strongly agree     Strongly agree   \n",
       "2  Strongly agree  Somewhat agree  Somewhat disagree   \n",
       "3  Somewhat agree  Somewhat agree     Somewhat agree   \n",
       "\n",
       "  3. The provided explanation helped to understand a possible reason for this wrong prediction. To what extent do you agree?  \\\n",
       "0                                     Strongly agree                                                                           \n",
       "1                                     Strongly agree                                                                           \n",
       "2                                     Somewhat agree                                                                           \n",
       "3                                     Strongly agree                                                                           \n",
       "\n",
       "             sup2              supc2  ... haic2             mm3  \\\n",
       "0        Disagree  Somewhat disagree  ...   Yes        Disagree   \n",
       "1  Strongly agree     Strongly agree  ...   Yes  Strongly agree   \n",
       "2  Somewhat agree  Somewhat disagree  ...    No        Disagree   \n",
       "3  Somewhat agree  Somewhat disagree  ...   Yes  Somewhat agree   \n",
       "\n",
       "                clr3  \\\n",
       "0  Somewhat disagree   \n",
       "1     Strongly agree   \n",
       "2           Disagree   \n",
       "3     Strongly agree   \n",
       "\n",
       "  3. The explanation helped to understand models behavior for this ambiguous image. To what extent do you agree?  \\\n",
       "0                                           Disagree                                                               \n",
       "1                                     Strongly agree                                                               \n",
       "2                                           Disagree                                                               \n",
       "3                                  Somewhat disagree                                                               \n",
       "\n",
       "                sup3                op3 haic3   effectiveness  \\\n",
       "0  Somewhat disagree  Somewhat disagree   Yes         Neutral   \n",
       "1     Strongly agree     Strongly agree   Yes  Very effective   \n",
       "2  Somewhat disagree     Somewhat agree    No       Effective   \n",
       "3     Somewhat agree  Somewhat disagree    No       Effective   \n",
       "\n",
       "            intent           contrastivity  \n",
       "0          Neutral  Significantly enhanced  \n",
       "1  Highly relevant  Significantly enhanced  \n",
       "2         Relevant                Enhanced  \n",
       "3         Relevant  Significantly enhanced  \n",
       "\n",
       "[4 rows x 22 columns]"
      ]
     },
     "execution_count": 6,
     "metadata": {},
     "output_type": "execute_result"
    }
   ],
   "source": [
    "df.head(4)"
   ]
  },
  {
   "cell_type": "code",
   "execution_count": 7,
   "id": "6d42fa16",
   "metadata": {},
   "outputs": [
    {
     "data": {
      "text/plain": [
       "Advanced        13\n",
       "Intermediate    11\n",
       "Beginner         4\n",
       "Expert           3\n",
       "Name: level, dtype: int64"
      ]
     },
     "execution_count": 7,
     "metadata": {},
     "output_type": "execute_result"
    }
   ],
   "source": [
    "df[\"level\"].value_counts()"
   ]
  },
  {
   "cell_type": "code",
   "execution_count": 8,
   "id": "50b46b0d",
   "metadata": {},
   "outputs": [
    {
     "data": {
      "text/plain": [
       "a             Support                   \n",
       "Advanced      Somewhat agree                8\n",
       "              Neither agree nor disagree    7\n",
       "              Strongly agree                7\n",
       "              Somewhat disagree             4\n",
       "Beginner      Somewhat agree                6\n",
       "              Somewhat disagree             1\n",
       "              Strongly agree                1\n",
       "Expert        Somewhat disagree             2\n",
       "              Strongly agree                2\n",
       "              Neither agree nor disagree    1\n",
       "              Somewhat agree                1\n",
       "Intermediate  Somewhat agree                8\n",
       "              Strongly agree                8\n",
       "              Somewhat disagree             4\n",
       "              Neither agree nor disagree    2\n",
       "dtype: int64"
      ]
     },
     "execution_count": 8,
     "metadata": {},
     "output_type": "execute_result"
    }
   ],
   "source": [
    "a = pd.concat([df[\"level\"], df[\"level\"]], ignore_index=True)\n",
    "\n",
    "concatenated = pd.concat([df[\"op2\"], df[\"op3\"]], ignore_index=True)\n",
    "new_df = pd.DataFrame({'a': a, 'Support': concatenated})\n",
    "new_df.groupby(\"a\").value_counts()"
   ]
  },
  {
   "cell_type": "code",
   "execution_count": 9,
   "id": "2f1d80da",
   "metadata": {},
   "outputs": [
    {
     "data": {
      "text/plain": [
       "level         mm2                       \n",
       "Advanced      Somewhat agree                0.538462\n",
       "              Strongly agree                0.307692\n",
       "              Neither agree nor disagree    0.076923\n",
       "              Somewhat disagree             0.076923\n",
       "Beginner      Somewhat agree                1.000000\n",
       "Expert        Somewhat agree                0.666667\n",
       "              Strongly agree                0.333333\n",
       "Intermediate  Somewhat agree                0.272727\n",
       "              Somewhat disagree             0.272727\n",
       "              Strongly agree                0.272727\n",
       "              Neither agree nor disagree    0.181818\n",
       "Name: mm2, dtype: float64"
      ]
     },
     "execution_count": 9,
     "metadata": {},
     "output_type": "execute_result"
    }
   ],
   "source": [
    "# Mental Model\n",
    "df.groupby(\"level\")[\"mm2\"].value_counts(1)"
   ]
  },
  {
   "cell_type": "code",
   "execution_count": 10,
   "id": "77719ed1",
   "metadata": {},
   "outputs": [
    {
     "data": {
      "text/plain": [
       "level         clr1             \n",
       "Advanced      Strongly agree       0.692308\n",
       "              Somewhat agree       0.230769\n",
       "              Disagree             0.076923\n",
       "Beginner      Somewhat agree       0.750000\n",
       "              Strongly agree       0.250000\n",
       "Expert        Strongly agree       0.666667\n",
       "              Somewhat agree       0.333333\n",
       "Intermediate  Strongly agree       0.545455\n",
       "              Somewhat agree       0.272727\n",
       "              Somewhat disagree    0.181818\n",
       "Name: clr1, dtype: float64"
      ]
     },
     "execution_count": 10,
     "metadata": {},
     "output_type": "execute_result"
    }
   ],
   "source": [
    "# Clarity of Explanation\n",
    "df.groupby(\"level\")[\"clr1\"].value_counts(1)"
   ]
  },
  {
   "cell_type": "code",
   "execution_count": 11,
   "id": "024c901a",
   "metadata": {},
   "outputs": [
    {
     "data": {
      "text/plain": [
       "level         haic2\n",
       "Advanced      Yes      0.923077\n",
       "              No       0.076923\n",
       "Beginner      Yes      0.750000\n",
       "              No       0.250000\n",
       "Expert        Yes      0.666667\n",
       "              No       0.333333\n",
       "Intermediate  Yes      0.909091\n",
       "              No       0.090909\n",
       "Name: haic2, dtype: float64"
      ]
     },
     "execution_count": 11,
     "metadata": {},
     "output_type": "execute_result"
    }
   ],
   "source": [
    "# Human-AI Collaboration\n",
    "df.groupby(\"level\")[\"haic2\"].value_counts(1)"
   ]
  },
  {
   "cell_type": "code",
   "execution_count": 12,
   "id": "877568fa",
   "metadata": {},
   "outputs": [
    {
     "data": {
      "text/plain": [
       "level         intent         \n",
       "Advanced      Relevant           0.538462\n",
       "              Highly relevant    0.461538\n",
       "Beginner      Neutral            0.500000\n",
       "              Relevant           0.500000\n",
       "Expert        Relevant           1.000000\n",
       "Intermediate  Relevant           0.545455\n",
       "              Highly relevant    0.272727\n",
       "              Neutral            0.181818\n",
       "Name: intent, dtype: float64"
      ]
     },
     "execution_count": 12,
     "metadata": {},
     "output_type": "execute_result"
    }
   ],
   "source": [
    "# Helpfulness\n",
    "df.groupby(\"level\")[\"intent\"].value_counts(1)"
   ]
  },
  {
   "cell_type": "code",
   "execution_count": 13,
   "id": "c1ff6a62",
   "metadata": {},
   "outputs": [
    {
     "data": {
      "text/plain": [
       "level         contrastivity         \n",
       "Advanced      Significantly enhanced    0.692308\n",
       "              Enhanced                  0.307692\n",
       "Beginner      Significantly enhanced    0.750000\n",
       "              Enhanced                  0.250000\n",
       "Expert        Enhanced                  0.666667\n",
       "              Significantly enhanced    0.333333\n",
       "Intermediate  Enhanced                  0.545455\n",
       "              Neutral                   0.272727\n",
       "              Significantly enhanced    0.181818\n",
       "Name: contrastivity, dtype: float64"
      ]
     },
     "execution_count": 13,
     "metadata": {},
     "output_type": "execute_result"
    }
   ],
   "source": [
    "# Contrativity Usefulness\n",
    "df.groupby(\"level\")[\"contrastivity\"].value_counts(1)"
   ]
  },
  {
   "cell_type": "code",
   "execution_count": 14,
   "id": "7a78f031",
   "metadata": {},
   "outputs": [
    {
     "data": {
      "text/plain": [
       "level         effectiveness \n",
       "Advanced      Effective         0.538462\n",
       "              Very effective    0.307692\n",
       "              Neutral           0.153846\n",
       "Beginner      Effective         0.750000\n",
       "              Neutral           0.250000\n",
       "Expert        Effective         0.666667\n",
       "              Very effective    0.333333\n",
       "Intermediate  Effective         0.727273\n",
       "              Ineffective       0.090909\n",
       "              Neutral           0.090909\n",
       "              Very effective    0.090909\n",
       "Name: effectiveness, dtype: float64"
      ]
     },
     "execution_count": 14,
     "metadata": {},
     "output_type": "execute_result"
    }
   ],
   "source": [
    "# Overall Effectiveness\n",
    "df.groupby(\"level\")[\"effectiveness\"].value_counts(1)"
   ]
  },
  {
   "cell_type": "code",
   "execution_count": null,
   "id": "1ce2e309",
   "metadata": {},
   "outputs": [],
   "source": []
  }
 ],
 "metadata": {
  "kernelspec": {
   "display_name": "Python 3 (ipykernel)",
   "language": "python",
   "name": "python3"
  },
  "language_info": {
   "codemirror_mode": {
    "name": "ipython",
    "version": 3
   },
   "file_extension": ".py",
   "mimetype": "text/x-python",
   "name": "python",
   "nbconvert_exporter": "python",
   "pygments_lexer": "ipython3",
   "version": "3.9.13"
  }
 },
 "nbformat": 4,
 "nbformat_minor": 5
}
